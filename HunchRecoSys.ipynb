{
  "nbformat": 4,
  "nbformat_minor": 0,
  "metadata": {
    "colab": {
      "provenance": [],
      "authorship_tag": "ABX9TyOtwLljf7Rlzkz1BPS/xRdw",
      "include_colab_link": true
    },
    "kernelspec": {
      "name": "python3",
      "display_name": "Python 3"
    },
    "language_info": {
      "name": "python"
    },
    "widgets": {
      "application/vnd.jupyter.widget-state+json": {
        "956d4c13a771453ba3d8caca513e3a5f": {
          "model_module": "@jupyter-widgets/controls",
          "model_name": "HBoxModel",
          "model_module_version": "1.5.0",
          "state": {
            "_dom_classes": [],
            "_model_module": "@jupyter-widgets/controls",
            "_model_module_version": "1.5.0",
            "_model_name": "HBoxModel",
            "_view_count": null,
            "_view_module": "@jupyter-widgets/controls",
            "_view_module_version": "1.5.0",
            "_view_name": "HBoxView",
            "box_style": "",
            "children": [
              "IPY_MODEL_b3b0833943584c40a0bed1921604eb86",
              "IPY_MODEL_95a57a9998854b96bfc4b568eb93b7bc",
              "IPY_MODEL_d5c890f9e61e45fe8da7b3f64ec2f622"
            ],
            "layout": "IPY_MODEL_08415129939e4a819af6cd8066ddb026"
          }
        },
        "b3b0833943584c40a0bed1921604eb86": {
          "model_module": "@jupyter-widgets/controls",
          "model_name": "HTMLModel",
          "model_module_version": "1.5.0",
          "state": {
            "_dom_classes": [],
            "_model_module": "@jupyter-widgets/controls",
            "_model_module_version": "1.5.0",
            "_model_name": "HTMLModel",
            "_view_count": null,
            "_view_module": "@jupyter-widgets/controls",
            "_view_module_version": "1.5.0",
            "_view_name": "HTMLView",
            "description": "",
            "description_tooltip": null,
            "layout": "IPY_MODEL_ed07699e293b42d0a0328de46c06c81b",
            "placeholder": "​",
            "style": "IPY_MODEL_e00f4a3f17af4489a5a9d9ef427b31fa",
            "value": "100%"
          }
        },
        "95a57a9998854b96bfc4b568eb93b7bc": {
          "model_module": "@jupyter-widgets/controls",
          "model_name": "FloatProgressModel",
          "model_module_version": "1.5.0",
          "state": {
            "_dom_classes": [],
            "_model_module": "@jupyter-widgets/controls",
            "_model_module_version": "1.5.0",
            "_model_name": "FloatProgressModel",
            "_view_count": null,
            "_view_module": "@jupyter-widgets/controls",
            "_view_module_version": "1.5.0",
            "_view_name": "ProgressView",
            "bar_style": "success",
            "description": "",
            "description_tooltip": null,
            "layout": "IPY_MODEL_64ec400a42e64de0868750884235a7c0",
            "max": 20,
            "min": 0,
            "orientation": "horizontal",
            "style": "IPY_MODEL_9e2b1e4f3cde451c9fdad7c5d929b5fc",
            "value": 20
          }
        },
        "d5c890f9e61e45fe8da7b3f64ec2f622": {
          "model_module": "@jupyter-widgets/controls",
          "model_name": "HTMLModel",
          "model_module_version": "1.5.0",
          "state": {
            "_dom_classes": [],
            "_model_module": "@jupyter-widgets/controls",
            "_model_module_version": "1.5.0",
            "_model_name": "HTMLModel",
            "_view_count": null,
            "_view_module": "@jupyter-widgets/controls",
            "_view_module_version": "1.5.0",
            "_view_name": "HTMLView",
            "description": "",
            "description_tooltip": null,
            "layout": "IPY_MODEL_4426be474bf3415cb08d2317e684c45f",
            "placeholder": "​",
            "style": "IPY_MODEL_0c29167391e44dcaad3d6b703085612c",
            "value": " 20/20 [00:15&lt;00:00,  1.26it/s]"
          }
        },
        "08415129939e4a819af6cd8066ddb026": {
          "model_module": "@jupyter-widgets/base",
          "model_name": "LayoutModel",
          "model_module_version": "1.2.0",
          "state": {
            "_model_module": "@jupyter-widgets/base",
            "_model_module_version": "1.2.0",
            "_model_name": "LayoutModel",
            "_view_count": null,
            "_view_module": "@jupyter-widgets/base",
            "_view_module_version": "1.2.0",
            "_view_name": "LayoutView",
            "align_content": null,
            "align_items": null,
            "align_self": null,
            "border": null,
            "bottom": null,
            "display": null,
            "flex": null,
            "flex_flow": null,
            "grid_area": null,
            "grid_auto_columns": null,
            "grid_auto_flow": null,
            "grid_auto_rows": null,
            "grid_column": null,
            "grid_gap": null,
            "grid_row": null,
            "grid_template_areas": null,
            "grid_template_columns": null,
            "grid_template_rows": null,
            "height": null,
            "justify_content": null,
            "justify_items": null,
            "left": null,
            "margin": null,
            "max_height": null,
            "max_width": null,
            "min_height": null,
            "min_width": null,
            "object_fit": null,
            "object_position": null,
            "order": null,
            "overflow": null,
            "overflow_x": null,
            "overflow_y": null,
            "padding": null,
            "right": null,
            "top": null,
            "visibility": null,
            "width": null
          }
        },
        "ed07699e293b42d0a0328de46c06c81b": {
          "model_module": "@jupyter-widgets/base",
          "model_name": "LayoutModel",
          "model_module_version": "1.2.0",
          "state": {
            "_model_module": "@jupyter-widgets/base",
            "_model_module_version": "1.2.0",
            "_model_name": "LayoutModel",
            "_view_count": null,
            "_view_module": "@jupyter-widgets/base",
            "_view_module_version": "1.2.0",
            "_view_name": "LayoutView",
            "align_content": null,
            "align_items": null,
            "align_self": null,
            "border": null,
            "bottom": null,
            "display": null,
            "flex": null,
            "flex_flow": null,
            "grid_area": null,
            "grid_auto_columns": null,
            "grid_auto_flow": null,
            "grid_auto_rows": null,
            "grid_column": null,
            "grid_gap": null,
            "grid_row": null,
            "grid_template_areas": null,
            "grid_template_columns": null,
            "grid_template_rows": null,
            "height": null,
            "justify_content": null,
            "justify_items": null,
            "left": null,
            "margin": null,
            "max_height": null,
            "max_width": null,
            "min_height": null,
            "min_width": null,
            "object_fit": null,
            "object_position": null,
            "order": null,
            "overflow": null,
            "overflow_x": null,
            "overflow_y": null,
            "padding": null,
            "right": null,
            "top": null,
            "visibility": null,
            "width": null
          }
        },
        "e00f4a3f17af4489a5a9d9ef427b31fa": {
          "model_module": "@jupyter-widgets/controls",
          "model_name": "DescriptionStyleModel",
          "model_module_version": "1.5.0",
          "state": {
            "_model_module": "@jupyter-widgets/controls",
            "_model_module_version": "1.5.0",
            "_model_name": "DescriptionStyleModel",
            "_view_count": null,
            "_view_module": "@jupyter-widgets/base",
            "_view_module_version": "1.2.0",
            "_view_name": "StyleView",
            "description_width": ""
          }
        },
        "64ec400a42e64de0868750884235a7c0": {
          "model_module": "@jupyter-widgets/base",
          "model_name": "LayoutModel",
          "model_module_version": "1.2.0",
          "state": {
            "_model_module": "@jupyter-widgets/base",
            "_model_module_version": "1.2.0",
            "_model_name": "LayoutModel",
            "_view_count": null,
            "_view_module": "@jupyter-widgets/base",
            "_view_module_version": "1.2.0",
            "_view_name": "LayoutView",
            "align_content": null,
            "align_items": null,
            "align_self": null,
            "border": null,
            "bottom": null,
            "display": null,
            "flex": null,
            "flex_flow": null,
            "grid_area": null,
            "grid_auto_columns": null,
            "grid_auto_flow": null,
            "grid_auto_rows": null,
            "grid_column": null,
            "grid_gap": null,
            "grid_row": null,
            "grid_template_areas": null,
            "grid_template_columns": null,
            "grid_template_rows": null,
            "height": null,
            "justify_content": null,
            "justify_items": null,
            "left": null,
            "margin": null,
            "max_height": null,
            "max_width": null,
            "min_height": null,
            "min_width": null,
            "object_fit": null,
            "object_position": null,
            "order": null,
            "overflow": null,
            "overflow_x": null,
            "overflow_y": null,
            "padding": null,
            "right": null,
            "top": null,
            "visibility": null,
            "width": null
          }
        },
        "9e2b1e4f3cde451c9fdad7c5d929b5fc": {
          "model_module": "@jupyter-widgets/controls",
          "model_name": "ProgressStyleModel",
          "model_module_version": "1.5.0",
          "state": {
            "_model_module": "@jupyter-widgets/controls",
            "_model_module_version": "1.5.0",
            "_model_name": "ProgressStyleModel",
            "_view_count": null,
            "_view_module": "@jupyter-widgets/base",
            "_view_module_version": "1.2.0",
            "_view_name": "StyleView",
            "bar_color": null,
            "description_width": ""
          }
        },
        "4426be474bf3415cb08d2317e684c45f": {
          "model_module": "@jupyter-widgets/base",
          "model_name": "LayoutModel",
          "model_module_version": "1.2.0",
          "state": {
            "_model_module": "@jupyter-widgets/base",
            "_model_module_version": "1.2.0",
            "_model_name": "LayoutModel",
            "_view_count": null,
            "_view_module": "@jupyter-widgets/base",
            "_view_module_version": "1.2.0",
            "_view_name": "LayoutView",
            "align_content": null,
            "align_items": null,
            "align_self": null,
            "border": null,
            "bottom": null,
            "display": null,
            "flex": null,
            "flex_flow": null,
            "grid_area": null,
            "grid_auto_columns": null,
            "grid_auto_flow": null,
            "grid_auto_rows": null,
            "grid_column": null,
            "grid_gap": null,
            "grid_row": null,
            "grid_template_areas": null,
            "grid_template_columns": null,
            "grid_template_rows": null,
            "height": null,
            "justify_content": null,
            "justify_items": null,
            "left": null,
            "margin": null,
            "max_height": null,
            "max_width": null,
            "min_height": null,
            "min_width": null,
            "object_fit": null,
            "object_position": null,
            "order": null,
            "overflow": null,
            "overflow_x": null,
            "overflow_y": null,
            "padding": null,
            "right": null,
            "top": null,
            "visibility": null,
            "width": null
          }
        },
        "0c29167391e44dcaad3d6b703085612c": {
          "model_module": "@jupyter-widgets/controls",
          "model_name": "DescriptionStyleModel",
          "model_module_version": "1.5.0",
          "state": {
            "_model_module": "@jupyter-widgets/controls",
            "_model_module_version": "1.5.0",
            "_model_name": "DescriptionStyleModel",
            "_view_count": null,
            "_view_module": "@jupyter-widgets/base",
            "_view_module_version": "1.2.0",
            "_view_name": "StyleView",
            "description_width": ""
          }
        }
      }
    }
  },
  "cells": [
    {
      "cell_type": "markdown",
      "metadata": {
        "id": "view-in-github",
        "colab_type": "text"
      },
      "source": [
        "<a href=\"https://colab.research.google.com/github/narayansharma275/RandomML/blob/main/HunchRecoSys.ipynb\" target=\"_parent\"><img src=\"https://colab.research.google.com/assets/colab-badge.svg\" alt=\"Open In Colab\"/></a>"
      ]
    },
    {
      "cell_type": "code",
      "execution_count": 53,
      "metadata": {
        "id": "1ixzmZJgdoHU"
      },
      "outputs": [],
      "source": [
        "import numpy as np\n",
        "import pandas as pd\n",
        "import matplotlib.pyplot as plt\n",
        "import seaborn as sns\n",
        "import random"
      ]
    },
    {
      "cell_type": "code",
      "source": [
        "from google.colab import drive\n",
        "drive.mount('/content/drive')"
      ],
      "metadata": {
        "colab": {
          "base_uri": "https://localhost:8080/"
        },
        "id": "jW58M9CScJcy",
        "outputId": "86edec6b-10c9-431f-b587-0ae83a8f740c"
      },
      "execution_count": 2,
      "outputs": [
        {
          "output_type": "stream",
          "name": "stdout",
          "text": [
            "Mounted at /content/drive\n"
          ]
        }
      ]
    },
    {
      "cell_type": "code",
      "source": [
        "data = pd.read_excel(\"/content/drive/MyDrive/ML/hunch_data.xlsx\")"
      ],
      "metadata": {
        "id": "uaiYRO7geCGB"
      },
      "execution_count": 3,
      "outputs": []
    },
    {
      "cell_type": "code",
      "source": [
        "len(data)"
      ],
      "metadata": {
        "colab": {
          "base_uri": "https://localhost:8080/"
        },
        "id": "DPqTKgdXtXcE",
        "outputId": "ded71463-8053-428a-c52d-83b9fa496fd7"
      },
      "execution_count": 4,
      "outputs": [
        {
          "output_type": "execute_result",
          "data": {
            "text/plain": [
              "251181"
            ]
          },
          "metadata": {},
          "execution_count": 4
        }
      ]
    },
    {
      "cell_type": "code",
      "source": [
        "polls_df = pd.read_excel(\"/content/drive/MyDrive/ML/hunch_data.xlsx\", sheet_name=1)\n",
        "polls_df.head()"
      ],
      "metadata": {
        "colab": {
          "base_uri": "https://localhost:8080/",
          "height": 206
        },
        "id": "WLF3QgxXh7WR",
        "outputId": "91d6bb67-a5be-47d6-df28-5e6bbb63bd14"
      },
      "execution_count": 6,
      "outputs": [
        {
          "output_type": "execute_result",
          "data": {
            "text/plain": [
              "  poll_code displayType               categories\n",
              "0    poll_3        text            Movies and TV\n",
              "1    poll_4        text                    Other\n",
              "2    poll_7        text          Food and Drinks\n",
              "3   poll_11        text  Dating and Relationship\n",
              "4   poll_12        text         Would You Rather"
            ],
            "text/html": [
              "\n",
              "  <div id=\"df-f04c0314-12e4-4333-9f2c-b1b8e36b1fd1\" class=\"colab-df-container\">\n",
              "    <div>\n",
              "<style scoped>\n",
              "    .dataframe tbody tr th:only-of-type {\n",
              "        vertical-align: middle;\n",
              "    }\n",
              "\n",
              "    .dataframe tbody tr th {\n",
              "        vertical-align: top;\n",
              "    }\n",
              "\n",
              "    .dataframe thead th {\n",
              "        text-align: right;\n",
              "    }\n",
              "</style>\n",
              "<table border=\"1\" class=\"dataframe\">\n",
              "  <thead>\n",
              "    <tr style=\"text-align: right;\">\n",
              "      <th></th>\n",
              "      <th>poll_code</th>\n",
              "      <th>displayType</th>\n",
              "      <th>categories</th>\n",
              "    </tr>\n",
              "  </thead>\n",
              "  <tbody>\n",
              "    <tr>\n",
              "      <th>0</th>\n",
              "      <td>poll_3</td>\n",
              "      <td>text</td>\n",
              "      <td>Movies and TV</td>\n",
              "    </tr>\n",
              "    <tr>\n",
              "      <th>1</th>\n",
              "      <td>poll_4</td>\n",
              "      <td>text</td>\n",
              "      <td>Other</td>\n",
              "    </tr>\n",
              "    <tr>\n",
              "      <th>2</th>\n",
              "      <td>poll_7</td>\n",
              "      <td>text</td>\n",
              "      <td>Food and Drinks</td>\n",
              "    </tr>\n",
              "    <tr>\n",
              "      <th>3</th>\n",
              "      <td>poll_11</td>\n",
              "      <td>text</td>\n",
              "      <td>Dating and Relationship</td>\n",
              "    </tr>\n",
              "    <tr>\n",
              "      <th>4</th>\n",
              "      <td>poll_12</td>\n",
              "      <td>text</td>\n",
              "      <td>Would You Rather</td>\n",
              "    </tr>\n",
              "  </tbody>\n",
              "</table>\n",
              "</div>\n",
              "    <div class=\"colab-df-buttons\">\n",
              "\n",
              "  <div class=\"colab-df-container\">\n",
              "    <button class=\"colab-df-convert\" onclick=\"convertToInteractive('df-f04c0314-12e4-4333-9f2c-b1b8e36b1fd1')\"\n",
              "            title=\"Convert this dataframe to an interactive table.\"\n",
              "            style=\"display:none;\">\n",
              "\n",
              "  <svg xmlns=\"http://www.w3.org/2000/svg\" height=\"24px\" viewBox=\"0 -960 960 960\">\n",
              "    <path d=\"M120-120v-720h720v720H120Zm60-500h600v-160H180v160Zm220 220h160v-160H400v160Zm0 220h160v-160H400v160ZM180-400h160v-160H180v160Zm440 0h160v-160H620v160ZM180-180h160v-160H180v160Zm440 0h160v-160H620v160Z\"/>\n",
              "  </svg>\n",
              "    </button>\n",
              "\n",
              "  <style>\n",
              "    .colab-df-container {\n",
              "      display:flex;\n",
              "      gap: 12px;\n",
              "    }\n",
              "\n",
              "    .colab-df-convert {\n",
              "      background-color: #E8F0FE;\n",
              "      border: none;\n",
              "      border-radius: 50%;\n",
              "      cursor: pointer;\n",
              "      display: none;\n",
              "      fill: #1967D2;\n",
              "      height: 32px;\n",
              "      padding: 0 0 0 0;\n",
              "      width: 32px;\n",
              "    }\n",
              "\n",
              "    .colab-df-convert:hover {\n",
              "      background-color: #E2EBFA;\n",
              "      box-shadow: 0px 1px 2px rgba(60, 64, 67, 0.3), 0px 1px 3px 1px rgba(60, 64, 67, 0.15);\n",
              "      fill: #174EA6;\n",
              "    }\n",
              "\n",
              "    .colab-df-buttons div {\n",
              "      margin-bottom: 4px;\n",
              "    }\n",
              "\n",
              "    [theme=dark] .colab-df-convert {\n",
              "      background-color: #3B4455;\n",
              "      fill: #D2E3FC;\n",
              "    }\n",
              "\n",
              "    [theme=dark] .colab-df-convert:hover {\n",
              "      background-color: #434B5C;\n",
              "      box-shadow: 0px 1px 3px 1px rgba(0, 0, 0, 0.15);\n",
              "      filter: drop-shadow(0px 1px 2px rgba(0, 0, 0, 0.3));\n",
              "      fill: #FFFFFF;\n",
              "    }\n",
              "  </style>\n",
              "\n",
              "    <script>\n",
              "      const buttonEl =\n",
              "        document.querySelector('#df-f04c0314-12e4-4333-9f2c-b1b8e36b1fd1 button.colab-df-convert');\n",
              "      buttonEl.style.display =\n",
              "        google.colab.kernel.accessAllowed ? 'block' : 'none';\n",
              "\n",
              "      async function convertToInteractive(key) {\n",
              "        const element = document.querySelector('#df-f04c0314-12e4-4333-9f2c-b1b8e36b1fd1');\n",
              "        const dataTable =\n",
              "          await google.colab.kernel.invokeFunction('convertToInteractive',\n",
              "                                                    [key], {});\n",
              "        if (!dataTable) return;\n",
              "\n",
              "        const docLinkHtml = 'Like what you see? Visit the ' +\n",
              "          '<a target=\"_blank\" href=https://colab.research.google.com/notebooks/data_table.ipynb>data table notebook</a>'\n",
              "          + ' to learn more about interactive tables.';\n",
              "        element.innerHTML = '';\n",
              "        dataTable['output_type'] = 'display_data';\n",
              "        await google.colab.output.renderOutput(dataTable, element);\n",
              "        const docLink = document.createElement('div');\n",
              "        docLink.innerHTML = docLinkHtml;\n",
              "        element.appendChild(docLink);\n",
              "      }\n",
              "    </script>\n",
              "  </div>\n",
              "\n",
              "\n",
              "<div id=\"df-100d8363-87eb-4422-b8ad-5e7f17dfe819\">\n",
              "  <button class=\"colab-df-quickchart\" onclick=\"quickchart('df-100d8363-87eb-4422-b8ad-5e7f17dfe819')\"\n",
              "            title=\"Suggest charts.\"\n",
              "            style=\"display:none;\">\n",
              "\n",
              "<svg xmlns=\"http://www.w3.org/2000/svg\" height=\"24px\"viewBox=\"0 0 24 24\"\n",
              "     width=\"24px\">\n",
              "    <g>\n",
              "        <path d=\"M19 3H5c-1.1 0-2 .9-2 2v14c0 1.1.9 2 2 2h14c1.1 0 2-.9 2-2V5c0-1.1-.9-2-2-2zM9 17H7v-7h2v7zm4 0h-2V7h2v10zm4 0h-2v-4h2v4z\"/>\n",
              "    </g>\n",
              "</svg>\n",
              "  </button>\n",
              "\n",
              "<style>\n",
              "  .colab-df-quickchart {\n",
              "      --bg-color: #E8F0FE;\n",
              "      --fill-color: #1967D2;\n",
              "      --hover-bg-color: #E2EBFA;\n",
              "      --hover-fill-color: #174EA6;\n",
              "      --disabled-fill-color: #AAA;\n",
              "      --disabled-bg-color: #DDD;\n",
              "  }\n",
              "\n",
              "  [theme=dark] .colab-df-quickchart {\n",
              "      --bg-color: #3B4455;\n",
              "      --fill-color: #D2E3FC;\n",
              "      --hover-bg-color: #434B5C;\n",
              "      --hover-fill-color: #FFFFFF;\n",
              "      --disabled-bg-color: #3B4455;\n",
              "      --disabled-fill-color: #666;\n",
              "  }\n",
              "\n",
              "  .colab-df-quickchart {\n",
              "    background-color: var(--bg-color);\n",
              "    border: none;\n",
              "    border-radius: 50%;\n",
              "    cursor: pointer;\n",
              "    display: none;\n",
              "    fill: var(--fill-color);\n",
              "    height: 32px;\n",
              "    padding: 0;\n",
              "    width: 32px;\n",
              "  }\n",
              "\n",
              "  .colab-df-quickchart:hover {\n",
              "    background-color: var(--hover-bg-color);\n",
              "    box-shadow: 0 1px 2px rgba(60, 64, 67, 0.3), 0 1px 3px 1px rgba(60, 64, 67, 0.15);\n",
              "    fill: var(--button-hover-fill-color);\n",
              "  }\n",
              "\n",
              "  .colab-df-quickchart-complete:disabled,\n",
              "  .colab-df-quickchart-complete:disabled:hover {\n",
              "    background-color: var(--disabled-bg-color);\n",
              "    fill: var(--disabled-fill-color);\n",
              "    box-shadow: none;\n",
              "  }\n",
              "\n",
              "  .colab-df-spinner {\n",
              "    border: 2px solid var(--fill-color);\n",
              "    border-color: transparent;\n",
              "    border-bottom-color: var(--fill-color);\n",
              "    animation:\n",
              "      spin 1s steps(1) infinite;\n",
              "  }\n",
              "\n",
              "  @keyframes spin {\n",
              "    0% {\n",
              "      border-color: transparent;\n",
              "      border-bottom-color: var(--fill-color);\n",
              "      border-left-color: var(--fill-color);\n",
              "    }\n",
              "    20% {\n",
              "      border-color: transparent;\n",
              "      border-left-color: var(--fill-color);\n",
              "      border-top-color: var(--fill-color);\n",
              "    }\n",
              "    30% {\n",
              "      border-color: transparent;\n",
              "      border-left-color: var(--fill-color);\n",
              "      border-top-color: var(--fill-color);\n",
              "      border-right-color: var(--fill-color);\n",
              "    }\n",
              "    40% {\n",
              "      border-color: transparent;\n",
              "      border-right-color: var(--fill-color);\n",
              "      border-top-color: var(--fill-color);\n",
              "    }\n",
              "    60% {\n",
              "      border-color: transparent;\n",
              "      border-right-color: var(--fill-color);\n",
              "    }\n",
              "    80% {\n",
              "      border-color: transparent;\n",
              "      border-right-color: var(--fill-color);\n",
              "      border-bottom-color: var(--fill-color);\n",
              "    }\n",
              "    90% {\n",
              "      border-color: transparent;\n",
              "      border-bottom-color: var(--fill-color);\n",
              "    }\n",
              "  }\n",
              "</style>\n",
              "\n",
              "  <script>\n",
              "    async function quickchart(key) {\n",
              "      const quickchartButtonEl =\n",
              "        document.querySelector('#' + key + ' button');\n",
              "      quickchartButtonEl.disabled = true;  // To prevent multiple clicks.\n",
              "      quickchartButtonEl.classList.add('colab-df-spinner');\n",
              "      try {\n",
              "        const charts = await google.colab.kernel.invokeFunction(\n",
              "            'suggestCharts', [key], {});\n",
              "      } catch (error) {\n",
              "        console.error('Error during call to suggestCharts:', error);\n",
              "      }\n",
              "      quickchartButtonEl.classList.remove('colab-df-spinner');\n",
              "      quickchartButtonEl.classList.add('colab-df-quickchart-complete');\n",
              "    }\n",
              "    (() => {\n",
              "      let quickchartButtonEl =\n",
              "        document.querySelector('#df-100d8363-87eb-4422-b8ad-5e7f17dfe819 button');\n",
              "      quickchartButtonEl.style.display =\n",
              "        google.colab.kernel.accessAllowed ? 'block' : 'none';\n",
              "    })();\n",
              "  </script>\n",
              "</div>\n",
              "    </div>\n",
              "  </div>\n"
            ]
          },
          "metadata": {},
          "execution_count": 6
        }
      ]
    },
    {
      "cell_type": "code",
      "source": [
        "plt.figure(figsize=(15,5))\n",
        "top_categories = polls_df.categories.value_counts(normalize=True).head(10)*100\n",
        "sns.barplot(x=top_categories.index, y=top_categories.values, palette=\"viridis\")\n",
        "plt.xticks(rotation=45)\n",
        "plt.show()"
      ],
      "metadata": {
        "colab": {
          "base_uri": "https://localhost:8080/",
          "height": 559
        },
        "id": "hxTJlQaXmwWg",
        "outputId": "467aae2c-4719-4eaf-ec90-8144527f0dd3"
      },
      "execution_count": 7,
      "outputs": [
        {
          "output_type": "display_data",
          "data": {
            "text/plain": [
              "<Figure size 1500x500 with 1 Axes>"
            ],
            "image/png": "[encoded data removed]"
          },
          "metadata": {}
        }
      ]
    },
    {
      "cell_type": "markdown",
      "source": [
        "Almost 50% of the Poll Categories are \"Other, Dating or Random\""
      ],
      "metadata": {
        "id": "cgeo5XYGpQw0"
      }
    },
    {
      "cell_type": "code",
      "source": [],
      "metadata": {
        "id": "LjZTs6l1pQX-"
      },
      "execution_count": null,
      "outputs": []
    },
    {
      "cell_type": "code",
      "source": [
        "  polls_df.displayType.unique()"
      ],
      "metadata": {
        "colab": {
          "base_uri": "https://localhost:8080/"
        },
        "id": "YPGhO33ek9t5",
        "outputId": "4983fc0e-31fc-49ac-f520-a1c3ac6ce18e"
      },
      "execution_count": 8,
      "outputs": [
        {
          "output_type": "execute_result",
          "data": {
            "text/plain": [
              "array(['text'], dtype=object)"
            ]
          },
          "metadata": {},
          "execution_count": 8
        }
      ]
    },
    {
      "cell_type": "code",
      "source": [
        "data.head()"
      ],
      "metadata": {
        "colab": {
          "base_uri": "https://localhost:8080/",
          "height": 206
        },
        "id": "Orp5yCJHexAt",
        "outputId": "482ba617-1a63-41b4-ae1a-260f09ef88fa"
      },
      "execution_count": null,
      "outputs": [
        {
          "output_type": "execute_result",
          "data": {
            "text/plain": [
              "                 createdAt  user_code poll_code       id_code       event  \\\n",
              "0  2022-12-29 18:30:10 UTC  user_2847   poll_27  option_17106  Impression   \n",
              "1  2022-12-29 18:30:28 UTC  user_2847  poll_220  option_17107  Impression   \n",
              "2  2022-12-29 18:30:38 UTC  user_2847  poll_190  option_17108  Impression   \n",
              "3  2022-12-29 18:30:50 UTC  user_2847  poll_153  option_17109  Impression   \n",
              "4  2022-12-29 18:31:34 UTC  user_2847   poll_42  option_17110  Impression   \n",
              "\n",
              "     country city_code           gender  age college_code  \n",
              "0  country_1    city_1  skipped_by_user  NaN          NaN  \n",
              "1  country_1    city_1  skipped_by_user  NaN          NaN  \n",
              "2  country_1    city_1  skipped_by_user  NaN          NaN  \n",
              "3  country_1    city_1  skipped_by_user  NaN          NaN  \n",
              "4  country_1    city_1  skipped_by_user  NaN          NaN  "
            ],
            "text/html": [
              "\n",
              "  <div id=\"df-0fdfefe0-f9dd-4a3c-a67e-a8b571f0090e\" class=\"colab-df-container\">\n",
              "    <div>\n",
              "<style scoped>\n",
              "    .dataframe tbody tr th:only-of-type {\n",
              "        vertical-align: middle;\n",
              "    }\n",
              "\n",
              "    .dataframe tbody tr th {\n",
              "        vertical-align: top;\n",
              "    }\n",
              "\n",
              "    .dataframe thead th {\n",
              "        text-align: right;\n",
              "    }\n",
              "</style>\n",
              "<table border=\"1\" class=\"dataframe\">\n",
              "  <thead>\n",
              "    <tr style=\"text-align: right;\">\n",
              "      <th></th>\n",
              "      <th>createdAt</th>\n",
              "      <th>user_code</th>\n",
              "      <th>poll_code</th>\n",
              "      <th>id_code</th>\n",
              "      <th>event</th>\n",
              "      <th>country</th>\n",
              "      <th>city_code</th>\n",
              "      <th>gender</th>\n",
              "      <th>age</th>\n",
              "      <th>college_code</th>\n",
              "    </tr>\n",
              "  </thead>\n",
              "  <tbody>\n",
              "    <tr>\n",
              "      <th>0</th>\n",
              "      <td>2022-12-29 18:30:10 UTC</td>\n",
              "      <td>user_2847</td>\n",
              "      <td>poll_27</td>\n",
              "      <td>option_17106</td>\n",
              "      <td>Impression</td>\n",
              "      <td>country_1</td>\n",
              "      <td>city_1</td>\n",
              "      <td>skipped_by_user</td>\n",
              "      <td>NaN</td>\n",
              "      <td>NaN</td>\n",
              "    </tr>\n",
              "    <tr>\n",
              "      <th>1</th>\n",
              "      <td>2022-12-29 18:30:28 UTC</td>\n",
              "      <td>user_2847</td>\n",
              "      <td>poll_220</td>\n",
              "      <td>option_17107</td>\n",
              "      <td>Impression</td>\n",
              "      <td>country_1</td>\n",
              "      <td>city_1</td>\n",
              "      <td>skipped_by_user</td>\n",
              "      <td>NaN</td>\n",
              "      <td>NaN</td>\n",
              "    </tr>\n",
              "    <tr>\n",
              "      <th>2</th>\n",
              "      <td>2022-12-29 18:30:38 UTC</td>\n",
              "      <td>user_2847</td>\n",
              "      <td>poll_190</td>\n",
              "      <td>option_17108</td>\n",
              "      <td>Impression</td>\n",
              "      <td>country_1</td>\n",
              "      <td>city_1</td>\n",
              "      <td>skipped_by_user</td>\n",
              "      <td>NaN</td>\n",
              "      <td>NaN</td>\n",
              "    </tr>\n",
              "    <tr>\n",
              "      <th>3</th>\n",
              "      <td>2022-12-29 18:30:50 UTC</td>\n",
              "      <td>user_2847</td>\n",
              "      <td>poll_153</td>\n",
              "      <td>option_17109</td>\n",
              "      <td>Impression</td>\n",
              "      <td>country_1</td>\n",
              "      <td>city_1</td>\n",
              "      <td>skipped_by_user</td>\n",
              "      <td>NaN</td>\n",
              "      <td>NaN</td>\n",
              "    </tr>\n",
              "    <tr>\n",
              "      <th>4</th>\n",
              "      <td>2022-12-29 18:31:34 UTC</td>\n",
              "      <td>user_2847</td>\n",
              "      <td>poll_42</td>\n",
              "      <td>option_17110</td>\n",
              "      <td>Impression</td>\n",
              "      <td>country_1</td>\n",
              "      <td>city_1</td>\n",
              "      <td>skipped_by_user</td>\n",
              "      <td>NaN</td>\n",
              "      <td>NaN</td>\n",
              "    </tr>\n",
              "  </tbody>\n",
              "</table>\n",
              "</div>\n",
              "    <div class=\"colab-df-buttons\">\n",
              "\n",
              "  <div class=\"colab-df-container\">\n",
              "    <button class=\"colab-df-convert\" onclick=\"convertToInteractive('df-0fdfefe0-f9dd-4a3c-a67e-a8b571f0090e')\"\n",
              "            title=\"Convert this dataframe to an interactive table.\"\n",
              "            style=\"display:none;\">\n",
              "\n",
              "  <svg xmlns=\"http://www.w3.org/2000/svg\" height=\"24px\" viewBox=\"0 -960 960 960\">\n",
              "    <path d=\"M120-120v-720h720v720H120Zm60-500h600v-160H180v160Zm220 220h160v-160H400v160Zm0 220h160v-160H400v160ZM180-400h160v-160H180v160Zm440 0h160v-160H620v160ZM180-180h160v-160H180v160Zm440 0h160v-160H620v160Z\"/>\n",
              "  </svg>\n",
              "    </button>\n",
              "\n",
              "  <style>\n",
              "    .colab-df-container {\n",
              "      display:flex;\n",
              "      gap: 12px;\n",
              "    }\n",
              "\n",
              "    .colab-df-convert {\n",
              "      background-color: #E8F0FE;\n",
              "      border: none;\n",
              "      border-radius: 50%;\n",
              "      cursor: pointer;\n",
              "      display: none;\n",
              "      fill: #1967D2;\n",
              "      height: 32px;\n",
              "      padding: 0 0 0 0;\n",
              "      width: 32px;\n",
              "    }\n",
              "\n",
              "    .colab-df-convert:hover {\n",
              "      background-color: #E2EBFA;\n",
              "      box-shadow: 0px 1px 2px rgba(60, 64, 67, 0.3), 0px 1px 3px 1px rgba(60, 64, 67, 0.15);\n",
              "      fill: #174EA6;\n",
              "    }\n",
              "\n",
              "    .colab-df-buttons div {\n",
              "      margin-bottom: 4px;\n",
              "    }\n",
              "\n",
              "    [theme=dark] .colab-df-convert {\n",
              "      background-color: #3B4455;\n",
              "      fill: #D2E3FC;\n",
              "    }\n",
              "\n",
              "    [theme=dark] .colab-df-convert:hover {\n",
              "      background-color: #434B5C;\n",
              "      box-shadow: 0px 1px 3px 1px rgba(0, 0, 0, 0.15);\n",
              "      filter: drop-shadow(0px 1px 2px rgba(0, 0, 0, 0.3));\n",
              "      fill: #FFFFFF;\n",
              "    }\n",
              "  </style>\n",
              "\n",
              "    <script>\n",
              "      const buttonEl =\n",
              "        document.querySelector('#df-0fdfefe0-f9dd-4a3c-a67e-a8b571f0090e button.colab-df-convert');\n",
              "      buttonEl.style.display =\n",
              "        google.colab.kernel.accessAllowed ? 'block' : 'none';\n",
              "\n",
              "      async function convertToInteractive(key) {\n",
              "        const element = document.querySelector('#df-0fdfefe0-f9dd-4a3c-a67e-a8b571f0090e');\n",
              "        const dataTable =\n",
              "          await google.colab.kernel.invokeFunction('convertToInteractive',\n",
              "                                                    [key], {});\n",
              "        if (!dataTable) return;\n",
              "\n",
              "        const docLinkHtml = 'Like what you see? Visit the ' +\n",
              "          '<a target=\"_blank\" href=https://colab.research.google.com/notebooks/data_table.ipynb>data table notebook</a>'\n",
              "          + ' to learn more about interactive tables.';\n",
              "        element.innerHTML = '';\n",
              "        dataTable['output_type'] = 'display_data';\n",
              "        await google.colab.output.renderOutput(dataTable, element);\n",
              "        const docLink = document.createElement('div');\n",
              "        docLink.innerHTML = docLinkHtml;\n",
              "        element.appendChild(docLink);\n",
              "      }\n",
              "    </script>\n",
              "  </div>\n",
              "\n",
              "\n",
              "<div id=\"df-c5d3b703-211d-4d6b-a351-f52cad2ae3e4\">\n",
              "  <button class=\"colab-df-quickchart\" onclick=\"quickchart('df-c5d3b703-211d-4d6b-a351-f52cad2ae3e4')\"\n",
              "            title=\"Suggest charts.\"\n",
              "            style=\"display:none;\">\n",
              "\n",
              "<svg xmlns=\"http://www.w3.org/2000/svg\" height=\"24px\"viewBox=\"0 0 24 24\"\n",
              "     width=\"24px\">\n",
              "    <g>\n",
              "        <path d=\"M19 3H5c-1.1 0-2 .9-2 2v14c0 1.1.9 2 2 2h14c1.1 0 2-.9 2-2V5c0-1.1-.9-2-2-2zM9 17H7v-7h2v7zm4 0h-2V7h2v10zm4 0h-2v-4h2v4z\"/>\n",
              "    </g>\n",
              "</svg>\n",
              "  </button>\n",
              "\n",
              "<style>\n",
              "  .colab-df-quickchart {\n",
              "      --bg-color: #E8F0FE;\n",
              "      --fill-color: #1967D2;\n",
              "      --hover-bg-color: #E2EBFA;\n",
              "      --hover-fill-color: #174EA6;\n",
              "      --disabled-fill-color: #AAA;\n",
              "      --disabled-bg-color: #DDD;\n",
              "  }\n",
              "\n",
              "  [theme=dark] .colab-df-quickchart {\n",
              "      --bg-color: #3B4455;\n",
              "      --fill-color: #D2E3FC;\n",
              "      --hover-bg-color: #434B5C;\n",
              "      --hover-fill-color: #FFFFFF;\n",
              "      --disabled-bg-color: #3B4455;\n",
              "      --disabled-fill-color: #666;\n",
              "  }\n",
              "\n",
              "  .colab-df-quickchart {\n",
              "    background-color: var(--bg-color);\n",
              "    border: none;\n",
              "    border-radius: 50%;\n",
              "    cursor: pointer;\n",
              "    display: none;\n",
              "    fill: var(--fill-color);\n",
              "    height: 32px;\n",
              "    padding: 0;\n",
              "    width: 32px;\n",
              "  }\n",
              "\n",
              "  .colab-df-quickchart:hover {\n",
              "    background-color: var(--hover-bg-color);\n",
              "    box-shadow: 0 1px 2px rgba(60, 64, 67, 0.3), 0 1px 3px 1px rgba(60, 64, 67, 0.15);\n",
              "    fill: var(--button-hover-fill-color);\n",
              "  }\n",
              "\n",
              "  .colab-df-quickchart-complete:disabled,\n",
              "  .colab-df-quickchart-complete:disabled:hover {\n",
              "    background-color: var(--disabled-bg-color);\n",
              "    fill: var(--disabled-fill-color);\n",
              "    box-shadow: none;\n",
              "  }\n",
              "\n",
              "  .colab-df-spinner {\n",
              "    border: 2px solid var(--fill-color);\n",
              "    border-color: transparent;\n",
              "    border-bottom-color: var(--fill-color);\n",
              "    animation:\n",
              "      spin 1s steps(1) infinite;\n",
              "  }\n",
              "\n",
              "  @keyframes spin {\n",
              "    0% {\n",
              "      border-color: transparent;\n",
              "      border-bottom-color: var(--fill-color);\n",
              "      border-left-color: var(--fill-color);\n",
              "    }\n",
              "    20% {\n",
              "      border-color: transparent;\n",
              "      border-left-color: var(--fill-color);\n",
              "      border-top-color: var(--fill-color);\n",
              "    }\n",
              "    30% {\n",
              "      border-color: transparent;\n",
              "      border-left-color: var(--fill-color);\n",
              "      border-top-color: var(--fill-color);\n",
              "      border-right-color: var(--fill-color);\n",
              "    }\n",
              "    40% {\n",
              "      border-color: transparent;\n",
              "      border-right-color: var(--fill-color);\n",
              "      border-top-color: var(--fill-color);\n",
              "    }\n",
              "    60% {\n",
              "      border-color: transparent;\n",
              "      border-right-color: var(--fill-color);\n",
              "    }\n",
              "    80% {\n",
              "      border-color: transparent;\n",
              "      border-right-color: var(--fill-color);\n",
              "      border-bottom-color: var(--fill-color);\n",
              "    }\n",
              "    90% {\n",
              "      border-color: transparent;\n",
              "      border-bottom-color: var(--fill-color);\n",
              "    }\n",
              "  }\n",
              "</style>\n",
              "\n",
              "  <script>\n",
              "    async function quickchart(key) {\n",
              "      const quickchartButtonEl =\n",
              "        document.querySelector('#' + key + ' button');\n",
              "      quickchartButtonEl.disabled = true;  // To prevent multiple clicks.\n",
              "      quickchartButtonEl.classList.add('colab-df-spinner');\n",
              "      try {\n",
              "        const charts = await google.colab.kernel.invokeFunction(\n",
              "            'suggestCharts', [key], {});\n",
              "      } catch (error) {\n",
              "        console.error('Error during call to suggestCharts:', error);\n",
              "      }\n",
              "      quickchartButtonEl.classList.remove('colab-df-spinner');\n",
              "      quickchartButtonEl.classList.add('colab-df-quickchart-complete');\n",
              "    }\n",
              "    (() => {\n",
              "      let quickchartButtonEl =\n",
              "        document.querySelector('#df-c5d3b703-211d-4d6b-a351-f52cad2ae3e4 button');\n",
              "      quickchartButtonEl.style.display =\n",
              "        google.colab.kernel.accessAllowed ? 'block' : 'none';\n",
              "    })();\n",
              "  </script>\n",
              "</div>\n",
              "    </div>\n",
              "  </div>\n"
            ]
          },
          "metadata": {},
          "execution_count": 8
        }
      ]
    },
    {
      "cell_type": "code",
      "source": [],
      "metadata": {
        "id": "m2bA2buifYtr"
      },
      "execution_count": null,
      "outputs": []
    },
    {
      "cell_type": "code",
      "source": [
        "data.event.unique(),data.gender.unique()"
      ],
      "metadata": {
        "colab": {
          "base_uri": "https://localhost:8080/"
        },
        "id": "J05cYgV3fb1B",
        "outputId": "4b0618ff-9fee-4d28-aca2-10e4c61b312c"
      },
      "execution_count": null,
      "outputs": [
        {
          "output_type": "execute_result",
          "data": {
            "text/plain": [
              "(array(['Impression', 'Session', 'Expand', 'Shares', 'Polls Answered'],\n",
              "       dtype=object),\n",
              " array(['skipped_by_user', 'male', 'female', 'non_binary',\n",
              "        'prefer_not_to_say', 'non-binary'], dtype=object))"
            ]
          },
          "metadata": {},
          "execution_count": 9
        }
      ]
    },
    {
      "cell_type": "code",
      "source": [
        "data.user_code.nunique(),data.poll_code.nunique(), data.city_code.nunique()"
      ],
      "metadata": {
        "colab": {
          "base_uri": "https://localhost:8080/"
        },
        "id": "kE9lminTfg5g",
        "outputId": "e64286ec-181e-44c5-fd90-03826aa76f18"
      },
      "execution_count": null,
      "outputs": [
        {
          "output_type": "execute_result",
          "data": {
            "text/plain": [
              "(4499, 893, 134)"
            ]
          },
          "metadata": {},
          "execution_count": 10
        }
      ]
    },
    {
      "cell_type": "markdown",
      "source": [
        "### **4499 Unique Users, 893 Polls**"
      ],
      "metadata": {
        "id": "tN6v1ndrrie9"
      }
    },
    {
      "cell_type": "code",
      "source": [
        "data= data.merge(polls_df[['poll_code','categories']],how='left',on='poll_code')"
      ],
      "metadata": {
        "id": "UlAujMZfgdZ7"
      },
      "execution_count": 9,
      "outputs": []
    },
    {
      "cell_type": "code",
      "source": [
        "data.sample(5)"
      ],
      "metadata": {
        "colab": {
          "base_uri": "https://localhost:8080/",
          "height": 206
        },
        "id": "xAw77FUWiSvJ",
        "outputId": "220b74ee-adec-40ec-90eb-fdb6d5f51912"
      },
      "execution_count": 10,
      "outputs": [
        {
          "output_type": "execute_result",
          "data": {
            "text/plain": [
              "                      createdAt  user_code poll_code        id_code  \\\n",
              "224314  2023-01-06 15:34:12 UTC   user_410  poll_196  option_183241   \n",
              "61562   2023-01-19 06:46:09 UTC   user_898  poll_670   option_87678   \n",
              "97238   2023-01-25 09:14:20 UTC  user_3667  poll_109  option_125067   \n",
              "222768  2023-01-16 14:34:27 UTC  user_4098   poll_95  option_182927   \n",
              "178341  2023-01-25 17:49:16 UTC  user_3092  poll_563  option_184351   \n",
              "\n",
              "                 event    country city_code           gender   age  \\\n",
              "224314  Polls Answered  country_1    city_1             male  22.0   \n",
              "61562       Impression  country_1    city_1             male  22.0   \n",
              "97238       Impression  country_1    city_1  skipped_by_user   NaN   \n",
              "222768  Polls Answered  country_1    city_1  skipped_by_user   NaN   \n",
              "178341  Polls Answered  country_1    city_1           female  22.0   \n",
              "\n",
              "       college_code               categories  \n",
              "224314          NaN         Would You Rather  \n",
              "61562         Other                   Trivia  \n",
              "97238           NaN  Dating and Relationship  \n",
              "222768          NaN  Dating and Relationship  \n",
              "178341        Other          Food and Drinks  "
            ],
            "text/html": [
              "\n",
              "  <div id=\"df-87f81c73-8092-45a7-8192-9eae6dc397e0\" class=\"colab-df-container\">\n",
              "    <div>\n",
              "<style scoped>\n",
              "    .dataframe tbody tr th:only-of-type {\n",
              "        vertical-align: middle;\n",
              "    }\n",
              "\n",
              "    .dataframe tbody tr th {\n",
              "        vertical-align: top;\n",
              "    }\n",
              "\n",
              "    .dataframe thead th {\n",
              "        text-align: right;\n",
              "    }\n",
              "</style>\n",
              "<table border=\"1\" class=\"dataframe\">\n",
              "  <thead>\n",
              "    <tr style=\"text-align: right;\">\n",
              "      <th></th>\n",
              "      <th>createdAt</th>\n",
              "      <th>user_code</th>\n",
              "      <th>poll_code</th>\n",
              "      <th>id_code</th>\n",
              "      <th>event</th>\n",
              "      <th>country</th>\n",
              "      <th>city_code</th>\n",
              "      <th>gender</th>\n",
              "      <th>age</th>\n",
              "      <th>college_code</th>\n",
              "      <th>categories</th>\n",
              "    </tr>\n",
              "  </thead>\n",
              "  <tbody>\n",
              "    <tr>\n",
              "      <th>224314</th>\n",
              "      <td>2023-01-06 15:34:12 UTC</td>\n",
              "      <td>user_410</td>\n",
              "      <td>poll_196</td>\n",
              "      <td>option_183241</td>\n",
              "      <td>Polls Answered</td>\n",
              "      <td>country_1</td>\n",
              "      <td>city_1</td>\n",
              "      <td>male</td>\n",
              "      <td>22.0</td>\n",
              "      <td>NaN</td>\n",
              "      <td>Would You Rather</td>\n",
              "    </tr>\n",
              "    <tr>\n",
              "      <th>61562</th>\n",
              "      <td>2023-01-19 06:46:09 UTC</td>\n",
              "      <td>user_898</td>\n",
              "      <td>poll_670</td>\n",
              "      <td>option_87678</td>\n",
              "      <td>Impression</td>\n",
              "      <td>country_1</td>\n",
              "      <td>city_1</td>\n",
              "      <td>male</td>\n",
              "      <td>22.0</td>\n",
              "      <td>Other</td>\n",
              "      <td>Trivia</td>\n",
              "    </tr>\n",
              "    <tr>\n",
              "      <th>97238</th>\n",
              "      <td>2023-01-25 09:14:20 UTC</td>\n",
              "      <td>user_3667</td>\n",
              "      <td>poll_109</td>\n",
              "      <td>option_125067</td>\n",
              "      <td>Impression</td>\n",
              "      <td>country_1</td>\n",
              "      <td>city_1</td>\n",
              "      <td>skipped_by_user</td>\n",
              "      <td>NaN</td>\n",
              "      <td>NaN</td>\n",
              "      <td>Dating and Relationship</td>\n",
              "    </tr>\n",
              "    <tr>\n",
              "      <th>222768</th>\n",
              "      <td>2023-01-16 14:34:27 UTC</td>\n",
              "      <td>user_4098</td>\n",
              "      <td>poll_95</td>\n",
              "      <td>option_182927</td>\n",
              "      <td>Polls Answered</td>\n",
              "      <td>country_1</td>\n",
              "      <td>city_1</td>\n",
              "      <td>skipped_by_user</td>\n",
              "      <td>NaN</td>\n",
              "      <td>NaN</td>\n",
              "      <td>Dating and Relationship</td>\n",
              "    </tr>\n",
              "    <tr>\n",
              "      <th>178341</th>\n",
              "      <td>2023-01-25 17:49:16 UTC</td>\n",
              "      <td>user_3092</td>\n",
              "      <td>poll_563</td>\n",
              "      <td>option_184351</td>\n",
              "      <td>Polls Answered</td>\n",
              "      <td>country_1</td>\n",
              "      <td>city_1</td>\n",
              "      <td>female</td>\n",
              "      <td>22.0</td>\n",
              "      <td>Other</td>\n",
              "      <td>Food and Drinks</td>\n",
              "    </tr>\n",
              "  </tbody>\n",
              "</table>\n",
              "</div>\n",
              "    <div class=\"colab-df-buttons\">\n",
              "\n",
              "  <div class=\"colab-df-container\">\n",
              "    <button class=\"colab-df-convert\" onclick=\"convertToInteractive('df-87f81c73-8092-45a7-8192-9eae6dc397e0')\"\n",
              "            title=\"Convert this dataframe to an interactive table.\"\n",
              "            style=\"display:none;\">\n",
              "\n",
              "  <svg xmlns=\"http://www.w3.org/2000/svg\" height=\"24px\" viewBox=\"0 -960 960 960\">\n",
              "    <path d=\"M120-120v-720h720v720H120Zm60-500h600v-160H180v160Zm220 220h160v-160H400v160Zm0 220h160v-160H400v160ZM180-400h160v-160H180v160Zm440 0h160v-160H620v160ZM180-180h160v-160H180v160Zm440 0h160v-160H620v160Z\"/>\n",
              "  </svg>\n",
              "    </button>\n",
              "\n",
              "  <style>\n",
              "    .colab-df-container {\n",
              "      display:flex;\n",
              "      gap: 12px;\n",
              "    }\n",
              "\n",
              "    .colab-df-convert {\n",
              "      background-color: #E8F0FE;\n",
              "      border: none;\n",
              "      border-radius: 50%;\n",
              "      cursor: pointer;\n",
              "      display: none;\n",
              "      fill: #1967D2;\n",
              "      height: 32px;\n",
              "      padding: 0 0 0 0;\n",
              "      width: 32px;\n",
              "    }\n",
              "\n",
              "    .colab-df-convert:hover {\n",
              "      background-color: #E2EBFA;\n",
              "      box-shadow: 0px 1px 2px rgba(60, 64, 67, 0.3), 0px 1px 3px 1px rgba(60, 64, 67, 0.15);\n",
              "      fill: #174EA6;\n",
              "    }\n",
              "\n",
              "    .colab-df-buttons div {\n",
              "      margin-bottom: 4px;\n",
              "    }\n",
              "\n",
              "    [theme=dark] .colab-df-convert {\n",
              "      background-color: #3B4455;\n",
              "      fill: #D2E3FC;\n",
              "    }\n",
              "\n",
              "    [theme=dark] .colab-df-convert:hover {\n",
              "      background-color: #434B5C;\n",
              "      box-shadow: 0px 1px 3px 1px rgba(0, 0, 0, 0.15);\n",
              "      filter: drop-shadow(0px 1px 2px rgba(0, 0, 0, 0.3));\n",
              "      fill: #FFFFFF;\n",
              "    }\n",
              "  </style>\n",
              "\n",
              "    <script>\n",
              "      const buttonEl =\n",
              "        document.querySelector('#df-87f81c73-8092-45a7-8192-9eae6dc397e0 button.colab-df-convert');\n",
              "      buttonEl.style.display =\n",
              "        google.colab.kernel.accessAllowed ? 'block' : 'none';\n",
              "\n",
              "      async function convertToInteractive(key) {\n",
              "        const element = document.querySelector('#df-87f81c73-8092-45a7-8192-9eae6dc397e0');\n",
              "        const dataTable =\n",
              "          await google.colab.kernel.invokeFunction('convertToInteractive',\n",
              "                                                    [key], {});\n",
              "        if (!dataTable) return;\n",
              "\n",
              "        const docLinkHtml = 'Like what you see? Visit the ' +\n",
              "          '<a target=\"_blank\" href=https://colab.research.google.com/notebooks/data_table.ipynb>data table notebook</a>'\n",
              "          + ' to learn more about interactive tables.';\n",
              "        element.innerHTML = '';\n",
              "        dataTable['output_type'] = 'display_data';\n",
              "        await google.colab.output.renderOutput(dataTable, element);\n",
              "        const docLink = document.createElement('div');\n",
              "        docLink.innerHTML = docLinkHtml;\n",
              "        element.appendChild(docLink);\n",
              "      }\n",
              "    </script>\n",
              "  </div>\n",
              "\n",
              "\n",
              "<div id=\"df-4277f55c-2b9a-4628-80c4-e54fa31f45ad\">\n",
              "  <button class=\"colab-df-quickchart\" onclick=\"quickchart('df-4277f55c-2b9a-4628-80c4-e54fa31f45ad')\"\n",
              "            title=\"Suggest charts.\"\n",
              "            style=\"display:none;\">\n",
              "\n",
              "<svg xmlns=\"http://www.w3.org/2000/svg\" height=\"24px\"viewBox=\"0 0 24 24\"\n",
              "     width=\"24px\">\n",
              "    <g>\n",
              "        <path d=\"M19 3H5c-1.1 0-2 .9-2 2v14c0 1.1.9 2 2 2h14c1.1 0 2-.9 2-2V5c0-1.1-.9-2-2-2zM9 17H7v-7h2v7zm4 0h-2V7h2v10zm4 0h-2v-4h2v4z\"/>\n",
              "    </g>\n",
              "</svg>\n",
              "  </button>\n",
              "\n",
              "<style>\n",
              "  .colab-df-quickchart {\n",
              "      --bg-color: #E8F0FE;\n",
              "      --fill-color: #1967D2;\n",
              "      --hover-bg-color: #E2EBFA;\n",
              "      --hover-fill-color: #174EA6;\n",
              "      --disabled-fill-color: #AAA;\n",
              "      --disabled-bg-color: #DDD;\n",
              "  }\n",
              "\n",
              "  [theme=dark] .colab-df-quickchart {\n",
              "      --bg-color: #3B4455;\n",
              "      --fill-color: #D2E3FC;\n",
              "      --hover-bg-color: #434B5C;\n",
              "      --hover-fill-color: #FFFFFF;\n",
              "      --disabled-bg-color: #3B4455;\n",
              "      --disabled-fill-color: #666;\n",
              "  }\n",
              "\n",
              "  .colab-df-quickchart {\n",
              "    background-color: var(--bg-color);\n",
              "    border: none;\n",
              "    border-radius: 50%;\n",
              "    cursor: pointer;\n",
              "    display: none;\n",
              "    fill: var(--fill-color);\n",
              "    height: 32px;\n",
              "    padding: 0;\n",
              "    width: 32px;\n",
              "  }\n",
              "\n",
              "  .colab-df-quickchart:hover {\n",
              "    background-color: var(--hover-bg-color);\n",
              "    box-shadow: 0 1px 2px rgba(60, 64, 67, 0.3), 0 1px 3px 1px rgba(60, 64, 67, 0.15);\n",
              "    fill: var(--button-hover-fill-color);\n",
              "  }\n",
              "\n",
              "  .colab-df-quickchart-complete:disabled,\n",
              "  .colab-df-quickchart-complete:disabled:hover {\n",
              "    background-color: var(--disabled-bg-color);\n",
              "    fill: var(--disabled-fill-color);\n",
              "    box-shadow: none;\n",
              "  }\n",
              "\n",
              "  .colab-df-spinner {\n",
              "    border: 2px solid var(--fill-color);\n",
              "    border-color: transparent;\n",
              "    border-bottom-color: var(--fill-color);\n",
              "    animation:\n",
              "      spin 1s steps(1) infinite;\n",
              "  }\n",
              "\n",
              "  @keyframes spin {\n",
              "    0% {\n",
              "      border-color: transparent;\n",
              "      border-bottom-color: var(--fill-color);\n",
              "      border-left-color: var(--fill-color);\n",
              "    }\n",
              "    20% {\n",
              "      border-color: transparent;\n",
              "      border-left-color: var(--fill-color);\n",
              "      border-top-color: var(--fill-color);\n",
              "    }\n",
              "    30% {\n",
              "      border-color: transparent;\n",
              "      border-left-color: var(--fill-color);\n",
              "      border-top-color: var(--fill-color);\n",
              "      border-right-color: var(--fill-color);\n",
              "    }\n",
              "    40% {\n",
              "      border-color: transparent;\n",
              "      border-right-color: var(--fill-color);\n",
              "      border-top-color: var(--fill-color);\n",
              "    }\n",
              "    60% {\n",
              "      border-color: transparent;\n",
              "      border-right-color: var(--fill-color);\n",
              "    }\n",
              "    80% {\n",
              "      border-color: transparent;\n",
              "      border-right-color: var(--fill-color);\n",
              "      border-bottom-color: var(--fill-color);\n",
              "    }\n",
              "    90% {\n",
              "      border-color: transparent;\n",
              "      border-bottom-color: var(--fill-color);\n",
              "    }\n",
              "  }\n",
              "</style>\n",
              "\n",
              "  <script>\n",
              "    async function quickchart(key) {\n",
              "      const quickchartButtonEl =\n",
              "        document.querySelector('#' + key + ' button');\n",
              "      quickchartButtonEl.disabled = true;  // To prevent multiple clicks.\n",
              "      quickchartButtonEl.classList.add('colab-df-spinner');\n",
              "      try {\n",
              "        const charts = await google.colab.kernel.invokeFunction(\n",
              "            'suggestCharts', [key], {});\n",
              "      } catch (error) {\n",
              "        console.error('Error during call to suggestCharts:', error);\n",
              "      }\n",
              "      quickchartButtonEl.classList.remove('colab-df-spinner');\n",
              "      quickchartButtonEl.classList.add('colab-df-quickchart-complete');\n",
              "    }\n",
              "    (() => {\n",
              "      let quickchartButtonEl =\n",
              "        document.querySelector('#df-4277f55c-2b9a-4628-80c4-e54fa31f45ad button');\n",
              "      quickchartButtonEl.style.display =\n",
              "        google.colab.kernel.accessAllowed ? 'block' : 'none';\n",
              "    })();\n",
              "  </script>\n",
              "</div>\n",
              "    </div>\n",
              "  </div>\n"
            ]
          },
          "metadata": {},
          "execution_count": 10
        }
      ]
    },
    {
      "cell_type": "code",
      "source": [
        "plt.figure(figsize=(15,5))\n",
        "top_categories = data.categories.value_counts(normalize=True).head(10)*100\n",
        "sns.barplot(x=top_categories.index, y=top_categories.values, palette=\"viridis\")\n",
        "plt.xticks(rotation=45)\n",
        "plt.show()"
      ],
      "metadata": {
        "colab": {
          "base_uri": "https://localhost:8080/",
          "height": 559
        },
        "id": "XSevGPiGlGZ8",
        "outputId": "b2fd9108-f057-480b-aa21-604156ee27c2"
      },
      "execution_count": null,
      "outputs": [
        {
          "output_type": "display_data",
          "data": {
            "text/plain": [
              "<Figure size 1500x500 with 1 Axes>"
            ],
            "image/png": "[encoded data removed]"
          },
          "metadata": {}
        }
      ]
    },
    {
      "cell_type": "markdown",
      "source": [
        "Dating, Lifestyle and Hypothetical & WYR Seems to contributing to ~40% Interactions"
      ],
      "metadata": {
        "id": "D8pXX1ITp8qi"
      }
    },
    {
      "cell_type": "code",
      "source": [],
      "metadata": {
        "id": "O35bDX48p7kL"
      },
      "execution_count": null,
      "outputs": []
    },
    {
      "cell_type": "markdown",
      "source": [
        "![Screenshot 2023-10-22 142233.png](data:image/png;base64,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)"
      ],
      "metadata": {
        "id": "p21J8Y-_mD-l"
      }
    },
    {
      "cell_type": "code",
      "source": [
        "data.groupby('event').createdAt.count()"
      ],
      "metadata": {
        "colab": {
          "base_uri": "https://localhost:8080/"
        },
        "id": "JtTKP0YomGXv",
        "outputId": "a94af35c-f2dd-4870-d06b-354337f61982"
      },
      "execution_count": null,
      "outputs": [
        {
          "output_type": "execute_result",
          "data": {
            "text/plain": [
              "event\n",
              "Expand              5967\n",
              "Impression        144841\n",
              "Polls Answered    108700\n",
              "Session             3421\n",
              "Shares               462\n",
              "Name: createdAt, dtype: int64"
            ]
          },
          "metadata": {},
          "execution_count": 57
        }
      ]
    },
    {
      "cell_type": "markdown",
      "source": [
        "\n",
        "### *   'Polls Answered' is a Strong Positive, 'Shares' is 2nd, 'Expand' comes 3rd.\n",
        "### *   Impression is a weak identifier\n",
        "### *   Session cannot be directly used as a preference builder\n",
        "\n",
        "\n"
      ],
      "metadata": {
        "id": "Iup-LCZTmb64"
      }
    },
    {
      "cell_type": "code",
      "source": [
        "print(type(data.createdAt.values[0]))\n",
        "\n",
        "data['createdAt'] = pd.to_datetime(data['createdAt'])\n",
        "\n",
        "print(data.createdAt.values[0])\n"
      ],
      "metadata": {
        "colab": {
          "base_uri": "https://localhost:8080/"
        },
        "id": "GP-nZc6ImTW9",
        "outputId": "b833e972-b1d9-42f0-a4b8-8138b19c83b7"
      },
      "execution_count": 11,
      "outputs": [
        {
          "output_type": "stream",
          "name": "stdout",
          "text": [
            "<class 'str'>\n",
            "2022-12-29T18:30:10.000000000\n"
          ]
        }
      ]
    },
    {
      "cell_type": "code",
      "source": [
        "data['date'] = data['createdAt'].dt.strftime('%d-%m-%Y')\n",
        "data.head()"
      ],
      "metadata": {
        "colab": {
          "base_uri": "https://localhost:8080/",
          "height": 206
        },
        "id": "J7S17R--2QM1",
        "outputId": "ac506d66-d03d-47e2-df98-3764ca961a08"
      },
      "execution_count": 12,
      "outputs": [
        {
          "output_type": "execute_result",
          "data": {
            "text/plain": [
              "                  createdAt  user_code poll_code       id_code       event  \\\n",
              "0 2022-12-29 18:30:10+00:00  user_2847   poll_27  option_17106  Impression   \n",
              "1 2022-12-29 18:30:28+00:00  user_2847  poll_220  option_17107  Impression   \n",
              "2 2022-12-29 18:30:38+00:00  user_2847  poll_190  option_17108  Impression   \n",
              "3 2022-12-29 18:30:50+00:00  user_2847  poll_153  option_17109  Impression   \n",
              "4 2022-12-29 18:31:34+00:00  user_2847   poll_42  option_17110  Impression   \n",
              "\n",
              "     country city_code           gender  age college_code  \\\n",
              "0  country_1    city_1  skipped_by_user  NaN          NaN   \n",
              "1  country_1    city_1  skipped_by_user  NaN          NaN   \n",
              "2  country_1    city_1  skipped_by_user  NaN          NaN   \n",
              "3  country_1    city_1  skipped_by_user  NaN          NaN   \n",
              "4  country_1    city_1  skipped_by_user  NaN          NaN   \n",
              "\n",
              "                categories        date  \n",
              "0  Philosophy and Religion  29-12-2022  \n",
              "1         Would You Rather  29-12-2022  \n",
              "2             Hypothetical  29-12-2022  \n",
              "3  Dating and Relationship  29-12-2022  \n",
              "4  Dating and Relationship  29-12-2022  "
            ],
            "text/html": [
              "\n",
              "  <div id=\"df-d638ab15-f711-4a72-b928-689ff543fe8e\" class=\"colab-df-container\">\n",
              "    <div>\n",
              "<style scoped>\n",
              "    .dataframe tbody tr th:only-of-type {\n",
              "        vertical-align: middle;\n",
              "    }\n",
              "\n",
              "    .dataframe tbody tr th {\n",
              "        vertical-align: top;\n",
              "    }\n",
              "\n",
              "    .dataframe thead th {\n",
              "        text-align: right;\n",
              "    }\n",
              "</style>\n",
              "<table border=\"1\" class=\"dataframe\">\n",
              "  <thead>\n",
              "    <tr style=\"text-align: right;\">\n",
              "      <th></th>\n",
              "      <th>createdAt</th>\n",
              "      <th>user_code</th>\n",
              "      <th>poll_code</th>\n",
              "      <th>id_code</th>\n",
              "      <th>event</th>\n",
              "      <th>country</th>\n",
              "      <th>city_code</th>\n",
              "      <th>gender</th>\n",
              "      <th>age</th>\n",
              "      <th>college_code</th>\n",
              "      <th>categories</th>\n",
              "      <th>date</th>\n",
              "    </tr>\n",
              "  </thead>\n",
              "  <tbody>\n",
              "    <tr>\n",
              "      <th>0</th>\n",
              "      <td>2022-12-29 18:30:10+00:00</td>\n",
              "      <td>user_2847</td>\n",
              "      <td>poll_27</td>\n",
              "      <td>option_17106</td>\n",
              "      <td>Impression</td>\n",
              "      <td>country_1</td>\n",
              "      <td>city_1</td>\n",
              "      <td>skipped_by_user</td>\n",
              "      <td>NaN</td>\n",
              "      <td>NaN</td>\n",
              "      <td>Philosophy and Religion</td>\n",
              "      <td>29-12-2022</td>\n",
              "    </tr>\n",
              "    <tr>\n",
              "      <th>1</th>\n",
              "      <td>2022-12-29 18:30:28+00:00</td>\n",
              "      <td>user_2847</td>\n",
              "      <td>poll_220</td>\n",
              "      <td>option_17107</td>\n",
              "      <td>Impression</td>\n",
              "      <td>country_1</td>\n",
              "      <td>city_1</td>\n",
              "      <td>skipped_by_user</td>\n",
              "      <td>NaN</td>\n",
              "      <td>NaN</td>\n",
              "      <td>Would You Rather</td>\n",
              "      <td>29-12-2022</td>\n",
              "    </tr>\n",
              "    <tr>\n",
              "      <th>2</th>\n",
              "      <td>2022-12-29 18:30:38+00:00</td>\n",
              "      <td>user_2847</td>\n",
              "      <td>poll_190</td>\n",
              "      <td>option_17108</td>\n",
              "      <td>Impression</td>\n",
              "      <td>country_1</td>\n",
              "      <td>city_1</td>\n",
              "      <td>skipped_by_user</td>\n",
              "      <td>NaN</td>\n",
              "      <td>NaN</td>\n",
              "      <td>Hypothetical</td>\n",
              "      <td>29-12-2022</td>\n",
              "    </tr>\n",
              "    <tr>\n",
              "      <th>3</th>\n",
              "      <td>2022-12-29 18:30:50+00:00</td>\n",
              "      <td>user_2847</td>\n",
              "      <td>poll_153</td>\n",
              "      <td>option_17109</td>\n",
              "      <td>Impression</td>\n",
              "      <td>country_1</td>\n",
              "      <td>city_1</td>\n",
              "      <td>skipped_by_user</td>\n",
              "      <td>NaN</td>\n",
              "      <td>NaN</td>\n",
              "      <td>Dating and Relationship</td>\n",
              "      <td>29-12-2022</td>\n",
              "    </tr>\n",
              "    <tr>\n",
              "      <th>4</th>\n",
              "      <td>2022-12-29 18:31:34+00:00</td>\n",
              "      <td>user_2847</td>\n",
              "      <td>poll_42</td>\n",
              "      <td>option_17110</td>\n",
              "      <td>Impression</td>\n",
              "      <td>country_1</td>\n",
              "      <td>city_1</td>\n",
              "      <td>skipped_by_user</td>\n",
              "      <td>NaN</td>\n",
              "      <td>NaN</td>\n",
              "      <td>Dating and Relationship</td>\n",
              "      <td>29-12-2022</td>\n",
              "    </tr>\n",
              "  </tbody>\n",
              "</table>\n",
              "</div>\n",
              "    <div class=\"colab-df-buttons\">\n",
              "\n",
              "  <div class=\"colab-df-container\">\n",
              "    <button class=\"colab-df-convert\" onclick=\"convertToInteractive('df-d638ab15-f711-4a72-b928-689ff543fe8e')\"\n",
              "            title=\"Convert this dataframe to an interactive table.\"\n",
              "            style=\"display:none;\">\n",
              "\n",
              "  <svg xmlns=\"http://www.w3.org/2000/svg\" height=\"24px\" viewBox=\"0 -960 960 960\">\n",
              "    <path d=\"M120-120v-720h720v720H120Zm60-500h600v-160H180v160Zm220 220h160v-160H400v160Zm0 220h160v-160H400v160ZM180-400h160v-160H180v160Zm440 0h160v-160H620v160ZM180-180h160v-160H180v160Zm440 0h160v-160H620v160Z\"/>\n",
              "  </svg>\n",
              "    </button>\n",
              "\n",
              "  <style>\n",
              "    .colab-df-container {\n",
              "      display:flex;\n",
              "      gap: 12px;\n",
              "    }\n",
              "\n",
              "    .colab-df-convert {\n",
              "      background-color: #E8F0FE;\n",
              "      border: none;\n",
              "      border-radius: 50%;\n",
              "      cursor: pointer;\n",
              "      display: none;\n",
              "      fill: #1967D2;\n",
              "      height: 32px;\n",
              "      padding: 0 0 0 0;\n",
              "      width: 32px;\n",
              "    }\n",
              "\n",
              "    .colab-df-convert:hover {\n",
              "      background-color: #E2EBFA;\n",
              "      box-shadow: 0px 1px 2px rgba(60, 64, 67, 0.3), 0px 1px 3px 1px rgba(60, 64, 67, 0.15);\n",
              "      fill: #174EA6;\n",
              "    }\n",
              "\n",
              "    .colab-df-buttons div {\n",
              "      margin-bottom: 4px;\n",
              "    }\n",
              "\n",
              "    [theme=dark] .colab-df-convert {\n",
              "      background-color: #3B4455;\n",
              "      fill: #D2E3FC;\n",
              "    }\n",
              "\n",
              "    [theme=dark] .colab-df-convert:hover {\n",
              "      background-color: #434B5C;\n",
              "      box-shadow: 0px 1px 3px 1px rgba(0, 0, 0, 0.15);\n",
              "      filter: drop-shadow(0px 1px 2px rgba(0, 0, 0, 0.3));\n",
              "      fill: #FFFFFF;\n",
              "    }\n",
              "  </style>\n",
              "\n",
              "    <script>\n",
              "      const buttonEl =\n",
              "        document.querySelector('#df-d638ab15-f711-4a72-b928-689ff543fe8e button.colab-df-convert');\n",
              "      buttonEl.style.display =\n",
              "        google.colab.kernel.accessAllowed ? 'block' : 'none';\n",
              "\n",
              "      async function convertToInteractive(key) {\n",
              "        const element = document.querySelector('#df-d638ab15-f711-4a72-b928-689ff543fe8e');\n",
              "        const dataTable =\n",
              "          await google.colab.kernel.invokeFunction('convertToInteractive',\n",
              "                                                    [key], {});\n",
              "        if (!dataTable) return;\n",
              "\n",
              "        const docLinkHtml = 'Like what you see? Visit the ' +\n",
              "          '<a target=\"_blank\" href=https://colab.research.google.com/notebooks/data_table.ipynb>data table notebook</a>'\n",
              "          + ' to learn more about interactive tables.';\n",
              "        element.innerHTML = '';\n",
              "        dataTable['output_type'] = 'display_data';\n",
              "        await google.colab.output.renderOutput(dataTable, element);\n",
              "        const docLink = document.createElement('div');\n",
              "        docLink.innerHTML = docLinkHtml;\n",
              "        element.appendChild(docLink);\n",
              "      }\n",
              "    </script>\n",
              "  </div>\n",
              "\n",
              "\n",
              "<div id=\"df-b2fae40b-0cb7-43be-96dd-5897de47940a\">\n",
              "  <button class=\"colab-df-quickchart\" onclick=\"quickchart('df-b2fae40b-0cb7-43be-96dd-5897de47940a')\"\n",
              "            title=\"Suggest charts.\"\n",
              "            style=\"display:none;\">\n",
              "\n",
              "<svg xmlns=\"http://www.w3.org/2000/svg\" height=\"24px\"viewBox=\"0 0 24 24\"\n",
              "     width=\"24px\">\n",
              "    <g>\n",
              "        <path d=\"M19 3H5c-1.1 0-2 .9-2 2v14c0 1.1.9 2 2 2h14c1.1 0 2-.9 2-2V5c0-1.1-.9-2-2-2zM9 17H7v-7h2v7zm4 0h-2V7h2v10zm4 0h-2v-4h2v4z\"/>\n",
              "    </g>\n",
              "</svg>\n",
              "  </button>\n",
              "\n",
              "<style>\n",
              "  .colab-df-quickchart {\n",
              "      --bg-color: #E8F0FE;\n",
              "      --fill-color: #1967D2;\n",
              "      --hover-bg-color: #E2EBFA;\n",
              "      --hover-fill-color: #174EA6;\n",
              "      --disabled-fill-color: #AAA;\n",
              "      --disabled-bg-color: #DDD;\n",
              "  }\n",
              "\n",
              "  [theme=dark] .colab-df-quickchart {\n",
              "      --bg-color: #3B4455;\n",
              "      --fill-color: #D2E3FC;\n",
              "      --hover-bg-color: #434B5C;\n",
              "      --hover-fill-color: #FFFFFF;\n",
              "      --disabled-bg-color: #3B4455;\n",
              "      --disabled-fill-color: #666;\n",
              "  }\n",
              "\n",
              "  .colab-df-quickchart {\n",
              "    background-color: var(--bg-color);\n",
              "    border: none;\n",
              "    border-radius: 50%;\n",
              "    cursor: pointer;\n",
              "    display: none;\n",
              "    fill: var(--fill-color);\n",
              "    height: 32px;\n",
              "    padding: 0;\n",
              "    width: 32px;\n",
              "  }\n",
              "\n",
              "  .colab-df-quickchart:hover {\n",
              "    background-color: var(--hover-bg-color);\n",
              "    box-shadow: 0 1px 2px rgba(60, 64, 67, 0.3), 0 1px 3px 1px rgba(60, 64, 67, 0.15);\n",
              "    fill: var(--button-hover-fill-color);\n",
              "  }\n",
              "\n",
              "  .colab-df-quickchart-complete:disabled,\n",
              "  .colab-df-quickchart-complete:disabled:hover {\n",
              "    background-color: var(--disabled-bg-color);\n",
              "    fill: var(--disabled-fill-color);\n",
              "    box-shadow: none;\n",
              "  }\n",
              "\n",
              "  .colab-df-spinner {\n",
              "    border: 2px solid var(--fill-color);\n",
              "    border-color: transparent;\n",
              "    border-bottom-color: var(--fill-color);\n",
              "    animation:\n",
              "      spin 1s steps(1) infinite;\n",
              "  }\n",
              "\n",
              "  @keyframes spin {\n",
              "    0% {\n",
              "      border-color: transparent;\n",
              "      border-bottom-color: var(--fill-color);\n",
              "      border-left-color: var(--fill-color);\n",
              "    }\n",
              "    20% {\n",
              "      border-color: transparent;\n",
              "      border-left-color: var(--fill-color);\n",
              "      border-top-color: var(--fill-color);\n",
              "    }\n",
              "    30% {\n",
              "      border-color: transparent;\n",
              "      border-left-color: var(--fill-color);\n",
              "      border-top-color: var(--fill-color);\n",
              "      border-right-color: var(--fill-color);\n",
              "    }\n",
              "    40% {\n",
              "      border-color: transparent;\n",
              "      border-right-color: var(--fill-color);\n",
              "      border-top-color: var(--fill-color);\n",
              "    }\n",
              "    60% {\n",
              "      border-color: transparent;\n",
              "      border-right-color: var(--fill-color);\n",
              "    }\n",
              "    80% {\n",
              "      border-color: transparent;\n",
              "      border-right-color: var(--fill-color);\n",
              "      border-bottom-color: var(--fill-color);\n",
              "    }\n",
              "    90% {\n",
              "      border-color: transparent;\n",
              "      border-bottom-color: var(--fill-color);\n",
              "    }\n",
              "  }\n",
              "</style>\n",
              "\n",
              "  <script>\n",
              "    async function quickchart(key) {\n",
              "      const quickchartButtonEl =\n",
              "        document.querySelector('#' + key + ' button');\n",
              "      quickchartButtonEl.disabled = true;  // To prevent multiple clicks.\n",
              "      quickchartButtonEl.classList.add('colab-df-spinner');\n",
              "      try {\n",
              "        const charts = await google.colab.kernel.invokeFunction(\n",
              "            'suggestCharts', [key], {});\n",
              "      } catch (error) {\n",
              "        console.error('Error during call to suggestCharts:', error);\n",
              "      }\n",
              "      quickchartButtonEl.classList.remove('colab-df-spinner');\n",
              "      quickchartButtonEl.classList.add('colab-df-quickchart-complete');\n",
              "    }\n",
              "    (() => {\n",
              "      let quickchartButtonEl =\n",
              "        document.querySelector('#df-b2fae40b-0cb7-43be-96dd-5897de47940a button');\n",
              "      quickchartButtonEl.style.display =\n",
              "        google.colab.kernel.accessAllowed ? 'block' : 'none';\n",
              "    })();\n",
              "  </script>\n",
              "</div>\n",
              "    </div>\n",
              "  </div>\n"
            ]
          },
          "metadata": {},
          "execution_count": 12
        }
      ]
    },
    {
      "cell_type": "code",
      "source": [
        "data.date.nunique()"
      ],
      "metadata": {
        "colab": {
          "base_uri": "https://localhost:8080/"
        },
        "id": "2IB8HAHi4vSa",
        "outputId": "fa027d73-8d2a-44aa-8787-3af1145493b3"
      },
      "execution_count": null,
      "outputs": [
        {
          "output_type": "execute_result",
          "data": {
            "text/plain": [
              "47"
            ]
          },
          "metadata": {},
          "execution_count": 76
        }
      ]
    },
    {
      "cell_type": "code",
      "source": [
        "\n",
        "\n",
        "sorted(pd.to_datetime(data.date.unique(), format='%d-%m-%Y'))"
      ],
      "metadata": {
        "colab": {
          "base_uri": "https://localhost:8080/"
        },
        "id": "SiaRd1ul41ri",
        "outputId": "e3416e00-aede-4bbc-cb9d-fd553ee6a9bc"
      },
      "execution_count": null,
      "outputs": [
        {
          "output_type": "execute_result",
          "data": {
            "text/plain": [
              "[Timestamp('2022-12-13 00:00:00'),\n",
              " Timestamp('2022-12-14 00:00:00'),\n",
              " Timestamp('2022-12-15 00:00:00'),\n",
              " Timestamp('2022-12-17 00:00:00'),\n",
              " Timestamp('2022-12-19 00:00:00'),\n",
              " Timestamp('2022-12-20 00:00:00'),\n",
              " Timestamp('2022-12-21 00:00:00'),\n",
              " Timestamp('2022-12-22 00:00:00'),\n",
              " Timestamp('2022-12-23 00:00:00'),\n",
              " Timestamp('2022-12-24 00:00:00'),\n",
              " Timestamp('2022-12-25 00:00:00'),\n",
              " Timestamp('2022-12-26 00:00:00'),\n",
              " Timestamp('2022-12-27 00:00:00'),\n",
              " Timestamp('2022-12-28 00:00:00'),\n",
              " Timestamp('2022-12-29 00:00:00'),\n",
              " Timestamp('2022-12-30 00:00:00'),\n",
              " Timestamp('2022-12-31 00:00:00'),\n",
              " Timestamp('2023-01-01 00:00:00'),\n",
              " Timestamp('2023-01-02 00:00:00'),\n",
              " Timestamp('2023-01-03 00:00:00'),\n",
              " Timestamp('2023-01-04 00:00:00'),\n",
              " Timestamp('2023-01-05 00:00:00'),\n",
              " Timestamp('2023-01-06 00:00:00'),\n",
              " Timestamp('2023-01-07 00:00:00'),\n",
              " Timestamp('2023-01-08 00:00:00'),\n",
              " Timestamp('2023-01-09 00:00:00'),\n",
              " Timestamp('2023-01-10 00:00:00'),\n",
              " Timestamp('2023-01-11 00:00:00'),\n",
              " Timestamp('2023-01-12 00:00:00'),\n",
              " Timestamp('2023-01-13 00:00:00'),\n",
              " Timestamp('2023-01-14 00:00:00'),\n",
              " Timestamp('2023-01-15 00:00:00'),\n",
              " Timestamp('2023-01-16 00:00:00'),\n",
              " Timestamp('2023-01-17 00:00:00'),\n",
              " Timestamp('2023-01-18 00:00:00'),\n",
              " Timestamp('2023-01-19 00:00:00'),\n",
              " Timestamp('2023-01-20 00:00:00'),\n",
              " Timestamp('2023-01-21 00:00:00'),\n",
              " Timestamp('2023-01-22 00:00:00'),\n",
              " Timestamp('2023-01-23 00:00:00'),\n",
              " Timestamp('2023-01-24 00:00:00'),\n",
              " Timestamp('2023-01-25 00:00:00'),\n",
              " Timestamp('2023-01-26 00:00:00'),\n",
              " Timestamp('2023-01-27 00:00:00'),\n",
              " Timestamp('2023-01-28 00:00:00'),\n",
              " Timestamp('2023-01-29 00:00:00'),\n",
              " Timestamp('2023-01-30 00:00:00')]"
            ]
          },
          "metadata": {},
          "execution_count": 83
        }
      ]
    },
    {
      "cell_type": "markdown",
      "source": [
        "### **What's given?**\n",
        "\n",
        "2.6L Odd Interactions spread over 47 Days (13/12/2022 - 31/01/2023)\n",
        "\n",
        "For every user we have 2 kinds of features\n",
        "\n",
        "1. Collaborative\n",
        "\n",
        "  1.   Poll that they saw/interacted with\n",
        "  2.   Type of interaction with the poll\n",
        "\n",
        "2. Content\n",
        "\n",
        "  1. country\n",
        "  2. city\n",
        "  3. gender\n",
        "  4. age\n",
        "  5. college code\n",
        "\n",
        "**Goal**:\n",
        "\n",
        "Based on the above features, for each user, recommend the top 50 polls\n",
        "\n",
        "Approach 0:\n",
        "\n",
        "Popularity Based: Sort the polls by interaction-frequency and prepare top 50 polls and suggest the same to every use\n",
        "\n",
        "Approach 1:\n",
        "\n",
        "Cluster users based on their profile content and cluster polls on their categories and then use user and poll clusters to be served together.\n",
        "\n",
        "Approach 2:\n",
        "\n",
        "Use User - Poll Category data to create co-occurrence matrix (User-Item) and fatorize it using an SVD like decomposition  \n"
      ],
      "metadata": {
        "id": "2XiyT7uT3oxM"
      }
    },
    {
      "cell_type": "code",
      "source": [
        "### Missing Value Treatment"
      ],
      "metadata": {
        "id": "dQO1AiMOPyMv"
      },
      "execution_count": null,
      "outputs": []
    },
    {
      "cell_type": "code",
      "source": [
        "\n",
        "sns.heatmap(data.isna())"
      ],
      "metadata": {
        "colab": {
          "base_uri": "https://localhost:8080/",
          "height": 531
        },
        "id": "mZjtO1dsm3oD",
        "outputId": "aa6b6961-00b2-4858-ba5d-444750b335be"
      },
      "execution_count": null,
      "outputs": [
        {
          "output_type": "execute_result",
          "data": {
            "text/plain": [
              "<Axes: >"
            ]
          },
          "metadata": {},
          "execution_count": 14
        },
        {
          "output_type": "display_data",
          "data": {
            "text/plain": [
              "<Figure size 640x480 with 2 Axes>"
            ],
            "image/png": "[encoded data removed]"
          },
          "metadata": {}
        }
      ]
    },
    {
      "cell_type": "markdown",
      "source": [
        "NaN values are only in 3 columns - age, college_code and categories.\n",
        "1. College code seems to have more than 50% missing values.\n",
        "2. Age seems to be missing for 35% or so (roughly)\n",
        "3. Categories have a few missing (apart from the ones where event is \"Session\" where we cant have a poll_category, there we can try to impute or remove quickly"
      ],
      "metadata": {
        "id": "1VH0cgbfQEhw"
      }
    },
    {
      "cell_type": "markdown",
      "source": [
        "### Data Cleaning"
      ],
      "metadata": {
        "id": "1xt6gNSjZAQ9"
      }
    },
    {
      "cell_type": "code",
      "source": [
        "(data.isnull().sum() / len(data)) * 100"
      ],
      "metadata": {
        "colab": {
          "base_uri": "https://localhost:8080/"
        },
        "id": "19SmotlzMuqA",
        "outputId": "d82a8738-f622-4aa8-9f55-4cf684379234"
      },
      "execution_count": null,
      "outputs": [
        {
          "output_type": "execute_result",
          "data": {
            "text/plain": [
              "createdAt        0.000000\n",
              "user_code        0.000000\n",
              "poll_code        0.000000\n",
              "id_code          0.000000\n",
              "event            0.000000\n",
              "country          0.000000\n",
              "city_code        0.000000\n",
              "gender           0.000000\n",
              "age             31.335923\n",
              "college_code    57.104077\n",
              "categories       1.717599\n",
              "dtype: float64"
            ]
          },
          "metadata": {},
          "execution_count": 15
        }
      ]
    },
    {
      "cell_type": "code",
      "source": [
        "data[data.event=='Session'].poll_code.unique(),data[data.event=='categories'].poll_code.unique()"
      ],
      "metadata": {
        "colab": {
          "base_uri": "https://localhost:8080/"
        },
        "id": "EA0K0zgLQpZa",
        "outputId": "820db658-aefc-45b3-e469-2113f4fbf4d8"
      },
      "execution_count": null,
      "outputs": [
        {
          "output_type": "execute_result",
          "data": {
            "text/plain": [
              "(array(['unknown_poll'], dtype=object), array([], dtype=object))"
            ]
          },
          "metadata": {},
          "execution_count": 16
        }
      ]
    },
    {
      "cell_type": "code",
      "source": [
        "data[data.event=='Session'].user_code.nunique()"
      ],
      "metadata": {
        "colab": {
          "base_uri": "https://localhost:8080/"
        },
        "id": "BITb2OmEtuVO",
        "outputId": "7ab53890-dd0d-4878-898a-b379385464a6"
      },
      "execution_count": null,
      "outputs": [
        {
          "output_type": "execute_result",
          "data": {
            "text/plain": [
              "1781"
            ]
          },
          "metadata": {},
          "execution_count": 17
        }
      ]
    },
    {
      "cell_type": "code",
      "source": [
        "data.user_code.nunique()\n"
      ],
      "metadata": {
        "colab": {
          "base_uri": "https://localhost:8080/"
        },
        "id": "mjyV3mWSvlAQ",
        "outputId": "9a54aa21-1a1a-4865-98d6-f7ca625ce86a"
      },
      "execution_count": null,
      "outputs": [
        {
          "output_type": "execute_result",
          "data": {
            "text/plain": [
              "4499"
            ]
          },
          "metadata": {},
          "execution_count": 18
        }
      ]
    },
    {
      "cell_type": "code",
      "source": [
        "data[data.event!='Session'].isna().sum()"
      ],
      "metadata": {
        "colab": {
          "base_uri": "https://localhost:8080/"
        },
        "id": "5KpbhU2FRfOi",
        "outputId": "738efe8e-957f-410f-a83b-5716581856a8"
      },
      "execution_count": null,
      "outputs": [
        {
          "output_type": "execute_result",
          "data": {
            "text/plain": [
              "createdAt            0\n",
              "user_code            0\n",
              "poll_code            0\n",
              "id_code              0\n",
              "event                0\n",
              "country              0\n",
              "city_code            0\n",
              "gender               0\n",
              "age              80852\n",
              "college_code    148348\n",
              "categories        1103\n",
              "dtype: int64"
            ]
          },
          "metadata": {},
          "execution_count": 19
        }
      ]
    },
    {
      "cell_type": "code",
      "source": [],
      "metadata": {
        "id": "qVME9CAkvgqz"
      },
      "execution_count": null,
      "outputs": []
    },
    {
      "cell_type": "markdown",
      "source": [
        "Looks like when event = Session, we have no details of poll_id which makes sense obviously. Also, not every user_id in the dataset has a session trace\n",
        " as unique userids in the the entire data is 4499, where as with event=session, that number is only 1781"
      ],
      "metadata": {
        "id": "GdSuuxLWwSgP"
      }
    },
    {
      "cell_type": "code",
      "source": [
        "### Removing logs with even = session for now"
      ],
      "metadata": {
        "id": "JNFu0PJCtKab"
      },
      "execution_count": null,
      "outputs": []
    },
    {
      "cell_type": "code",
      "source": [
        "nonsess_data = data[data.event!='Session']\n",
        "nonsess_data.sample()"
      ],
      "metadata": {
        "colab": {
          "base_uri": "https://localhost:8080/",
          "height": 81
        },
        "id": "SLzhO2UWSzKF",
        "outputId": "46fa601a-bf40-4919-badb-7ed60f34e102"
      },
      "execution_count": 13,
      "outputs": [
        {
          "output_type": "execute_result",
          "data": {
            "text/plain": [
              "                      createdAt     user_code poll_code        id_code  \\\n",
              "94616 2023-01-25 07:07:58+00:00  unknown_user  poll_118  option_122357   \n",
              "\n",
              "            event          country     city_code           gender  age  \\\n",
              "94616  Impression  unknown_country  unknown_city  skipped_by_user  NaN   \n",
              "\n",
              "      college_code categories        date  \n",
              "94616          NaN      Other  25-01-2023  "
            ],
            "text/html": [
              "\n",
              "  <div id=\"df-e9a552e1-57d5-432e-8a2c-6550d6a293f0\" class=\"colab-df-container\">\n",
              "    <div>\n",
              "<style scoped>\n",
              "    .dataframe tbody tr th:only-of-type {\n",
              "        vertical-align: middle;\n",
              "    }\n",
              "\n",
              "    .dataframe tbody tr th {\n",
              "        vertical-align: top;\n",
              "    }\n",
              "\n",
              "    .dataframe thead th {\n",
              "        text-align: right;\n",
              "    }\n",
              "</style>\n",
              "<table border=\"1\" class=\"dataframe\">\n",
              "  <thead>\n",
              "    <tr style=\"text-align: right;\">\n",
              "      <th></th>\n",
              "      <th>createdAt</th>\n",
              "      <th>user_code</th>\n",
              "      <th>poll_code</th>\n",
              "      <th>id_code</th>\n",
              "      <th>event</th>\n",
              "      <th>country</th>\n",
              "      <th>city_code</th>\n",
              "      <th>gender</th>\n",
              "      <th>age</th>\n",
              "      <th>college_code</th>\n",
              "      <th>categories</th>\n",
              "      <th>date</th>\n",
              "    </tr>\n",
              "  </thead>\n",
              "  <tbody>\n",
              "    <tr>\n",
              "      <th>94616</th>\n",
              "      <td>2023-01-25 07:07:58+00:00</td>\n",
              "      <td>unknown_user</td>\n",
              "      <td>poll_118</td>\n",
              "      <td>option_122357</td>\n",
              "      <td>Impression</td>\n",
              "      <td>unknown_country</td>\n",
              "      <td>unknown_city</td>\n",
              "      <td>skipped_by_user</td>\n",
              "      <td>NaN</td>\n",
              "      <td>NaN</td>\n",
              "      <td>Other</td>\n",
              "      <td>25-01-2023</td>\n",
              "    </tr>\n",
              "  </tbody>\n",
              "</table>\n",
              "</div>\n",
              "    <div class=\"colab-df-buttons\">\n",
              "\n",
              "  <div class=\"colab-df-container\">\n",
              "    <button class=\"colab-df-convert\" onclick=\"convertToInteractive('df-e9a552e1-57d5-432e-8a2c-6550d6a293f0')\"\n",
              "            title=\"Convert this dataframe to an interactive table.\"\n",
              "            style=\"display:none;\">\n",
              "\n",
              "  <svg xmlns=\"http://www.w3.org/2000/svg\" height=\"24px\" viewBox=\"0 -960 960 960\">\n",
              "    <path d=\"M120-120v-720h720v720H120Zm60-500h600v-160H180v160Zm220 220h160v-160H400v160Zm0 220h160v-160H400v160ZM180-400h160v-160H180v160Zm440 0h160v-160H620v160ZM180-180h160v-160H180v160Zm440 0h160v-160H620v160Z\"/>\n",
              "  </svg>\n",
              "    </button>\n",
              "\n",
              "  <style>\n",
              "    .colab-df-container {\n",
              "      display:flex;\n",
              "      gap: 12px;\n",
              "    }\n",
              "\n",
              "    .colab-df-convert {\n",
              "      background-color: #E8F0FE;\n",
              "      border: none;\n",
              "      border-radius: 50%;\n",
              "      cursor: pointer;\n",
              "      display: none;\n",
              "      fill: #1967D2;\n",
              "      height: 32px;\n",
              "      padding: 0 0 0 0;\n",
              "      width: 32px;\n",
              "    }\n",
              "\n",
              "    .colab-df-convert:hover {\n",
              "      background-color: #E2EBFA;\n",
              "      box-shadow: 0px 1px 2px rgba(60, 64, 67, 0.3), 0px 1px 3px 1px rgba(60, 64, 67, 0.15);\n",
              "      fill: #174EA6;\n",
              "    }\n",
              "\n",
              "    .colab-df-buttons div {\n",
              "      margin-bottom: 4px;\n",
              "    }\n",
              "\n",
              "    [theme=dark] .colab-df-convert {\n",
              "      background-color: #3B4455;\n",
              "      fill: #D2E3FC;\n",
              "    }\n",
              "\n",
              "    [theme=dark] .colab-df-convert:hover {\n",
              "      background-color: #434B5C;\n",
              "      box-shadow: 0px 1px 3px 1px rgba(0, 0, 0, 0.15);\n",
              "      filter: drop-shadow(0px 1px 2px rgba(0, 0, 0, 0.3));\n",
              "      fill: #FFFFFF;\n",
              "    }\n",
              "  </style>\n",
              "\n",
              "    <script>\n",
              "      const buttonEl =\n",
              "        document.querySelector('#df-e9a552e1-57d5-432e-8a2c-6550d6a293f0 button.colab-df-convert');\n",
              "      buttonEl.style.display =\n",
              "        google.colab.kernel.accessAllowed ? 'block' : 'none';\n",
              "\n",
              "      async function convertToInteractive(key) {\n",
              "        const element = document.querySelector('#df-e9a552e1-57d5-432e-8a2c-6550d6a293f0');\n",
              "        const dataTable =\n",
              "          await google.colab.kernel.invokeFunction('convertToInteractive',\n",
              "                                                    [key], {});\n",
              "        if (!dataTable) return;\n",
              "\n",
              "        const docLinkHtml = 'Like what you see? Visit the ' +\n",
              "          '<a target=\"_blank\" href=https://colab.research.google.com/notebooks/data_table.ipynb>data table notebook</a>'\n",
              "          + ' to learn more about interactive tables.';\n",
              "        element.innerHTML = '';\n",
              "        dataTable['output_type'] = 'display_data';\n",
              "        await google.colab.output.renderOutput(dataTable, element);\n",
              "        const docLink = document.createElement('div');\n",
              "        docLink.innerHTML = docLinkHtml;\n",
              "        element.appendChild(docLink);\n",
              "      }\n",
              "    </script>\n",
              "  </div>\n",
              "\n",
              "    </div>\n",
              "  </div>\n"
            ]
          },
          "metadata": {},
          "execution_count": 13
        }
      ]
    },
    {
      "cell_type": "code",
      "source": [
        "len(nonsess_data)  #2.6L"
      ],
      "metadata": {
        "colab": {
          "base_uri": "https://localhost:8080/"
        },
        "id": "qnh8tApRZLPN",
        "outputId": "42e38510-6544-4729-9ad5-c06c0ef6d3a6"
      },
      "execution_count": 14,
      "outputs": [
        {
          "output_type": "execute_result",
          "data": {
            "text/plain": [
              "259970"
            ]
          },
          "metadata": {},
          "execution_count": 14
        }
      ]
    },
    {
      "cell_type": "code",
      "source": [
        "## Dropping all rows with unknown_user because it's hard to impute them; can't approximate the user accurately enough given the state of data available\n",
        "\n",
        "print(nonsess_data[nonsess_data.user_code=='unknown_user'].user_code.count())\n",
        "nonsess_data = nonsess_data[nonsess_data.user_code!='unknown_user']\n"
      ],
      "metadata": {
        "colab": {
          "base_uri": "https://localhost:8080/"
        },
        "id": "hPrMOnK0X_ZJ",
        "outputId": "544831dd-3810-4daf-cde6-3057674c2fce"
      },
      "execution_count": 15,
      "outputs": [
        {
          "output_type": "stream",
          "name": "stdout",
          "text": [
            "15778\n"
          ]
        }
      ]
    },
    {
      "cell_type": "code",
      "source": [],
      "metadata": {
        "id": "F4HaF88aZjsJ"
      },
      "execution_count": null,
      "outputs": []
    },
    {
      "cell_type": "code",
      "source": [],
      "metadata": {
        "id": "Bhm3DmYVgHiZ"
      },
      "execution_count": null,
      "outputs": []
    },
    {
      "cell_type": "markdown",
      "source": [
        "### Dealing with Missing Values in Categories"
      ],
      "metadata": {
        "id": "qYNDv9GcgHa8"
      }
    },
    {
      "cell_type": "code",
      "source": [
        "nonsess_data.head()"
      ],
      "metadata": {
        "colab": {
          "base_uri": "https://localhost:8080/",
          "height": 292
        },
        "id": "BGhhl3ALaSqh",
        "outputId": "1aa16c95-aa1d-4e1b-b637-b239bb3e2ee3"
      },
      "execution_count": null,
      "outputs": [
        {
          "output_type": "execute_result",
          "data": {
            "text/plain": [
              "                  createdAt  user_code poll_code       id_code       event  \\\n",
              "0 2022-12-29 18:30:10+00:00  user_2847   poll_27  option_17106  Impression   \n",
              "1 2022-12-29 18:30:28+00:00  user_2847  poll_220  option_17107  Impression   \n",
              "2 2022-12-29 18:30:38+00:00  user_2847  poll_190  option_17108  Impression   \n",
              "3 2022-12-29 18:30:50+00:00  user_2847  poll_153  option_17109  Impression   \n",
              "4 2022-12-29 18:31:34+00:00  user_2847   poll_42  option_17110  Impression   \n",
              "\n",
              "     country city_code           gender  age college_code  \\\n",
              "0  country_1    city_1  skipped_by_user  NaN          NaN   \n",
              "1  country_1    city_1  skipped_by_user  NaN          NaN   \n",
              "2  country_1    city_1  skipped_by_user  NaN          NaN   \n",
              "3  country_1    city_1  skipped_by_user  NaN          NaN   \n",
              "4  country_1    city_1  skipped_by_user  NaN          NaN   \n",
              "\n",
              "                categories        date  \n",
              "0  Philosophy and Religion  29-12-2022  \n",
              "1         Would You Rather  29-12-2022  \n",
              "2             Hypothetical  29-12-2022  \n",
              "3  Dating and Relationship  29-12-2022  \n",
              "4  Dating and Relationship  29-12-2022  "
            ],
            "text/html": [
              "\n",
              "  <div id=\"df-0ae017e8-608d-46ae-9fbf-2ec027fa80f6\" class=\"colab-df-container\">\n",
              "    <div>\n",
              "<style scoped>\n",
              "    .dataframe tbody tr th:only-of-type {\n",
              "        vertical-align: middle;\n",
              "    }\n",
              "\n",
              "    .dataframe tbody tr th {\n",
              "        vertical-align: top;\n",
              "    }\n",
              "\n",
              "    .dataframe thead th {\n",
              "        text-align: right;\n",
              "    }\n",
              "</style>\n",
              "<table border=\"1\" class=\"dataframe\">\n",
              "  <thead>\n",
              "    <tr style=\"text-align: right;\">\n",
              "      <th></th>\n",
              "      <th>createdAt</th>\n",
              "      <th>user_code</th>\n",
              "      <th>poll_code</th>\n",
              "      <th>id_code</th>\n",
              "      <th>event</th>\n",
              "      <th>country</th>\n",
              "      <th>city_code</th>\n",
              "      <th>gender</th>\n",
              "      <th>age</th>\n",
              "      <th>college_code</th>\n",
              "      <th>categories</th>\n",
              "      <th>date</th>\n",
              "    </tr>\n",
              "  </thead>\n",
              "  <tbody>\n",
              "    <tr>\n",
              "      <th>0</th>\n",
              "      <td>2022-12-29 18:30:10+00:00</td>\n",
              "      <td>user_2847</td>\n",
              "      <td>poll_27</td>\n",
              "      <td>option_17106</td>\n",
              "      <td>Impression</td>\n",
              "      <td>country_1</td>\n",
              "      <td>city_1</td>\n",
              "      <td>skipped_by_user</td>\n",
              "      <td>NaN</td>\n",
              "      <td>NaN</td>\n",
              "      <td>Philosophy and Religion</td>\n",
              "      <td>29-12-2022</td>\n",
              "    </tr>\n",
              "    <tr>\n",
              "      <th>1</th>\n",
              "      <td>2022-12-29 18:30:28+00:00</td>\n",
              "      <td>user_2847</td>\n",
              "      <td>poll_220</td>\n",
              "      <td>option_17107</td>\n",
              "      <td>Impression</td>\n",
              "      <td>country_1</td>\n",
              "      <td>city_1</td>\n",
              "      <td>skipped_by_user</td>\n",
              "      <td>NaN</td>\n",
              "      <td>NaN</td>\n",
              "      <td>Would You Rather</td>\n",
              "      <td>29-12-2022</td>\n",
              "    </tr>\n",
              "    <tr>\n",
              "      <th>2</th>\n",
              "      <td>2022-12-29 18:30:38+00:00</td>\n",
              "      <td>user_2847</td>\n",
              "      <td>poll_190</td>\n",
              "      <td>option_17108</td>\n",
              "      <td>Impression</td>\n",
              "      <td>country_1</td>\n",
              "      <td>city_1</td>\n",
              "      <td>skipped_by_user</td>\n",
              "      <td>NaN</td>\n",
              "      <td>NaN</td>\n",
              "      <td>Hypothetical</td>\n",
              "      <td>29-12-2022</td>\n",
              "    </tr>\n",
              "    <tr>\n",
              "      <th>3</th>\n",
              "      <td>2022-12-29 18:30:50+00:00</td>\n",
              "      <td>user_2847</td>\n",
              "      <td>poll_153</td>\n",
              "      <td>option_17109</td>\n",
              "      <td>Impression</td>\n",
              "      <td>country_1</td>\n",
              "      <td>city_1</td>\n",
              "      <td>skipped_by_user</td>\n",
              "      <td>NaN</td>\n",
              "      <td>NaN</td>\n",
              "      <td>Dating and Relationship</td>\n",
              "      <td>29-12-2022</td>\n",
              "    </tr>\n",
              "    <tr>\n",
              "      <th>4</th>\n",
              "      <td>2022-12-29 18:31:34+00:00</td>\n",
              "      <td>user_2847</td>\n",
              "      <td>poll_42</td>\n",
              "      <td>option_17110</td>\n",
              "      <td>Impression</td>\n",
              "      <td>country_1</td>\n",
              "      <td>city_1</td>\n",
              "      <td>skipped_by_user</td>\n",
              "      <td>NaN</td>\n",
              "      <td>NaN</td>\n",
              "      <td>Dating and Relationship</td>\n",
              "      <td>29-12-2022</td>\n",
              "    </tr>\n",
              "  </tbody>\n",
              "</table>\n",
              "</div>\n",
              "    <div class=\"colab-df-buttons\">\n",
              "\n",
              "  <div class=\"colab-df-container\">\n",
              "    <button class=\"colab-df-convert\" onclick=\"convertToInteractive('df-0ae017e8-608d-46ae-9fbf-2ec027fa80f6')\"\n",
              "            title=\"Convert this dataframe to an interactive table.\"\n",
              "            style=\"display:none;\">\n",
              "\n",
              "  <svg xmlns=\"http://www.w3.org/2000/svg\" height=\"24px\" viewBox=\"0 -960 960 960\">\n",
              "    <path d=\"M120-120v-720h720v720H120Zm60-500h600v-160H180v160Zm220 220h160v-160H400v160Zm0 220h160v-160H400v160ZM180-400h160v-160H180v160Zm440 0h160v-160H620v160ZM180-180h160v-160H180v160Zm440 0h160v-160H620v160Z\"/>\n",
              "  </svg>\n",
              "    </button>\n",
              "\n",
              "  <style>\n",
              "    .colab-df-container {\n",
              "      display:flex;\n",
              "      gap: 12px;\n",
              "    }\n",
              "\n",
              "    .colab-df-convert {\n",
              "      background-color: #E8F0FE;\n",
              "      border: none;\n",
              "      border-radius: 50%;\n",
              "      cursor: pointer;\n",
              "      display: none;\n",
              "      fill: #1967D2;\n",
              "      height: 32px;\n",
              "      padding: 0 0 0 0;\n",
              "      width: 32px;\n",
              "    }\n",
              "\n",
              "    .colab-df-convert:hover {\n",
              "      background-color: #E2EBFA;\n",
              "      box-shadow: 0px 1px 2px rgba(60, 64, 67, 0.3), 0px 1px 3px 1px rgba(60, 64, 67, 0.15);\n",
              "      fill: #174EA6;\n",
              "    }\n",
              "\n",
              "    .colab-df-buttons div {\n",
              "      margin-bottom: 4px;\n",
              "    }\n",
              "\n",
              "    [theme=dark] .colab-df-convert {\n",
              "      background-color: #3B4455;\n",
              "      fill: #D2E3FC;\n",
              "    }\n",
              "\n",
              "    [theme=dark] .colab-df-convert:hover {\n",
              "      background-color: #434B5C;\n",
              "      box-shadow: 0px 1px 3px 1px rgba(0, 0, 0, 0.15);\n",
              "      filter: drop-shadow(0px 1px 2px rgba(0, 0, 0, 0.3));\n",
              "      fill: #FFFFFF;\n",
              "    }\n",
              "  </style>\n",
              "\n",
              "    <script>\n",
              "      const buttonEl =\n",
              "        document.querySelector('#df-0ae017e8-608d-46ae-9fbf-2ec027fa80f6 button.colab-df-convert');\n",
              "      buttonEl.style.display =\n",
              "        google.colab.kernel.accessAllowed ? 'block' : 'none';\n",
              "\n",
              "      async function convertToInteractive(key) {\n",
              "        const element = document.querySelector('#df-0ae017e8-608d-46ae-9fbf-2ec027fa80f6');\n",
              "        const dataTable =\n",
              "          await google.colab.kernel.invokeFunction('convertToInteractive',\n",
              "                                                    [key], {});\n",
              "        if (!dataTable) return;\n",
              "\n",
              "        const docLinkHtml = 'Like what you see? Visit the ' +\n",
              "          '<a target=\"_blank\" href=https://colab.research.google.com/notebooks/data_table.ipynb>data table notebook</a>'\n",
              "          + ' to learn more about interactive tables.';\n",
              "        element.innerHTML = '';\n",
              "        dataTable['output_type'] = 'display_data';\n",
              "        await google.colab.output.renderOutput(dataTable, element);\n",
              "        const docLink = document.createElement('div');\n",
              "        docLink.innerHTML = docLinkHtml;\n",
              "        element.appendChild(docLink);\n",
              "      }\n",
              "    </script>\n",
              "  </div>\n",
              "\n",
              "\n",
              "<div id=\"df-7e929b43-b2ec-4c45-8392-655af08c9452\">\n",
              "  <button class=\"colab-df-quickchart\" onclick=\"quickchart('df-7e929b43-b2ec-4c45-8392-655af08c9452')\"\n",
              "            title=\"Suggest charts.\"\n",
              "            style=\"display:none;\">\n",
              "\n",
              "<svg xmlns=\"http://www.w3.org/2000/svg\" height=\"24px\"viewBox=\"0 0 24 24\"\n",
              "     width=\"24px\">\n",
              "    <g>\n",
              "        <path d=\"M19 3H5c-1.1 0-2 .9-2 2v14c0 1.1.9 2 2 2h14c1.1 0 2-.9 2-2V5c0-1.1-.9-2-2-2zM9 17H7v-7h2v7zm4 0h-2V7h2v10zm4 0h-2v-4h2v4z\"/>\n",
              "    </g>\n",
              "</svg>\n",
              "  </button>\n",
              "\n",
              "<style>\n",
              "  .colab-df-quickchart {\n",
              "      --bg-color: #E8F0FE;\n",
              "      --fill-color: #1967D2;\n",
              "      --hover-bg-color: #E2EBFA;\n",
              "      --hover-fill-color: #174EA6;\n",
              "      --disabled-fill-color: #AAA;\n",
              "      --disabled-bg-color: #DDD;\n",
              "  }\n",
              "\n",
              "  [theme=dark] .colab-df-quickchart {\n",
              "      --bg-color: #3B4455;\n",
              "      --fill-color: #D2E3FC;\n",
              "      --hover-bg-color: #434B5C;\n",
              "      --hover-fill-color: #FFFFFF;\n",
              "      --disabled-bg-color: #3B4455;\n",
              "      --disabled-fill-color: #666;\n",
              "  }\n",
              "\n",
              "  .colab-df-quickchart {\n",
              "    background-color: var(--bg-color);\n",
              "    border: none;\n",
              "    border-radius: 50%;\n",
              "    cursor: pointer;\n",
              "    display: none;\n",
              "    fill: var(--fill-color);\n",
              "    height: 32px;\n",
              "    padding: 0;\n",
              "    width: 32px;\n",
              "  }\n",
              "\n",
              "  .colab-df-quickchart:hover {\n",
              "    background-color: var(--hover-bg-color);\n",
              "    box-shadow: 0 1px 2px rgba(60, 64, 67, 0.3), 0 1px 3px 1px rgba(60, 64, 67, 0.15);\n",
              "    fill: var(--button-hover-fill-color);\n",
              "  }\n",
              "\n",
              "  .colab-df-quickchart-complete:disabled,\n",
              "  .colab-df-quickchart-complete:disabled:hover {\n",
              "    background-color: var(--disabled-bg-color);\n",
              "    fill: var(--disabled-fill-color);\n",
              "    box-shadow: none;\n",
              "  }\n",
              "\n",
              "  .colab-df-spinner {\n",
              "    border: 2px solid var(--fill-color);\n",
              "    border-color: transparent;\n",
              "    border-bottom-color: var(--fill-color);\n",
              "    animation:\n",
              "      spin 1s steps(1) infinite;\n",
              "  }\n",
              "\n",
              "  @keyframes spin {\n",
              "    0% {\n",
              "      border-color: transparent;\n",
              "      border-bottom-color: var(--fill-color);\n",
              "      border-left-color: var(--fill-color);\n",
              "    }\n",
              "    20% {\n",
              "      border-color: transparent;\n",
              "      border-left-color: var(--fill-color);\n",
              "      border-top-color: var(--fill-color);\n",
              "    }\n",
              "    30% {\n",
              "      border-color: transparent;\n",
              "      border-left-color: var(--fill-color);\n",
              "      border-top-color: var(--fill-color);\n",
              "      border-right-color: var(--fill-color);\n",
              "    }\n",
              "    40% {\n",
              "      border-color: transparent;\n",
              "      border-right-color: var(--fill-color);\n",
              "      border-top-color: var(--fill-color);\n",
              "    }\n",
              "    60% {\n",
              "      border-color: transparent;\n",
              "      border-right-color: var(--fill-color);\n",
              "    }\n",
              "    80% {\n",
              "      border-color: transparent;\n",
              "      border-right-color: var(--fill-color);\n",
              "      border-bottom-color: var(--fill-color);\n",
              "    }\n",
              "    90% {\n",
              "      border-color: transparent;\n",
              "      border-bottom-color: var(--fill-color);\n",
              "    }\n",
              "  }\n",
              "</style>\n",
              "\n",
              "  <script>\n",
              "    async function quickchart(key) {\n",
              "      const quickchartButtonEl =\n",
              "        document.querySelector('#' + key + ' button');\n",
              "      quickchartButtonEl.disabled = true;  // To prevent multiple clicks.\n",
              "      quickchartButtonEl.classList.add('colab-df-spinner');\n",
              "      try {\n",
              "        const charts = await google.colab.kernel.invokeFunction(\n",
              "            'suggestCharts', [key], {});\n",
              "      } catch (error) {\n",
              "        console.error('Error during call to suggestCharts:', error);\n",
              "      }\n",
              "      quickchartButtonEl.classList.remove('colab-df-spinner');\n",
              "      quickchartButtonEl.classList.add('colab-df-quickchart-complete');\n",
              "    }\n",
              "    (() => {\n",
              "      let quickchartButtonEl =\n",
              "        document.querySelector('#df-7e929b43-b2ec-4c45-8392-655af08c9452 button');\n",
              "      quickchartButtonEl.style.display =\n",
              "        google.colab.kernel.accessAllowed ? 'block' : 'none';\n",
              "    })();\n",
              "  </script>\n",
              "</div>\n",
              "    </div>\n",
              "  </div>\n"
            ]
          },
          "metadata": {},
          "execution_count": 73
        }
      ]
    },
    {
      "cell_type": "code",
      "source": [
        "nonsess_data.poll_code.count(), nonsess_data.poll_code.nunique()"
      ],
      "metadata": {
        "colab": {
          "base_uri": "https://localhost:8080/"
        },
        "id": "o_Mx3VsblnE0",
        "outputId": "9d38a45e-8879-472a-dce1-7bdedb654909"
      },
      "execution_count": null,
      "outputs": [
        {
          "output_type": "execute_result",
          "data": {
            "text/plain": [
              "(244192, 890)"
            ]
          },
          "metadata": {},
          "execution_count": 159
        }
      ]
    },
    {
      "cell_type": "code",
      "source": [
        "print(nonsess_data.isna().sum())\n",
        "sns.heatmap(nonsess_data.isna())"
      ],
      "metadata": {
        "colab": {
          "base_uri": "https://localhost:8080/",
          "height": 766
        },
        "id": "5udu726k0E8q",
        "outputId": "347c1d6c-7b7e-4831-edab-ceb0c7c86818"
      },
      "execution_count": null,
      "outputs": [
        {
          "output_type": "stream",
          "name": "stdout",
          "text": [
            "createdAt            0\n",
            "user_code            0\n",
            "poll_code            0\n",
            "id_code              0\n",
            "event                0\n",
            "country              0\n",
            "city_code            0\n",
            "gender               0\n",
            "age              65074\n",
            "college_code    132570\n",
            "categories        1080\n",
            "date                 0\n",
            "dtype: int64\n"
          ]
        },
        {
          "output_type": "execute_result",
          "data": {
            "text/plain": [
              "<Axes: >"
            ]
          },
          "metadata": {},
          "execution_count": 160
        },
        {
          "output_type": "display_data",
          "data": {
            "text/plain": [
              "<Figure size 640x480 with 2 Axes>"
            ],
            "image/png": "[encoded data removed]"
          },
          "metadata": {}
        }
      ]
    },
    {
      "cell_type": "code",
      "source": [
        "### Exploring Category as a column (when value is NA) against other features such as users, event,date etc."
      ],
      "metadata": {
        "id": "1MlBIjHvjDjz"
      },
      "execution_count": null,
      "outputs": []
    },
    {
      "cell_type": "code",
      "source": [
        "### missing \"categories\" for - 1080 rows"
      ],
      "metadata": {
        "id": "iZP2qCMpxiSd"
      },
      "execution_count": null,
      "outputs": []
    },
    {
      "cell_type": "code",
      "source": [
        "nonsess_data[nonsess_data.categories.isna()].user_code.value_counts(normalize=True).head(10)*100"
      ],
      "metadata": {
        "colab": {
          "base_uri": "https://localhost:8080/"
        },
        "id": "pT39aqIDUSCe",
        "outputId": "94f15643-486b-4e9d-a54d-b140170ff560"
      },
      "execution_count": 16,
      "outputs": [
        {
          "output_type": "execute_result",
          "data": {
            "text/plain": [
              "user_61     10.185185\n",
              "user_249     5.370370\n",
              "user_115     5.277778\n",
              "user_29      4.166667\n",
              "user_121     4.074074\n",
              "user_131     3.796296\n",
              "user_109     3.796296\n",
              "user_135     3.703704\n",
              "user_2       3.425926\n",
              "user_53      3.055556\n",
              "Name: user_code, dtype: float64"
            ]
          },
          "metadata": {},
          "execution_count": 16
        }
      ]
    },
    {
      "cell_type": "code",
      "source": [
        "nonsess_data[nonsess_data.categories.isna()].groupby('event').createdAt.count()"
      ],
      "metadata": {
        "colab": {
          "base_uri": "https://localhost:8080/"
        },
        "id": "Gu-rzee1YmlB",
        "outputId": "5a0fcec3-bcef-43e2-edb6-bc929c2abcba"
      },
      "execution_count": 17,
      "outputs": [
        {
          "output_type": "execute_result",
          "data": {
            "text/plain": [
              "event\n",
              "Expand          49\n",
              "Impression    1024\n",
              "Shares           7\n",
              "Name: createdAt, dtype: int64"
            ]
          },
          "metadata": {},
          "execution_count": 17
        }
      ]
    },
    {
      "cell_type": "code",
      "source": [
        "na_category_pollCodes = nonsess_data[nonsess_data.categories.isna()].poll_code.tolist()\n",
        "len(na_category_pollCodes), len(set(na_category_pollCodes))   ### 185/893 poll_codes dont have a category"
      ],
      "metadata": {
        "colab": {
          "base_uri": "https://localhost:8080/"
        },
        "id": "Nm_Sn7NwhCxG",
        "outputId": "96955c33-d846-4468-df57-c74777a93f51"
      },
      "execution_count": 20,
      "outputs": [
        {
          "output_type": "execute_result",
          "data": {
            "text/plain": [
              "(1080, 183)"
            ]
          },
          "metadata": {},
          "execution_count": 20
        }
      ]
    },
    {
      "cell_type": "markdown",
      "source": [
        "183 Polls, occuring 1080 times have been missing category values\n",
        "\n"
      ],
      "metadata": {
        "id": "U23r_GWYmfPg"
      }
    },
    {
      "cell_type": "code",
      "source": [
        "### most missing values arise on 2 timeframes: [10,11 Jan 2023], [15,17,21,22] Dec 2022\n",
        "nonsess_data[nonsess_data.categories.isna()].groupby('date').date.count()"
      ],
      "metadata": {
        "colab": {
          "base_uri": "https://localhost:8080/"
        },
        "id": "cBzMbRWC1Nqo",
        "outputId": "cd27bd9f-b165-4a29-a9cd-8841ff6571cb"
      },
      "execution_count": null,
      "outputs": [
        {
          "output_type": "execute_result",
          "data": {
            "text/plain": [
              "date\n",
              "10-01-2023    255\n",
              "11-01-2023    278\n",
              "14-12-2022      1\n",
              "15-12-2022     52\n",
              "17-12-2022    159\n",
              "21-12-2022    295\n",
              "22-12-2022     40\n",
              "Name: date, dtype: int64"
            ]
          },
          "metadata": {},
          "execution_count": 165
        }
      ]
    },
    {
      "cell_type": "code",
      "source": [
        "tf1 = list(nonsess_data[nonsess_data.categories.isna()].groupby('date').date.count().index.values[:2])\n",
        "tf2 = list(nonsess_data[nonsess_data.categories.isna()].groupby('date').date.count().index.values[2:])\n",
        "tf1,tf2"
      ],
      "metadata": {
        "colab": {
          "base_uri": "https://localhost:8080/"
        },
        "id": "RtKReyGRc2Hx",
        "outputId": "72d1cecf-16ff-4d82-d7c3-36100891e312"
      },
      "execution_count": 18,
      "outputs": [
        {
          "output_type": "execute_result",
          "data": {
            "text/plain": [
              "(['10-01-2023', '11-01-2023'],\n",
              " ['14-12-2022', '15-12-2022', '17-12-2022', '21-12-2022', '22-12-2022'])"
            ]
          },
          "metadata": {},
          "execution_count": 18
        }
      ]
    },
    {
      "cell_type": "code",
      "source": [
        "nonsess_data[nonsess_data.date.isin(tf1+tf2)].date.value_counts()"
      ],
      "metadata": {
        "colab": {
          "base_uri": "https://localhost:8080/"
        },
        "id": "45_6rNkIhMrT",
        "outputId": "6aa834a9-5b09-4623-b487-65a9259db60f"
      },
      "execution_count": null,
      "outputs": [
        {
          "output_type": "execute_result",
          "data": {
            "text/plain": [
              "10-01-2023    5833\n",
              "11-01-2023    3112\n",
              "21-12-2022    1093\n",
              "22-12-2022    1040\n",
              "17-12-2022     159\n",
              "15-12-2022      52\n",
              "14-12-2022       1\n",
              "Name: date, dtype: int64"
            ]
          },
          "metadata": {},
          "execution_count": 167
        }
      ]
    },
    {
      "cell_type": "markdown",
      "source": [
        "### Imputing \"categories\" based on user_codes, date and gender.\n",
        "\n",
        "Do it in 2 parts : Date Timeframe 1 -[10-11 Jan]  and Date Timeframe 2-[15-22th Dec]\n",
        "\n",
        "For every poll_code with a missing category, lets identify what all user_codes comprise that poll_code, and find top category of that user set (with/without gender maybe?) and replace the NaN value with that category"
      ],
      "metadata": {
        "id": "SaQyQb80zq5Y"
      }
    },
    {
      "cell_type": "code",
      "source": [
        "missingCatDf = nonsess_data[nonsess_data.poll_code.isin(set(na_category_pollCodes))]\n",
        "temp1 = missingCatDf[missingCatDf.date.isin(tf1)]\n",
        "temp2 = missingCatDf[missingCatDf.date.isin(tf2)]\n",
        "temp1.sample()"
      ],
      "metadata": {
        "colab": {
          "base_uri": "https://localhost:8080/",
          "height": 81
        },
        "id": "Xx1umlXY0fC1",
        "outputId": "5dbc9e61-9dbe-41ee-8574-962a7f952fa7"
      },
      "execution_count": 21,
      "outputs": [
        {
          "output_type": "execute_result",
          "data": {
            "text/plain": [
              "                      createdAt user_code poll_code       id_code       event  \\\n",
              "68864 2023-01-10 16:42:22+00:00  user_130  poll_909  option_95491  Impression   \n",
              "\n",
              "         country city_code  gender   age                  college_code  \\\n",
              "68864  country_1    city_1  female  19.0  MataSundri College for Women   \n",
              "\n",
              "      categories        date  \n",
              "68864        NaN  10-01-2023  "
            ],
            "text/html": [
              "\n",
              "  <div id=\"df-12565e4a-9ab6-4475-bb33-b4746eec01b4\" class=\"colab-df-container\">\n",
              "    <div>\n",
              "<style scoped>\n",
              "    .dataframe tbody tr th:only-of-type {\n",
              "        vertical-align: middle;\n",
              "    }\n",
              "\n",
              "    .dataframe tbody tr th {\n",
              "        vertical-align: top;\n",
              "    }\n",
              "\n",
              "    .dataframe thead th {\n",
              "        text-align: right;\n",
              "    }\n",
              "</style>\n",
              "<table border=\"1\" class=\"dataframe\">\n",
              "  <thead>\n",
              "    <tr style=\"text-align: right;\">\n",
              "      <th></th>\n",
              "      <th>createdAt</th>\n",
              "      <th>user_code</th>\n",
              "      <th>poll_code</th>\n",
              "      <th>id_code</th>\n",
              "      <th>event</th>\n",
              "      <th>country</th>\n",
              "      <th>city_code</th>\n",
              "      <th>gender</th>\n",
              "      <th>age</th>\n",
              "      <th>college_code</th>\n",
              "      <th>categories</th>\n",
              "      <th>date</th>\n",
              "    </tr>\n",
              "  </thead>\n",
              "  <tbody>\n",
              "    <tr>\n",
              "      <th>68864</th>\n",
              "      <td>2023-01-10 16:42:22+00:00</td>\n",
              "      <td>user_130</td>\n",
              "      <td>poll_909</td>\n",
              "      <td>option_95491</td>\n",
              "      <td>Impression</td>\n",
              "      <td>country_1</td>\n",
              "      <td>city_1</td>\n",
              "      <td>female</td>\n",
              "      <td>19.0</td>\n",
              "      <td>MataSundri College for Women</td>\n",
              "      <td>NaN</td>\n",
              "      <td>10-01-2023</td>\n",
              "    </tr>\n",
              "  </tbody>\n",
              "</table>\n",
              "</div>\n",
              "    <div class=\"colab-df-buttons\">\n",
              "\n",
              "  <div class=\"colab-df-container\">\n",
              "    <button class=\"colab-df-convert\" onclick=\"convertToInteractive('df-12565e4a-9ab6-4475-bb33-b4746eec01b4')\"\n",
              "            title=\"Convert this dataframe to an interactive table.\"\n",
              "            style=\"display:none;\">\n",
              "\n",
              "  <svg xmlns=\"http://www.w3.org/2000/svg\" height=\"24px\" viewBox=\"0 -960 960 960\">\n",
              "    <path d=\"M120-120v-720h720v720H120Zm60-500h600v-160H180v160Zm220 220h160v-160H400v160Zm0 220h160v-160H400v160ZM180-400h160v-160H180v160Zm440 0h160v-160H620v160ZM180-180h160v-160H180v160Zm440 0h160v-160H620v160Z\"/>\n",
              "  </svg>\n",
              "    </button>\n",
              "\n",
              "  <style>\n",
              "    .colab-df-container {\n",
              "      display:flex;\n",
              "      gap: 12px;\n",
              "    }\n",
              "\n",
              "    .colab-df-convert {\n",
              "      background-color: #E8F0FE;\n",
              "      border: none;\n",
              "      border-radius: 50%;\n",
              "      cursor: pointer;\n",
              "      display: none;\n",
              "      fill: #1967D2;\n",
              "      height: 32px;\n",
              "      padding: 0 0 0 0;\n",
              "      width: 32px;\n",
              "    }\n",
              "\n",
              "    .colab-df-convert:hover {\n",
              "      background-color: #E2EBFA;\n",
              "      box-shadow: 0px 1px 2px rgba(60, 64, 67, 0.3), 0px 1px 3px 1px rgba(60, 64, 67, 0.15);\n",
              "      fill: #174EA6;\n",
              "    }\n",
              "\n",
              "    .colab-df-buttons div {\n",
              "      margin-bottom: 4px;\n",
              "    }\n",
              "\n",
              "    [theme=dark] .colab-df-convert {\n",
              "      background-color: #3B4455;\n",
              "      fill: #D2E3FC;\n",
              "    }\n",
              "\n",
              "    [theme=dark] .colab-df-convert:hover {\n",
              "      background-color: #434B5C;\n",
              "      box-shadow: 0px 1px 3px 1px rgba(0, 0, 0, 0.15);\n",
              "      filter: drop-shadow(0px 1px 2px rgba(0, 0, 0, 0.3));\n",
              "      fill: #FFFFFF;\n",
              "    }\n",
              "  </style>\n",
              "\n",
              "    <script>\n",
              "      const buttonEl =\n",
              "        document.querySelector('#df-12565e4a-9ab6-4475-bb33-b4746eec01b4 button.colab-df-convert');\n",
              "      buttonEl.style.display =\n",
              "        google.colab.kernel.accessAllowed ? 'block' : 'none';\n",
              "\n",
              "      async function convertToInteractive(key) {\n",
              "        const element = document.querySelector('#df-12565e4a-9ab6-4475-bb33-b4746eec01b4');\n",
              "        const dataTable =\n",
              "          await google.colab.kernel.invokeFunction('convertToInteractive',\n",
              "                                                    [key], {});\n",
              "        if (!dataTable) return;\n",
              "\n",
              "        const docLinkHtml = 'Like what you see? Visit the ' +\n",
              "          '<a target=\"_blank\" href=https://colab.research.google.com/notebooks/data_table.ipynb>data table notebook</a>'\n",
              "          + ' to learn more about interactive tables.';\n",
              "        element.innerHTML = '';\n",
              "        dataTable['output_type'] = 'display_data';\n",
              "        await google.colab.output.renderOutput(dataTable, element);\n",
              "        const docLink = document.createElement('div');\n",
              "        docLink.innerHTML = docLinkHtml;\n",
              "        element.appendChild(docLink);\n",
              "      }\n",
              "    </script>\n",
              "  </div>\n",
              "\n",
              "    </div>\n",
              "  </div>\n"
            ]
          },
          "metadata": {},
          "execution_count": 21
        }
      ]
    },
    {
      "cell_type": "code",
      "source": [
        "temp1.poll_code.nunique(),temp2.poll_code.nunique()"
      ],
      "metadata": {
        "colab": {
          "base_uri": "https://localhost:8080/"
        },
        "id": "fFudxALTfnBM",
        "outputId": "44e0bd83-d6e6-4780-e872-1a0761d3ac7e"
      },
      "execution_count": null,
      "outputs": [
        {
          "output_type": "execute_result",
          "data": {
            "text/plain": [
              "(21, 162)"
            ]
          },
          "metadata": {},
          "execution_count": 169
        }
      ]
    },
    {
      "cell_type": "code",
      "source": [
        "nonsess_data_tf1 = nonsess_data[nonsess_data.date.isin(tf1)]\n",
        "nonsess_data_tf2 = nonsess_data[nonsess_data.date.isin(tf2)]\n",
        "len(nonsess_data_tf1), len(nonsess_data_tf2)"
      ],
      "metadata": {
        "colab": {
          "base_uri": "https://localhost:8080/"
        },
        "id": "zflSy6Snh-z5",
        "outputId": "cd314cd1-10b3-47ba-9a9f-96ff50846d2f"
      },
      "execution_count": 22,
      "outputs": [
        {
          "output_type": "execute_result",
          "data": {
            "text/plain": [
              "(8945, 2345)"
            ]
          },
          "metadata": {},
          "execution_count": 22
        }
      ]
    },
    {
      "cell_type": "code",
      "source": [],
      "metadata": {
        "id": "efz4G-P6gj1-"
      },
      "execution_count": 23,
      "outputs": []
    },
    {
      "cell_type": "code",
      "source": [],
      "metadata": {
        "colab": {
          "base_uri": "https://localhost:8080/"
        },
        "id": "Z-nJLAYsB_0F",
        "outputId": "afa85603-a47a-4a87-d01d-2064d168895f"
      },
      "execution_count": null,
      "outputs": [
        {
          "output_type": "stream",
          "name": "stdout",
          "text": [
            "[]\n"
          ]
        }
      ]
    },
    {
      "cell_type": "code",
      "source": [
        "pollCode_category_pred = {}"
      ],
      "metadata": {
        "id": "Gv8EGoRiI5rg"
      },
      "execution_count": 24,
      "outputs": []
    },
    {
      "cell_type": "code",
      "source": [
        "####---------------Timeframe 1 ----------------#########\n",
        "for pollCode in temp1.poll_code.unique().tolist():\n",
        "  usersWhoInteractedWithPoll = nonsess_data_tf1[nonsess_data_tf1.poll_code==pollCode].user_code.unique().tolist()\n",
        "  topUserClusterCategory = list(nonsess_data_tf1[nonsess_data_tf1.user_code.isin(usersWhoInteractedWithPoll)].categories.value_counts().head(1).index)\n",
        "  if len(topUserClusterCategory):\n",
        "    pollCode_category_pred[pollCode] = topUserClusterCategory[0]\n",
        "\n",
        "\n",
        "####---------------Timeframe 2 ----------------#########\n",
        "for pollCode in temp2.poll_code.unique().tolist():\n",
        "  usersWhoInteractedWithPoll = nonsess_data_tf2[nonsess_data_tf2.poll_code==pollCode].user_code.unique().tolist()\n",
        "  topUserClusterCategory = list(nonsess_data_tf2[nonsess_data_tf2.user_code.isin(usersWhoInteractedWithPoll)].categories.value_counts().head(1).index)\n",
        "  if len(topUserClusterCategory):\n",
        "    pollCode_category_pred[pollCode] = topUserClusterCategory[0]\n",
        "len(pollCode_category_pred)"
      ],
      "metadata": {
        "colab": {
          "base_uri": "https://localhost:8080/"
        },
        "id": "mOlBvjfInRSJ",
        "outputId": "a7900478-b6c4-4b0a-87fd-19b4c166eba9"
      },
      "execution_count": 25,
      "outputs": [
        {
          "output_type": "execute_result",
          "data": {
            "text/plain": [
              "180"
            ]
          },
          "metadata": {},
          "execution_count": 25
        }
      ]
    },
    {
      "cell_type": "markdown",
      "source": [
        "180/183 missing category poll_code could be imputed this way"
      ],
      "metadata": {
        "id": "efrSWoRSdgxA"
      }
    },
    {
      "cell_type": "code",
      "source": [],
      "metadata": {
        "id": "PifDYSlDnBjO"
      },
      "execution_count": null,
      "outputs": []
    },
    {
      "cell_type": "code",
      "source": [
        "pd.Series(list(pollCode_category_pred.values())).value_counts()"
      ],
      "metadata": {
        "colab": {
          "base_uri": "https://localhost:8080/"
        },
        "id": "3gYKA6PyBoPJ",
        "outputId": "72ad6264-8f1d-4e9c-fc0b-3d1dc5feb1ad"
      },
      "execution_count": 26,
      "outputs": [
        {
          "output_type": "execute_result",
          "data": {
            "text/plain": [
              "Dating and Relationship    143\n",
              "Other                       23\n",
              "Hypothetical                14\n",
              "dtype: int64"
            ]
          },
          "metadata": {},
          "execution_count": 26
        }
      ]
    },
    {
      "cell_type": "code",
      "source": [
        "subset = nonsess_data[nonsess_data.poll_code.isin(pollCode_category_pred.keys())]\n",
        "subset['categories'] = subset['poll_code'].apply(lambda x: pollCode_category_pred.get(x))\n",
        "nonsess_data.loc[subset.index] = subset"
      ],
      "metadata": {
        "colab": {
          "base_uri": "https://localhost:8080/"
        },
        "id": "QiPAlbZ4BoSk",
        "outputId": "da797ba4-dd87-4b51-8d46-1a9e66e5d185"
      },
      "execution_count": 27,
      "outputs": [
        {
          "output_type": "stream",
          "name": "stderr",
          "text": [
            "<ipython-input-27-b58152f1766e>:2: SettingWithCopyWarning: \n",
            "A value is trying to be set on a copy of a slice from a DataFrame.\n",
            "Try using .loc[row_indexer,col_indexer] = value instead\n",
            "\n",
            "See the caveats in the documentation: https://pandas.pydata.org/pandas-docs/stable/user_guide/indexing.html#returning-a-view-versus-a-copy\n",
            "  subset['categories'] = subset['poll_code'].apply(lambda x: pollCode_category_pred.get(x))\n"
          ]
        }
      ]
    },
    {
      "cell_type": "code",
      "source": [
        "nonsess_data.categories.isna().sum()\n",
        "nonsess_data = nonsess_data[~nonsess_data.categories.isna()]"
      ],
      "metadata": {
        "id": "vivvREiyBoWE"
      },
      "execution_count": 28,
      "outputs": []
    },
    {
      "cell_type": "code",
      "source": [
        "sns.heatmap(nonsess_data.isna())"
      ],
      "metadata": {
        "colab": {
          "base_uri": "https://localhost:8080/",
          "height": 531
        },
        "id": "Tnz9dlHPBokD",
        "outputId": "13fcc8c2-2d57-4723-c878-2a5edc8af2ca"
      },
      "execution_count": null,
      "outputs": [
        {
          "output_type": "execute_result",
          "data": {
            "text/plain": [
              "<Axes: >"
            ]
          },
          "metadata": {},
          "execution_count": 222
        },
        {
          "output_type": "display_data",
          "data": {
            "text/plain": [
              "<Figure size 640x480 with 2 Axes>"
            ],
            "image/png": "[encoded data removed]"
          },
          "metadata": {}
        }
      ]
    },
    {
      "cell_type": "markdown",
      "source": [
        "So we imputed the data for missing categories using the popular categories for the users who engaged with those polls (on those dates)"
      ],
      "metadata": {
        "id": "jnn_g0kzofL1"
      }
    },
    {
      "cell_type": "code",
      "source": [],
      "metadata": {
        "id": "LoWbEWAwBoni"
      },
      "execution_count": null,
      "outputs": []
    },
    {
      "cell_type": "markdown",
      "source": [
        "### Creating a Score Map for Ranking each interaction (event) in order of its importance\n",
        "\n",
        "\n",
        "event_to_interactionStrength = {\n",
        "    'Polls Answered': 1.0,  # Strong positive interaction\n",
        "    'Shares': 1.0,          # Strong positive interaction\n",
        "    'Expand': 0.6,          # Mild positive interaction\n",
        "    'Impression': 0.2,      # Weak positive interaction\n",
        "}\n",
        "\n"
      ],
      "metadata": {
        "id": "zJ6vjZdKo60m"
      }
    },
    {
      "cell_type": "code",
      "source": [
        "event_to_interactionStrength = {\n",
        "    'Polls Answered': 1.0,  # Strong positive interaction\n",
        "    'Shares': 1.0,          # Strong positive interaction\n",
        "    'Expand': 0.6,          # Mild positive interaction\n",
        "    'Impression': 0.2,      # Weak positive interaction\n",
        "}"
      ],
      "metadata": {
        "id": "yzOSWkIZBoq2"
      },
      "execution_count": 29,
      "outputs": []
    },
    {
      "cell_type": "code",
      "source": [
        "nonsess_data['strength'] = nonsess_data.event.apply(lambda x:event_to_interactionStrength.get(x,0) )\n"
      ],
      "metadata": {
        "id": "LVFcjNLZBouu"
      },
      "execution_count": 32,
      "outputs": []
    },
    {
      "cell_type": "code",
      "source": [
        "nonsess_data[['user_code','poll_code','strength']]"
      ],
      "metadata": {
        "colab": {
          "base_uri": "https://localhost:8080/",
          "height": 424
        },
        "id": "4sIyBf9zp07j",
        "outputId": "3ab6ab6d-4bae-43b7-ae39-ca1a3bcde6b1"
      },
      "execution_count": 33,
      "outputs": [
        {
          "output_type": "execute_result",
          "data": {
            "text/plain": [
              "        user_code poll_code  strength\n",
              "0       user_2847   poll_27       0.2\n",
              "1       user_2847  poll_220       0.2\n",
              "2       user_2847  poll_190       0.2\n",
              "3       user_2847  poll_153       0.2\n",
              "4       user_2847   poll_42       0.2\n",
              "...           ...       ...       ...\n",
              "263386   user_131  poll_706       1.0\n",
              "263387    user_55  poll_707       1.0\n",
              "263388    user_57  poll_707       1.0\n",
              "263389    user_71  poll_707       1.0\n",
              "263390   user_415  poll_707       1.0\n",
              "\n",
              "[244181 rows x 3 columns]"
            ],
            "text/html": [
              "\n",
              "  <div id=\"df-cebc8b72-a3ab-486d-86ce-b662c0109a18\" class=\"colab-df-container\">\n",
              "    <div>\n",
              "<style scoped>\n",
              "    .dataframe tbody tr th:only-of-type {\n",
              "        vertical-align: middle;\n",
              "    }\n",
              "\n",
              "    .dataframe tbody tr th {\n",
              "        vertical-align: top;\n",
              "    }\n",
              "\n",
              "    .dataframe thead th {\n",
              "        text-align: right;\n",
              "    }\n",
              "</style>\n",
              "<table border=\"1\" class=\"dataframe\">\n",
              "  <thead>\n",
              "    <tr style=\"text-align: right;\">\n",
              "      <th></th>\n",
              "      <th>user_code</th>\n",
              "      <th>poll_code</th>\n",
              "      <th>strength</th>\n",
              "    </tr>\n",
              "  </thead>\n",
              "  <tbody>\n",
              "    <tr>\n",
              "      <th>0</th>\n",
              "      <td>user_2847</td>\n",
              "      <td>poll_27</td>\n",
              "      <td>0.2</td>\n",
              "    </tr>\n",
              "    <tr>\n",
              "      <th>1</th>\n",
              "      <td>user_2847</td>\n",
              "      <td>poll_220</td>\n",
              "      <td>0.2</td>\n",
              "    </tr>\n",
              "    <tr>\n",
              "      <th>2</th>\n",
              "      <td>user_2847</td>\n",
              "      <td>poll_190</td>\n",
              "      <td>0.2</td>\n",
              "    </tr>\n",
              "    <tr>\n",
              "      <th>3</th>\n",
              "      <td>user_2847</td>\n",
              "      <td>poll_153</td>\n",
              "      <td>0.2</td>\n",
              "    </tr>\n",
              "    <tr>\n",
              "      <th>4</th>\n",
              "      <td>user_2847</td>\n",
              "      <td>poll_42</td>\n",
              "      <td>0.2</td>\n",
              "    </tr>\n",
              "    <tr>\n",
              "      <th>...</th>\n",
              "      <td>...</td>\n",
              "      <td>...</td>\n",
              "      <td>...</td>\n",
              "    </tr>\n",
              "    <tr>\n",
              "      <th>263386</th>\n",
              "      <td>user_131</td>\n",
              "      <td>poll_706</td>\n",
              "      <td>1.0</td>\n",
              "    </tr>\n",
              "    <tr>\n",
              "      <th>263387</th>\n",
              "      <td>user_55</td>\n",
              "      <td>poll_707</td>\n",
              "      <td>1.0</td>\n",
              "    </tr>\n",
              "    <tr>\n",
              "      <th>263388</th>\n",
              "      <td>user_57</td>\n",
              "      <td>poll_707</td>\n",
              "      <td>1.0</td>\n",
              "    </tr>\n",
              "    <tr>\n",
              "      <th>263389</th>\n",
              "      <td>user_71</td>\n",
              "      <td>poll_707</td>\n",
              "      <td>1.0</td>\n",
              "    </tr>\n",
              "    <tr>\n",
              "      <th>263390</th>\n",
              "      <td>user_415</td>\n",
              "      <td>poll_707</td>\n",
              "      <td>1.0</td>\n",
              "    </tr>\n",
              "  </tbody>\n",
              "</table>\n",
              "<p>244181 rows × 3 columns</p>\n",
              "</div>\n",
              "    <div class=\"colab-df-buttons\">\n",
              "\n",
              "  <div class=\"colab-df-container\">\n",
              "    <button class=\"colab-df-convert\" onclick=\"convertToInteractive('df-cebc8b72-a3ab-486d-86ce-b662c0109a18')\"\n",
              "            title=\"Convert this dataframe to an interactive table.\"\n",
              "            style=\"display:none;\">\n",
              "\n",
              "  <svg xmlns=\"http://www.w3.org/2000/svg\" height=\"24px\" viewBox=\"0 -960 960 960\">\n",
              "    <path d=\"M120-120v-720h720v720H120Zm60-500h600v-160H180v160Zm220 220h160v-160H400v160Zm0 220h160v-160H400v160ZM180-400h160v-160H180v160Zm440 0h160v-160H620v160ZM180-180h160v-160H180v160Zm440 0h160v-160H620v160Z\"/>\n",
              "  </svg>\n",
              "    </button>\n",
              "\n",
              "  <style>\n",
              "    .colab-df-container {\n",
              "      display:flex;\n",
              "      gap: 12px;\n",
              "    }\n",
              "\n",
              "    .colab-df-convert {\n",
              "      background-color: #E8F0FE;\n",
              "      border: none;\n",
              "      border-radius: 50%;\n",
              "      cursor: pointer;\n",
              "      display: none;\n",
              "      fill: #1967D2;\n",
              "      height: 32px;\n",
              "      padding: 0 0 0 0;\n",
              "      width: 32px;\n",
              "    }\n",
              "\n",
              "    .colab-df-convert:hover {\n",
              "      background-color: #E2EBFA;\n",
              "      box-shadow: 0px 1px 2px rgba(60, 64, 67, 0.3), 0px 1px 3px 1px rgba(60, 64, 67, 0.15);\n",
              "      fill: #174EA6;\n",
              "    }\n",
              "\n",
              "    .colab-df-buttons div {\n",
              "      margin-bottom: 4px;\n",
              "    }\n",
              "\n",
              "    [theme=dark] .colab-df-convert {\n",
              "      background-color: #3B4455;\n",
              "      fill: #D2E3FC;\n",
              "    }\n",
              "\n",
              "    [theme=dark] .colab-df-convert:hover {\n",
              "      background-color: #434B5C;\n",
              "      box-shadow: 0px 1px 3px 1px rgba(0, 0, 0, 0.15);\n",
              "      filter: drop-shadow(0px 1px 2px rgba(0, 0, 0, 0.3));\n",
              "      fill: #FFFFFF;\n",
              "    }\n",
              "  </style>\n",
              "\n",
              "    <script>\n",
              "      const buttonEl =\n",
              "        document.querySelector('#df-cebc8b72-a3ab-486d-86ce-b662c0109a18 button.colab-df-convert');\n",
              "      buttonEl.style.display =\n",
              "        google.colab.kernel.accessAllowed ? 'block' : 'none';\n",
              "\n",
              "      async function convertToInteractive(key) {\n",
              "        const element = document.querySelector('#df-cebc8b72-a3ab-486d-86ce-b662c0109a18');\n",
              "        const dataTable =\n",
              "          await google.colab.kernel.invokeFunction('convertToInteractive',\n",
              "                                                    [key], {});\n",
              "        if (!dataTable) return;\n",
              "\n",
              "        const docLinkHtml = 'Like what you see? Visit the ' +\n",
              "          '<a target=\"_blank\" href=https://colab.research.google.com/notebooks/data_table.ipynb>data table notebook</a>'\n",
              "          + ' to learn more about interactive tables.';\n",
              "        element.innerHTML = '';\n",
              "        dataTable['output_type'] = 'display_data';\n",
              "        await google.colab.output.renderOutput(dataTable, element);\n",
              "        const docLink = document.createElement('div');\n",
              "        docLink.innerHTML = docLinkHtml;\n",
              "        element.appendChild(docLink);\n",
              "      }\n",
              "    </script>\n",
              "  </div>\n",
              "\n",
              "\n",
              "<div id=\"df-118ac0aa-67f8-4362-87c6-d2cdb7c4b07c\">\n",
              "  <button class=\"colab-df-quickchart\" onclick=\"quickchart('df-118ac0aa-67f8-4362-87c6-d2cdb7c4b07c')\"\n",
              "            title=\"Suggest charts.\"\n",
              "            style=\"display:none;\">\n",
              "\n",
              "<svg xmlns=\"http://www.w3.org/2000/svg\" height=\"24px\"viewBox=\"0 0 24 24\"\n",
              "     width=\"24px\">\n",
              "    <g>\n",
              "        <path d=\"M19 3H5c-1.1 0-2 .9-2 2v14c0 1.1.9 2 2 2h14c1.1 0 2-.9 2-2V5c0-1.1-.9-2-2-2zM9 17H7v-7h2v7zm4 0h-2V7h2v10zm4 0h-2v-4h2v4z\"/>\n",
              "    </g>\n",
              "</svg>\n",
              "  </button>\n",
              "\n",
              "<style>\n",
              "  .colab-df-quickchart {\n",
              "      --bg-color: #E8F0FE;\n",
              "      --fill-color: #1967D2;\n",
              "      --hover-bg-color: #E2EBFA;\n",
              "      --hover-fill-color: #174EA6;\n",
              "      --disabled-fill-color: #AAA;\n",
              "      --disabled-bg-color: #DDD;\n",
              "  }\n",
              "\n",
              "  [theme=dark] .colab-df-quickchart {\n",
              "      --bg-color: #3B4455;\n",
              "      --fill-color: #D2E3FC;\n",
              "      --hover-bg-color: #434B5C;\n",
              "      --hover-fill-color: #FFFFFF;\n",
              "      --disabled-bg-color: #3B4455;\n",
              "      --disabled-fill-color: #666;\n",
              "  }\n",
              "\n",
              "  .colab-df-quickchart {\n",
              "    background-color: var(--bg-color);\n",
              "    border: none;\n",
              "    border-radius: 50%;\n",
              "    cursor: pointer;\n",
              "    display: none;\n",
              "    fill: var(--fill-color);\n",
              "    height: 32px;\n",
              "    padding: 0;\n",
              "    width: 32px;\n",
              "  }\n",
              "\n",
              "  .colab-df-quickchart:hover {\n",
              "    background-color: var(--hover-bg-color);\n",
              "    box-shadow: 0 1px 2px rgba(60, 64, 67, 0.3), 0 1px 3px 1px rgba(60, 64, 67, 0.15);\n",
              "    fill: var(--button-hover-fill-color);\n",
              "  }\n",
              "\n",
              "  .colab-df-quickchart-complete:disabled,\n",
              "  .colab-df-quickchart-complete:disabled:hover {\n",
              "    background-color: var(--disabled-bg-color);\n",
              "    fill: var(--disabled-fill-color);\n",
              "    box-shadow: none;\n",
              "  }\n",
              "\n",
              "  .colab-df-spinner {\n",
              "    border: 2px solid var(--fill-color);\n",
              "    border-color: transparent;\n",
              "    border-bottom-color: var(--fill-color);\n",
              "    animation:\n",
              "      spin 1s steps(1) infinite;\n",
              "  }\n",
              "\n",
              "  @keyframes spin {\n",
              "    0% {\n",
              "      border-color: transparent;\n",
              "      border-bottom-color: var(--fill-color);\n",
              "      border-left-color: var(--fill-color);\n",
              "    }\n",
              "    20% {\n",
              "      border-color: transparent;\n",
              "      border-left-color: var(--fill-color);\n",
              "      border-top-color: var(--fill-color);\n",
              "    }\n",
              "    30% {\n",
              "      border-color: transparent;\n",
              "      border-left-color: var(--fill-color);\n",
              "      border-top-color: var(--fill-color);\n",
              "      border-right-color: var(--fill-color);\n",
              "    }\n",
              "    40% {\n",
              "      border-color: transparent;\n",
              "      border-right-color: var(--fill-color);\n",
              "      border-top-color: var(--fill-color);\n",
              "    }\n",
              "    60% {\n",
              "      border-color: transparent;\n",
              "      border-right-color: var(--fill-color);\n",
              "    }\n",
              "    80% {\n",
              "      border-color: transparent;\n",
              "      border-right-color: var(--fill-color);\n",
              "      border-bottom-color: var(--fill-color);\n",
              "    }\n",
              "    90% {\n",
              "      border-color: transparent;\n",
              "      border-bottom-color: var(--fill-color);\n",
              "    }\n",
              "  }\n",
              "</style>\n",
              "\n",
              "  <script>\n",
              "    async function quickchart(key) {\n",
              "      const quickchartButtonEl =\n",
              "        document.querySelector('#' + key + ' button');\n",
              "      quickchartButtonEl.disabled = true;  // To prevent multiple clicks.\n",
              "      quickchartButtonEl.classList.add('colab-df-spinner');\n",
              "      try {\n",
              "        const charts = await google.colab.kernel.invokeFunction(\n",
              "            'suggestCharts', [key], {});\n",
              "      } catch (error) {\n",
              "        console.error('Error during call to suggestCharts:', error);\n",
              "      }\n",
              "      quickchartButtonEl.classList.remove('colab-df-spinner');\n",
              "      quickchartButtonEl.classList.add('colab-df-quickchart-complete');\n",
              "    }\n",
              "    (() => {\n",
              "      let quickchartButtonEl =\n",
              "        document.querySelector('#df-118ac0aa-67f8-4362-87c6-d2cdb7c4b07c button');\n",
              "      quickchartButtonEl.style.display =\n",
              "        google.colab.kernel.accessAllowed ? 'block' : 'none';\n",
              "    })();\n",
              "  </script>\n",
              "</div>\n",
              "    </div>\n",
              "  </div>\n"
            ]
          },
          "metadata": {},
          "execution_count": 33
        }
      ]
    },
    {
      "cell_type": "code",
      "source": [
        "interaction_matrix = nonsess_data.pivot_table(index='user_code', columns='poll_code', values='strength', aggfunc='sum', fill_value=0)\n",
        "interaction_matrix"
      ],
      "metadata": {
        "colab": {
          "base_uri": "https://localhost:8080/",
          "height": 455
        },
        "id": "rOpbCBNap2Bx",
        "outputId": "d478742b-2a61-49c9-b933-e9a616dc3b61"
      },
      "execution_count": 34,
      "outputs": [
        {
          "output_type": "execute_result",
          "data": {
            "text/plain": [
              "poll_code  poll_1  poll_10  poll_100  poll_101  poll_102  poll_103  poll_104  \\\n",
              "user_code                                                                      \n",
              "user_1        0.0      0.0       0.0       0.0       0.0       0.0       0.0   \n",
              "user_10       0.0      0.0       0.0       0.0       0.0       0.0       0.0   \n",
              "user_100      0.0      0.0       0.0       0.0       0.0       0.0       0.0   \n",
              "user_1000     0.0      0.0       0.2       0.0       0.0       0.0       0.0   \n",
              "user_1001     1.2      0.2       0.2       0.0       1.2       0.0       0.2   \n",
              "...           ...      ...       ...       ...       ...       ...       ...   \n",
              "user_995      0.0      0.0       0.0       0.0       0.0       0.0       0.0   \n",
              "user_996      0.0      0.0       0.0       0.0       0.0       0.0       0.0   \n",
              "user_997      0.0      0.0       0.0       0.0       0.0       0.0       0.0   \n",
              "user_998      0.0      1.2       1.2       0.0       0.0       0.0       0.0   \n",
              "user_999      0.0      0.0       1.2       0.0       0.0       0.0       0.0   \n",
              "\n",
              "poll_code  poll_105  poll_106  poll_107  ...  poll_917  poll_918  poll_92  \\\n",
              "user_code                                ...                                \n",
              "user_1          0.0       0.0       0.0  ...       0.0       0.0      0.0   \n",
              "user_10         0.0       0.0       0.0  ...       0.0       0.0      0.0   \n",
              "user_100        0.0       1.0       0.0  ...       0.0       0.0      1.0   \n",
              "user_1000       0.0       0.0       0.0  ...       0.0       0.0      0.0   \n",
              "user_1001       0.0       0.0       0.0  ...       0.0       0.0      0.0   \n",
              "...             ...       ...       ...  ...       ...       ...      ...   \n",
              "user_995        0.0       0.0       0.0  ...       0.0       0.0      0.0   \n",
              "user_996        0.0       0.0       0.0  ...       0.0       0.0      0.0   \n",
              "user_997        0.2       0.0       0.0  ...       0.0       0.0      0.0   \n",
              "user_998        0.0       0.0       0.0  ...       0.0       0.0      0.0   \n",
              "user_999        0.0       0.0       0.0  ...       0.0       0.0      0.0   \n",
              "\n",
              "poll_code  poll_93  poll_94  poll_95  poll_96  poll_97  poll_98  poll_99  \n",
              "user_code                                                                 \n",
              "user_1         0.0      1.2      0.0      0.0      0.0      0.0      0.0  \n",
              "user_10        0.0      1.0      0.0      1.0      0.0      0.0      0.0  \n",
              "user_100       0.0      1.0      0.0      0.0      2.0      0.0      0.0  \n",
              "user_1000      0.0      0.0      0.0      0.0      0.0      0.0      0.0  \n",
              "user_1001      0.0      0.0      1.2      0.0      0.0      1.2      0.0  \n",
              "...            ...      ...      ...      ...      ...      ...      ...  \n",
              "user_995       0.0      0.0      0.0      0.0      0.0      0.0      0.0  \n",
              "user_996       0.0      0.0      0.0      0.0      0.0      0.0      0.0  \n",
              "user_997       1.2      0.0      1.2      0.0      0.0      1.2      0.0  \n",
              "user_998       0.0      0.0      0.0      0.0      0.0      0.0      0.0  \n",
              "user_999       1.2      0.0      1.2      0.0      0.0      1.2      0.0  \n",
              "\n",
              "[4203 rows x 887 columns]"
            ],
            "text/html": [
              "\n",
              "  <div id=\"df-70a26355-3da2-4bb7-8da8-57e5a0197092\" class=\"colab-df-container\">\n",
              "    <div>\n",
              "<style scoped>\n",
              "    .dataframe tbody tr th:only-of-type {\n",
              "        vertical-align: middle;\n",
              "    }\n",
              "\n",
              "    .dataframe tbody tr th {\n",
              "        vertical-align: top;\n",
              "    }\n",
              "\n",
              "    .dataframe thead th {\n",
              "        text-align: right;\n",
              "    }\n",
              "</style>\n",
              "<table border=\"1\" class=\"dataframe\">\n",
              "  <thead>\n",
              "    <tr style=\"text-align: right;\">\n",
              "      <th>poll_code</th>\n",
              "      <th>poll_1</th>\n",
              "      <th>poll_10</th>\n",
              "      <th>poll_100</th>\n",
              "      <th>poll_101</th>\n",
              "      <th>poll_102</th>\n",
              "      <th>poll_103</th>\n",
              "      <th>poll_104</th>\n",
              "      <th>poll_105</th>\n",
              "      <th>poll_106</th>\n",
              "      <th>poll_107</th>\n",
              "      <th>...</th>\n",
              "      <th>poll_917</th>\n",
              "      <th>poll_918</th>\n",
              "      <th>poll_92</th>\n",
              "      <th>poll_93</th>\n",
              "      <th>poll_94</th>\n",
              "      <th>poll_95</th>\n",
              "      <th>poll_96</th>\n",
              "      <th>poll_97</th>\n",
              "      <th>poll_98</th>\n",
              "      <th>poll_99</th>\n",
              "    </tr>\n",
              "    <tr>\n",
              "      <th>user_code</th>\n",
              "      <th></th>\n",
              "      <th></th>\n",
              "      <th></th>\n",
              "      <th></th>\n",
              "      <th></th>\n",
              "      <th></th>\n",
              "      <th></th>\n",
              "      <th></th>\n",
              "      <th></th>\n",
              "      <th></th>\n",
              "      <th></th>\n",
              "      <th></th>\n",
              "      <th></th>\n",
              "      <th></th>\n",
              "      <th></th>\n",
              "      <th></th>\n",
              "      <th></th>\n",
              "      <th></th>\n",
              "      <th></th>\n",
              "      <th></th>\n",
              "      <th></th>\n",
              "    </tr>\n",
              "  </thead>\n",
              "  <tbody>\n",
              "    <tr>\n",
              "      <th>user_1</th>\n",
              "      <td>0.0</td>\n",
              "      <td>0.0</td>\n",
              "      <td>0.0</td>\n",
              "      <td>0.0</td>\n",
              "      <td>0.0</td>\n",
              "      <td>0.0</td>\n",
              "      <td>0.0</td>\n",
              "      <td>0.0</td>\n",
              "      <td>0.0</td>\n",
              "      <td>0.0</td>\n",
              "      <td>...</td>\n",
              "      <td>0.0</td>\n",
              "      <td>0.0</td>\n",
              "      <td>0.0</td>\n",
              "      <td>0.0</td>\n",
              "      <td>1.2</td>\n",
              "      <td>0.0</td>\n",
              "      <td>0.0</td>\n",
              "      <td>0.0</td>\n",
              "      <td>0.0</td>\n",
              "      <td>0.0</td>\n",
              "    </tr>\n",
              "    <tr>\n",
              "      <th>user_10</th>\n",
              "      <td>0.0</td>\n",
              "      <td>0.0</td>\n",
              "      <td>0.0</td>\n",
              "      <td>0.0</td>\n",
              "      <td>0.0</td>\n",
              "      <td>0.0</td>\n",
              "      <td>0.0</td>\n",
              "      <td>0.0</td>\n",
              "      <td>0.0</td>\n",
              "      <td>0.0</td>\n",
              "      <td>...</td>\n",
              "      <td>0.0</td>\n",
              "      <td>0.0</td>\n",
              "      <td>0.0</td>\n",
              "      <td>0.0</td>\n",
              "      <td>1.0</td>\n",
              "      <td>0.0</td>\n",
              "      <td>1.0</td>\n",
              "      <td>0.0</td>\n",
              "      <td>0.0</td>\n",
              "      <td>0.0</td>\n",
              "    </tr>\n",
              "    <tr>\n",
              "      <th>user_100</th>\n",
              "      <td>0.0</td>\n",
              "      <td>0.0</td>\n",
              "      <td>0.0</td>\n",
              "      <td>0.0</td>\n",
              "      <td>0.0</td>\n",
              "      <td>0.0</td>\n",
              "      <td>0.0</td>\n",
              "      <td>0.0</td>\n",
              "      <td>1.0</td>\n",
              "      <td>0.0</td>\n",
              "      <td>...</td>\n",
              "      <td>0.0</td>\n",
              "      <td>0.0</td>\n",
              "      <td>1.0</td>\n",
              "      <td>0.0</td>\n",
              "      <td>1.0</td>\n",
              "      <td>0.0</td>\n",
              "      <td>0.0</td>\n",
              "      <td>2.0</td>\n",
              "      <td>0.0</td>\n",
              "      <td>0.0</td>\n",
              "    </tr>\n",
              "    <tr>\n",
              "      <th>user_1000</th>\n",
              "      <td>0.0</td>\n",
              "      <td>0.0</td>\n",
              "      <td>0.2</td>\n",
              "      <td>0.0</td>\n",
              "      <td>0.0</td>\n",
              "      <td>0.0</td>\n",
              "      <td>0.0</td>\n",
              "      <td>0.0</td>\n",
              "      <td>0.0</td>\n",
              "      <td>0.0</td>\n",
              "      <td>...</td>\n",
              "      <td>0.0</td>\n",
              "      <td>0.0</td>\n",
              "      <td>0.0</td>\n",
              "      <td>0.0</td>\n",
              "      <td>0.0</td>\n",
              "      <td>0.0</td>\n",
              "      <td>0.0</td>\n",
              "      <td>0.0</td>\n",
              "      <td>0.0</td>\n",
              "      <td>0.0</td>\n",
              "    </tr>\n",
              "    <tr>\n",
              "      <th>user_1001</th>\n",
              "      <td>1.2</td>\n",
              "      <td>0.2</td>\n",
              "      <td>0.2</td>\n",
              "      <td>0.0</td>\n",
              "      <td>1.2</td>\n",
              "      <td>0.0</td>\n",
              "      <td>0.2</td>\n",
              "      <td>0.0</td>\n",
              "      <td>0.0</td>\n",
              "      <td>0.0</td>\n",
              "      <td>...</td>\n",
              "      <td>0.0</td>\n",
              "      <td>0.0</td>\n",
              "      <td>0.0</td>\n",
              "      <td>0.0</td>\n",
              "      <td>0.0</td>\n",
              "      <td>1.2</td>\n",
              "      <td>0.0</td>\n",
              "      <td>0.0</td>\n",
              "      <td>1.2</td>\n",
              "      <td>0.0</td>\n",
              "    </tr>\n",
              "    <tr>\n",
              "      <th>...</th>\n",
              "      <td>...</td>\n",
              "      <td>...</td>\n",
              "      <td>...</td>\n",
              "      <td>...</td>\n",
              "      <td>...</td>\n",
              "      <td>...</td>\n",
              "      <td>...</td>\n",
              "      <td>...</td>\n",
              "      <td>...</td>\n",
              "      <td>...</td>\n",
              "      <td>...</td>\n",
              "      <td>...</td>\n",
              "      <td>...</td>\n",
              "      <td>...</td>\n",
              "      <td>...</td>\n",
              "      <td>...</td>\n",
              "      <td>...</td>\n",
              "      <td>...</td>\n",
              "      <td>...</td>\n",
              "      <td>...</td>\n",
              "      <td>...</td>\n",
              "    </tr>\n",
              "    <tr>\n",
              "      <th>user_995</th>\n",
              "      <td>0.0</td>\n",
              "      <td>0.0</td>\n",
              "      <td>0.0</td>\n",
              "      <td>0.0</td>\n",
              "      <td>0.0</td>\n",
              "      <td>0.0</td>\n",
              "      <td>0.0</td>\n",
              "      <td>0.0</td>\n",
              "      <td>0.0</td>\n",
              "      <td>0.0</td>\n",
              "      <td>...</td>\n",
              "      <td>0.0</td>\n",
              "      <td>0.0</td>\n",
              "      <td>0.0</td>\n",
              "      <td>0.0</td>\n",
              "      <td>0.0</td>\n",
              "      <td>0.0</td>\n",
              "      <td>0.0</td>\n",
              "      <td>0.0</td>\n",
              "      <td>0.0</td>\n",
              "      <td>0.0</td>\n",
              "    </tr>\n",
              "    <tr>\n",
              "      <th>user_996</th>\n",
              "      <td>0.0</td>\n",
              "      <td>0.0</td>\n",
              "      <td>0.0</td>\n",
              "      <td>0.0</td>\n",
              "      <td>0.0</td>\n",
              "      <td>0.0</td>\n",
              "      <td>0.0</td>\n",
              "      <td>0.0</td>\n",
              "      <td>0.0</td>\n",
              "      <td>0.0</td>\n",
              "      <td>...</td>\n",
              "      <td>0.0</td>\n",
              "      <td>0.0</td>\n",
              "      <td>0.0</td>\n",
              "      <td>0.0</td>\n",
              "      <td>0.0</td>\n",
              "      <td>0.0</td>\n",
              "      <td>0.0</td>\n",
              "      <td>0.0</td>\n",
              "      <td>0.0</td>\n",
              "      <td>0.0</td>\n",
              "    </tr>\n",
              "    <tr>\n",
              "      <th>user_997</th>\n",
              "      <td>0.0</td>\n",
              "      <td>0.0</td>\n",
              "      <td>0.0</td>\n",
              "      <td>0.0</td>\n",
              "      <td>0.0</td>\n",
              "      <td>0.0</td>\n",
              "      <td>0.0</td>\n",
              "      <td>0.2</td>\n",
              "      <td>0.0</td>\n",
              "      <td>0.0</td>\n",
              "      <td>...</td>\n",
              "      <td>0.0</td>\n",
              "      <td>0.0</td>\n",
              "      <td>0.0</td>\n",
              "      <td>1.2</td>\n",
              "      <td>0.0</td>\n",
              "      <td>1.2</td>\n",
              "      <td>0.0</td>\n",
              "      <td>0.0</td>\n",
              "      <td>1.2</td>\n",
              "      <td>0.0</td>\n",
              "    </tr>\n",
              "    <tr>\n",
              "      <th>user_998</th>\n",
              "      <td>0.0</td>\n",
              "      <td>1.2</td>\n",
              "      <td>1.2</td>\n",
              "      <td>0.0</td>\n",
              "      <td>0.0</td>\n",
              "      <td>0.0</td>\n",
              "      <td>0.0</td>\n",
              "      <td>0.0</td>\n",
              "      <td>0.0</td>\n",
              "      <td>0.0</td>\n",
              "      <td>...</td>\n",
              "      <td>0.0</td>\n",
              "      <td>0.0</td>\n",
              "      <td>0.0</td>\n",
              "      <td>0.0</td>\n",
              "      <td>0.0</td>\n",
              "      <td>0.0</td>\n",
              "      <td>0.0</td>\n",
              "      <td>0.0</td>\n",
              "      <td>0.0</td>\n",
              "      <td>0.0</td>\n",
              "    </tr>\n",
              "    <tr>\n",
              "      <th>user_999</th>\n",
              "      <td>0.0</td>\n",
              "      <td>0.0</td>\n",
              "      <td>1.2</td>\n",
              "      <td>0.0</td>\n",
              "      <td>0.0</td>\n",
              "      <td>0.0</td>\n",
              "      <td>0.0</td>\n",
              "      <td>0.0</td>\n",
              "      <td>0.0</td>\n",
              "      <td>0.0</td>\n",
              "      <td>...</td>\n",
              "      <td>0.0</td>\n",
              "      <td>0.0</td>\n",
              "      <td>0.0</td>\n",
              "      <td>1.2</td>\n",
              "      <td>0.0</td>\n",
              "      <td>1.2</td>\n",
              "      <td>0.0</td>\n",
              "      <td>0.0</td>\n",
              "      <td>1.2</td>\n",
              "      <td>0.0</td>\n",
              "    </tr>\n",
              "  </tbody>\n",
              "</table>\n",
              "<p>4203 rows × 887 columns</p>\n",
              "</div>\n",
              "    <div class=\"colab-df-buttons\">\n",
              "\n",
              "  <div class=\"colab-df-container\">\n",
              "    <button class=\"colab-df-convert\" onclick=\"convertToInteractive('df-70a26355-3da2-4bb7-8da8-57e5a0197092')\"\n",
              "            title=\"Convert this dataframe to an interactive table.\"\n",
              "            style=\"display:none;\">\n",
              "\n",
              "  <svg xmlns=\"http://www.w3.org/2000/svg\" height=\"24px\" viewBox=\"0 -960 960 960\">\n",
              "    <path d=\"M120-120v-720h720v720H120Zm60-500h600v-160H180v160Zm220 220h160v-160H400v160Zm0 220h160v-160H400v160ZM180-400h160v-160H180v160Zm440 0h160v-160H620v160ZM180-180h160v-160H180v160Zm440 0h160v-160H620v160Z\"/>\n",
              "  </svg>\n",
              "    </button>\n",
              "\n",
              "  <style>\n",
              "    .colab-df-container {\n",
              "      display:flex;\n",
              "      gap: 12px;\n",
              "    }\n",
              "\n",
              "    .colab-df-convert {\n",
              "      background-color: #E8F0FE;\n",
              "      border: none;\n",
              "      border-radius: 50%;\n",
              "      cursor: pointer;\n",
              "      display: none;\n",
              "      fill: #1967D2;\n",
              "      height: 32px;\n",
              "      padding: 0 0 0 0;\n",
              "      width: 32px;\n",
              "    }\n",
              "\n",
              "    .colab-df-convert:hover {\n",
              "      background-color: #E2EBFA;\n",
              "      box-shadow: 0px 1px 2px rgba(60, 64, 67, 0.3), 0px 1px 3px 1px rgba(60, 64, 67, 0.15);\n",
              "      fill: #174EA6;\n",
              "    }\n",
              "\n",
              "    .colab-df-buttons div {\n",
              "      margin-bottom: 4px;\n",
              "    }\n",
              "\n",
              "    [theme=dark] .colab-df-convert {\n",
              "      background-color: #3B4455;\n",
              "      fill: #D2E3FC;\n",
              "    }\n",
              "\n",
              "    [theme=dark] .colab-df-convert:hover {\n",
              "      background-color: #434B5C;\n",
              "      box-shadow: 0px 1px 3px 1px rgba(0, 0, 0, 0.15);\n",
              "      filter: drop-shadow(0px 1px 2px rgba(0, 0, 0, 0.3));\n",
              "      fill: #FFFFFF;\n",
              "    }\n",
              "  </style>\n",
              "\n",
              "    <script>\n",
              "      const buttonEl =\n",
              "        document.querySelector('#df-70a26355-3da2-4bb7-8da8-57e5a0197092 button.colab-df-convert');\n",
              "      buttonEl.style.display =\n",
              "        google.colab.kernel.accessAllowed ? 'block' : 'none';\n",
              "\n",
              "      async function convertToInteractive(key) {\n",
              "        const element = document.querySelector('#df-70a26355-3da2-4bb7-8da8-57e5a0197092');\n",
              "        const dataTable =\n",
              "          await google.colab.kernel.invokeFunction('convertToInteractive',\n",
              "                                                    [key], {});\n",
              "        if (!dataTable) return;\n",
              "\n",
              "        const docLinkHtml = 'Like what you see? Visit the ' +\n",
              "          '<a target=\"_blank\" href=https://colab.research.google.com/notebooks/data_table.ipynb>data table notebook</a>'\n",
              "          + ' to learn more about interactive tables.';\n",
              "        element.innerHTML = '';\n",
              "        dataTable['output_type'] = 'display_data';\n",
              "        await google.colab.output.renderOutput(dataTable, element);\n",
              "        const docLink = document.createElement('div');\n",
              "        docLink.innerHTML = docLinkHtml;\n",
              "        element.appendChild(docLink);\n",
              "      }\n",
              "    </script>\n",
              "  </div>\n",
              "\n",
              "\n",
              "<div id=\"df-a56dc2c6-2880-4133-b3f3-e84e1f982f4a\">\n",
              "  <button class=\"colab-df-quickchart\" onclick=\"quickchart('df-a56dc2c6-2880-4133-b3f3-e84e1f982f4a')\"\n",
              "            title=\"Suggest charts.\"\n",
              "            style=\"display:none;\">\n",
              "\n",
              "<svg xmlns=\"http://www.w3.org/2000/svg\" height=\"24px\"viewBox=\"0 0 24 24\"\n",
              "     width=\"24px\">\n",
              "    <g>\n",
              "        <path d=\"M19 3H5c-1.1 0-2 .9-2 2v14c0 1.1.9 2 2 2h14c1.1 0 2-.9 2-2V5c0-1.1-.9-2-2-2zM9 17H7v-7h2v7zm4 0h-2V7h2v10zm4 0h-2v-4h2v4z\"/>\n",
              "    </g>\n",
              "</svg>\n",
              "  </button>\n",
              "\n",
              "<style>\n",
              "  .colab-df-quickchart {\n",
              "      --bg-color: #E8F0FE;\n",
              "      --fill-color: #1967D2;\n",
              "      --hover-bg-color: #E2EBFA;\n",
              "      --hover-fill-color: #174EA6;\n",
              "      --disabled-fill-color: #AAA;\n",
              "      --disabled-bg-color: #DDD;\n",
              "  }\n",
              "\n",
              "  [theme=dark] .colab-df-quickchart {\n",
              "      --bg-color: #3B4455;\n",
              "      --fill-color: #D2E3FC;\n",
              "      --hover-bg-color: #434B5C;\n",
              "      --hover-fill-color: #FFFFFF;\n",
              "      --disabled-bg-color: #3B4455;\n",
              "      --disabled-fill-color: #666;\n",
              "  }\n",
              "\n",
              "  .colab-df-quickchart {\n",
              "    background-color: var(--bg-color);\n",
              "    border: none;\n",
              "    border-radius: 50%;\n",
              "    cursor: pointer;\n",
              "    display: none;\n",
              "    fill: var(--fill-color);\n",
              "    height: 32px;\n",
              "    padding: 0;\n",
              "    width: 32px;\n",
              "  }\n",
              "\n",
              "  .colab-df-quickchart:hover {\n",
              "    background-color: var(--hover-bg-color);\n",
              "    box-shadow: 0 1px 2px rgba(60, 64, 67, 0.3), 0 1px 3px 1px rgba(60, 64, 67, 0.15);\n",
              "    fill: var(--button-hover-fill-color);\n",
              "  }\n",
              "\n",
              "  .colab-df-quickchart-complete:disabled,\n",
              "  .colab-df-quickchart-complete:disabled:hover {\n",
              "    background-color: var(--disabled-bg-color);\n",
              "    fill: var(--disabled-fill-color);\n",
              "    box-shadow: none;\n",
              "  }\n",
              "\n",
              "  .colab-df-spinner {\n",
              "    border: 2px solid var(--fill-color);\n",
              "    border-color: transparent;\n",
              "    border-bottom-color: var(--fill-color);\n",
              "    animation:\n",
              "      spin 1s steps(1) infinite;\n",
              "  }\n",
              "\n",
              "  @keyframes spin {\n",
              "    0% {\n",
              "      border-color: transparent;\n",
              "      border-bottom-color: var(--fill-color);\n",
              "      border-left-color: var(--fill-color);\n",
              "    }\n",
              "    20% {\n",
              "      border-color: transparent;\n",
              "      border-left-color: var(--fill-color);\n",
              "      border-top-color: var(--fill-color);\n",
              "    }\n",
              "    30% {\n",
              "      border-color: transparent;\n",
              "      border-left-color: var(--fill-color);\n",
              "      border-top-color: var(--fill-color);\n",
              "      border-right-color: var(--fill-color);\n",
              "    }\n",
              "    40% {\n",
              "      border-color: transparent;\n",
              "      border-right-color: var(--fill-color);\n",
              "      border-top-color: var(--fill-color);\n",
              "    }\n",
              "    60% {\n",
              "      border-color: transparent;\n",
              "      border-right-color: var(--fill-color);\n",
              "    }\n",
              "    80% {\n",
              "      border-color: transparent;\n",
              "      border-right-color: var(--fill-color);\n",
              "      border-bottom-color: var(--fill-color);\n",
              "    }\n",
              "    90% {\n",
              "      border-color: transparent;\n",
              "      border-bottom-color: var(--fill-color);\n",
              "    }\n",
              "  }\n",
              "</style>\n",
              "\n",
              "  <script>\n",
              "    async function quickchart(key) {\n",
              "      const quickchartButtonEl =\n",
              "        document.querySelector('#' + key + ' button');\n",
              "      quickchartButtonEl.disabled = true;  // To prevent multiple clicks.\n",
              "      quickchartButtonEl.classList.add('colab-df-spinner');\n",
              "      try {\n",
              "        const charts = await google.colab.kernel.invokeFunction(\n",
              "            'suggestCharts', [key], {});\n",
              "      } catch (error) {\n",
              "        console.error('Error during call to suggestCharts:', error);\n",
              "      }\n",
              "      quickchartButtonEl.classList.remove('colab-df-spinner');\n",
              "      quickchartButtonEl.classList.add('colab-df-quickchart-complete');\n",
              "    }\n",
              "    (() => {\n",
              "      let quickchartButtonEl =\n",
              "        document.querySelector('#df-a56dc2c6-2880-4133-b3f3-e84e1f982f4a button');\n",
              "      quickchartButtonEl.style.display =\n",
              "        google.colab.kernel.accessAllowed ? 'block' : 'none';\n",
              "    })();\n",
              "  </script>\n",
              "</div>\n",
              "    </div>\n",
              "  </div>\n"
            ]
          },
          "metadata": {},
          "execution_count": 34
        }
      ]
    },
    {
      "cell_type": "code",
      "source": [
        "mean = interaction_matrix.mean().mean()\n",
        "std_dev = interaction_matrix.std().std()\n",
        "interaction_matrix_normalized = (interaction_matrix - mean) / std_dev"
      ],
      "metadata": {
        "id": "EFvpw4HvvQVm"
      },
      "execution_count": 35,
      "outputs": []
    },
    {
      "cell_type": "code",
      "source": [
        "interaction_matrix_normalized.head()"
      ],
      "metadata": {
        "colab": {
          "base_uri": "https://localhost:8080/",
          "height": 267
        },
        "id": "z9zNFN5Ov2jX",
        "outputId": "85c5a8cd-7afa-4c19-a2f5-9cbf82fb4a86"
      },
      "execution_count": 36,
      "outputs": [
        {
          "output_type": "execute_result",
          "data": {
            "text/plain": [
              "poll_code    poll_1   poll_10  poll_100  poll_101  poll_102  poll_103  \\\n",
              "user_code                                                               \n",
              "user_1     -0.32272 -0.322720 -0.322720  -0.32272  -0.32272  -0.32272   \n",
              "user_10    -0.32272 -0.322720 -0.322720  -0.32272  -0.32272  -0.32272   \n",
              "user_100   -0.32272 -0.322720 -0.322720  -0.32272  -0.32272  -0.32272   \n",
              "user_1000  -0.32272 -0.322720  1.418398  -0.32272  -0.32272  -0.32272   \n",
              "user_1001  10.12399  1.418398  1.418398  -0.32272  10.12399  -0.32272   \n",
              "\n",
              "poll_code  poll_104  poll_105  poll_106  poll_107  ...  poll_917  poll_918  \\\n",
              "user_code                                          ...                       \n",
              "user_1    -0.322720  -0.32272 -0.322720  -0.32272  ...  -0.32272  -0.32272   \n",
              "user_10   -0.322720  -0.32272 -0.322720  -0.32272  ...  -0.32272  -0.32272   \n",
              "user_100  -0.322720  -0.32272  8.382871  -0.32272  ...  -0.32272  -0.32272   \n",
              "user_1000 -0.322720  -0.32272 -0.322720  -0.32272  ...  -0.32272  -0.32272   \n",
              "user_1001  1.418398  -0.32272 -0.322720  -0.32272  ...  -0.32272  -0.32272   \n",
              "\n",
              "poll_code   poll_92  poll_93    poll_94   poll_95   poll_96    poll_97  \\\n",
              "user_code                                                                \n",
              "user_1    -0.322720 -0.32272  10.123990  -0.32272 -0.322720  -0.322720   \n",
              "user_10   -0.322720 -0.32272   8.382871  -0.32272  8.382871  -0.322720   \n",
              "user_100   8.382871 -0.32272   8.382871  -0.32272 -0.322720  17.088463   \n",
              "user_1000 -0.322720 -0.32272  -0.322720  -0.32272 -0.322720  -0.322720   \n",
              "user_1001 -0.322720 -0.32272  -0.322720  10.12399 -0.322720  -0.322720   \n",
              "\n",
              "poll_code   poll_98  poll_99  \n",
              "user_code                     \n",
              "user_1     -0.32272 -0.32272  \n",
              "user_10    -0.32272 -0.32272  \n",
              "user_100   -0.32272 -0.32272  \n",
              "user_1000  -0.32272 -0.32272  \n",
              "user_1001  10.12399 -0.32272  \n",
              "\n",
              "[5 rows x 887 columns]"
            ],
            "text/html": [
              "\n",
              "  <div id=\"df-7f872636-8674-49f9-bdae-989a6f27e002\" class=\"colab-df-container\">\n",
              "    <div>\n",
              "<style scoped>\n",
              "    .dataframe tbody tr th:only-of-type {\n",
              "        vertical-align: middle;\n",
              "    }\n",
              "\n",
              "    .dataframe tbody tr th {\n",
              "        vertical-align: top;\n",
              "    }\n",
              "\n",
              "    .dataframe thead th {\n",
              "        text-align: right;\n",
              "    }\n",
              "</style>\n",
              "<table border=\"1\" class=\"dataframe\">\n",
              "  <thead>\n",
              "    <tr style=\"text-align: right;\">\n",
              "      <th>poll_code</th>\n",
              "      <th>poll_1</th>\n",
              "      <th>poll_10</th>\n",
              "      <th>poll_100</th>\n",
              "      <th>poll_101</th>\n",
              "      <th>poll_102</th>\n",
              "      <th>poll_103</th>\n",
              "      <th>poll_104</th>\n",
              "      <th>poll_105</th>\n",
              "      <th>poll_106</th>\n",
              "      <th>poll_107</th>\n",
              "      <th>...</th>\n",
              "      <th>poll_917</th>\n",
              "      <th>poll_918</th>\n",
              "      <th>poll_92</th>\n",
              "      <th>poll_93</th>\n",
              "      <th>poll_94</th>\n",
              "      <th>poll_95</th>\n",
              "      <th>poll_96</th>\n",
              "      <th>poll_97</th>\n",
              "      <th>poll_98</th>\n",
              "      <th>poll_99</th>\n",
              "    </tr>\n",
              "    <tr>\n",
              "      <th>user_code</th>\n",
              "      <th></th>\n",
              "      <th></th>\n",
              "      <th></th>\n",
              "      <th></th>\n",
              "      <th></th>\n",
              "      <th></th>\n",
              "      <th></th>\n",
              "      <th></th>\n",
              "      <th></th>\n",
              "      <th></th>\n",
              "      <th></th>\n",
              "      <th></th>\n",
              "      <th></th>\n",
              "      <th></th>\n",
              "      <th></th>\n",
              "      <th></th>\n",
              "      <th></th>\n",
              "      <th></th>\n",
              "      <th></th>\n",
              "      <th></th>\n",
              "      <th></th>\n",
              "    </tr>\n",
              "  </thead>\n",
              "  <tbody>\n",
              "    <tr>\n",
              "      <th>user_1</th>\n",
              "      <td>-0.32272</td>\n",
              "      <td>-0.322720</td>\n",
              "      <td>-0.322720</td>\n",
              "      <td>-0.32272</td>\n",
              "      <td>-0.32272</td>\n",
              "      <td>-0.32272</td>\n",
              "      <td>-0.322720</td>\n",
              "      <td>-0.32272</td>\n",
              "      <td>-0.322720</td>\n",
              "      <td>-0.32272</td>\n",
              "      <td>...</td>\n",
              "      <td>-0.32272</td>\n",
              "      <td>-0.32272</td>\n",
              "      <td>-0.322720</td>\n",
              "      <td>-0.32272</td>\n",
              "      <td>10.123990</td>\n",
              "      <td>-0.32272</td>\n",
              "      <td>-0.322720</td>\n",
              "      <td>-0.322720</td>\n",
              "      <td>-0.32272</td>\n",
              "      <td>-0.32272</td>\n",
              "    </tr>\n",
              "    <tr>\n",
              "      <th>user_10</th>\n",
              "      <td>-0.32272</td>\n",
              "      <td>-0.322720</td>\n",
              "      <td>-0.322720</td>\n",
              "      <td>-0.32272</td>\n",
              "      <td>-0.32272</td>\n",
              "      <td>-0.32272</td>\n",
              "      <td>-0.322720</td>\n",
              "      <td>-0.32272</td>\n",
              "      <td>-0.322720</td>\n",
              "      <td>-0.32272</td>\n",
              "      <td>...</td>\n",
              "      <td>-0.32272</td>\n",
              "      <td>-0.32272</td>\n",
              "      <td>-0.322720</td>\n",
              "      <td>-0.32272</td>\n",
              "      <td>8.382871</td>\n",
              "      <td>-0.32272</td>\n",
              "      <td>8.382871</td>\n",
              "      <td>-0.322720</td>\n",
              "      <td>-0.32272</td>\n",
              "      <td>-0.32272</td>\n",
              "    </tr>\n",
              "    <tr>\n",
              "      <th>user_100</th>\n",
              "      <td>-0.32272</td>\n",
              "      <td>-0.322720</td>\n",
              "      <td>-0.322720</td>\n",
              "      <td>-0.32272</td>\n",
              "      <td>-0.32272</td>\n",
              "      <td>-0.32272</td>\n",
              "      <td>-0.322720</td>\n",
              "      <td>-0.32272</td>\n",
              "      <td>8.382871</td>\n",
              "      <td>-0.32272</td>\n",
              "      <td>...</td>\n",
              "      <td>-0.32272</td>\n",
              "      <td>-0.32272</td>\n",
              "      <td>8.382871</td>\n",
              "      <td>-0.32272</td>\n",
              "      <td>8.382871</td>\n",
              "      <td>-0.32272</td>\n",
              "      <td>-0.322720</td>\n",
              "      <td>17.088463</td>\n",
              "      <td>-0.32272</td>\n",
              "      <td>-0.32272</td>\n",
              "    </tr>\n",
              "    <tr>\n",
              "      <th>user_1000</th>\n",
              "      <td>-0.32272</td>\n",
              "      <td>-0.322720</td>\n",
              "      <td>1.418398</td>\n",
              "      <td>-0.32272</td>\n",
              "      <td>-0.32272</td>\n",
              "      <td>-0.32272</td>\n",
              "      <td>-0.322720</td>\n",
              "      <td>-0.32272</td>\n",
              "      <td>-0.322720</td>\n",
              "      <td>-0.32272</td>\n",
              "      <td>...</td>\n",
              "      <td>-0.32272</td>\n",
              "      <td>-0.32272</td>\n",
              "      <td>-0.322720</td>\n",
              "      <td>-0.32272</td>\n",
              "      <td>-0.322720</td>\n",
              "      <td>-0.32272</td>\n",
              "      <td>-0.322720</td>\n",
              "      <td>-0.322720</td>\n",
              "      <td>-0.32272</td>\n",
              "      <td>-0.32272</td>\n",
              "    </tr>\n",
              "    <tr>\n",
              "      <th>user_1001</th>\n",
              "      <td>10.12399</td>\n",
              "      <td>1.418398</td>\n",
              "      <td>1.418398</td>\n",
              "      <td>-0.32272</td>\n",
              "      <td>10.12399</td>\n",
              "      <td>-0.32272</td>\n",
              "      <td>1.418398</td>\n",
              "      <td>-0.32272</td>\n",
              "      <td>-0.322720</td>\n",
              "      <td>-0.32272</td>\n",
              "      <td>...</td>\n",
              "      <td>-0.32272</td>\n",
              "      <td>-0.32272</td>\n",
              "      <td>-0.322720</td>\n",
              "      <td>-0.32272</td>\n",
              "      <td>-0.322720</td>\n",
              "      <td>10.12399</td>\n",
              "      <td>-0.322720</td>\n",
              "      <td>-0.322720</td>\n",
              "      <td>10.12399</td>\n",
              "      <td>-0.32272</td>\n",
              "    </tr>\n",
              "  </tbody>\n",
              "</table>\n",
              "<p>5 rows × 887 columns</p>\n",
              "</div>\n",
              "    <div class=\"colab-df-buttons\">\n",
              "\n",
              "  <div class=\"colab-df-container\">\n",
              "    <button class=\"colab-df-convert\" onclick=\"convertToInteractive('df-7f872636-8674-49f9-bdae-989a6f27e002')\"\n",
              "            title=\"Convert this dataframe to an interactive table.\"\n",
              "            style=\"display:none;\">\n",
              "\n",
              "  <svg xmlns=\"http://www.w3.org/2000/svg\" height=\"24px\" viewBox=\"0 -960 960 960\">\n",
              "    <path d=\"M120-120v-720h720v720H120Zm60-500h600v-160H180v160Zm220 220h160v-160H400v160Zm0 220h160v-160H400v160ZM180-400h160v-160H180v160Zm440 0h160v-160H620v160ZM180-180h160v-160H180v160Zm440 0h160v-160H620v160Z\"/>\n",
              "  </svg>\n",
              "    </button>\n",
              "\n",
              "  <style>\n",
              "    .colab-df-container {\n",
              "      display:flex;\n",
              "      gap: 12px;\n",
              "    }\n",
              "\n",
              "    .colab-df-convert {\n",
              "      background-color: #E8F0FE;\n",
              "      border: none;\n",
              "      border-radius: 50%;\n",
              "      cursor: pointer;\n",
              "      display: none;\n",
              "      fill: #1967D2;\n",
              "      height: 32px;\n",
              "      padding: 0 0 0 0;\n",
              "      width: 32px;\n",
              "    }\n",
              "\n",
              "    .colab-df-convert:hover {\n",
              "      background-color: #E2EBFA;\n",
              "      box-shadow: 0px 1px 2px rgba(60, 64, 67, 0.3), 0px 1px 3px 1px rgba(60, 64, 67, 0.15);\n",
              "      fill: #174EA6;\n",
              "    }\n",
              "\n",
              "    .colab-df-buttons div {\n",
              "      margin-bottom: 4px;\n",
              "    }\n",
              "\n",
              "    [theme=dark] .colab-df-convert {\n",
              "      background-color: #3B4455;\n",
              "      fill: #D2E3FC;\n",
              "    }\n",
              "\n",
              "    [theme=dark] .colab-df-convert:hover {\n",
              "      background-color: #434B5C;\n",
              "      box-shadow: 0px 1px 3px 1px rgba(0, 0, 0, 0.15);\n",
              "      filter: drop-shadow(0px 1px 2px rgba(0, 0, 0, 0.3));\n",
              "      fill: #FFFFFF;\n",
              "    }\n",
              "  </style>\n",
              "\n",
              "    <script>\n",
              "      const buttonEl =\n",
              "        document.querySelector('#df-7f872636-8674-49f9-bdae-989a6f27e002 button.colab-df-convert');\n",
              "      buttonEl.style.display =\n",
              "        google.colab.kernel.accessAllowed ? 'block' : 'none';\n",
              "\n",
              "      async function convertToInteractive(key) {\n",
              "        const element = document.querySelector('#df-7f872636-8674-49f9-bdae-989a6f27e002');\n",
              "        const dataTable =\n",
              "          await google.colab.kernel.invokeFunction('convertToInteractive',\n",
              "                                                    [key], {});\n",
              "        if (!dataTable) return;\n",
              "\n",
              "        const docLinkHtml = 'Like what you see? Visit the ' +\n",
              "          '<a target=\"_blank\" href=https://colab.research.google.com/notebooks/data_table.ipynb>data table notebook</a>'\n",
              "          + ' to learn more about interactive tables.';\n",
              "        element.innerHTML = '';\n",
              "        dataTable['output_type'] = 'display_data';\n",
              "        await google.colab.output.renderOutput(dataTable, element);\n",
              "        const docLink = document.createElement('div');\n",
              "        docLink.innerHTML = docLinkHtml;\n",
              "        element.appendChild(docLink);\n",
              "      }\n",
              "    </script>\n",
              "  </div>\n",
              "\n",
              "\n",
              "<div id=\"df-e7aef859-ef40-49d5-aa25-748ed86e6a9d\">\n",
              "  <button class=\"colab-df-quickchart\" onclick=\"quickchart('df-e7aef859-ef40-49d5-aa25-748ed86e6a9d')\"\n",
              "            title=\"Suggest charts.\"\n",
              "            style=\"display:none;\">\n",
              "\n",
              "<svg xmlns=\"http://www.w3.org/2000/svg\" height=\"24px\"viewBox=\"0 0 24 24\"\n",
              "     width=\"24px\">\n",
              "    <g>\n",
              "        <path d=\"M19 3H5c-1.1 0-2 .9-2 2v14c0 1.1.9 2 2 2h14c1.1 0 2-.9 2-2V5c0-1.1-.9-2-2-2zM9 17H7v-7h2v7zm4 0h-2V7h2v10zm4 0h-2v-4h2v4z\"/>\n",
              "    </g>\n",
              "</svg>\n",
              "  </button>\n",
              "\n",
              "<style>\n",
              "  .colab-df-quickchart {\n",
              "      --bg-color: #E8F0FE;\n",
              "      --fill-color: #1967D2;\n",
              "      --hover-bg-color: #E2EBFA;\n",
              "      --hover-fill-color: #174EA6;\n",
              "      --disabled-fill-color: #AAA;\n",
              "      --disabled-bg-color: #DDD;\n",
              "  }\n",
              "\n",
              "  [theme=dark] .colab-df-quickchart {\n",
              "      --bg-color: #3B4455;\n",
              "      --fill-color: #D2E3FC;\n",
              "      --hover-bg-color: #434B5C;\n",
              "      --hover-fill-color: #FFFFFF;\n",
              "      --disabled-bg-color: #3B4455;\n",
              "      --disabled-fill-color: #666;\n",
              "  }\n",
              "\n",
              "  .colab-df-quickchart {\n",
              "    background-color: var(--bg-color);\n",
              "    border: none;\n",
              "    border-radius: 50%;\n",
              "    cursor: pointer;\n",
              "    display: none;\n",
              "    fill: var(--fill-color);\n",
              "    height: 32px;\n",
              "    padding: 0;\n",
              "    width: 32px;\n",
              "  }\n",
              "\n",
              "  .colab-df-quickchart:hover {\n",
              "    background-color: var(--hover-bg-color);\n",
              "    box-shadow: 0 1px 2px rgba(60, 64, 67, 0.3), 0 1px 3px 1px rgba(60, 64, 67, 0.15);\n",
              "    fill: var(--button-hover-fill-color);\n",
              "  }\n",
              "\n",
              "  .colab-df-quickchart-complete:disabled,\n",
              "  .colab-df-quickchart-complete:disabled:hover {\n",
              "    background-color: var(--disabled-bg-color);\n",
              "    fill: var(--disabled-fill-color);\n",
              "    box-shadow: none;\n",
              "  }\n",
              "\n",
              "  .colab-df-spinner {\n",
              "    border: 2px solid var(--fill-color);\n",
              "    border-color: transparent;\n",
              "    border-bottom-color: var(--fill-color);\n",
              "    animation:\n",
              "      spin 1s steps(1) infinite;\n",
              "  }\n",
              "\n",
              "  @keyframes spin {\n",
              "    0% {\n",
              "      border-color: transparent;\n",
              "      border-bottom-color: var(--fill-color);\n",
              "      border-left-color: var(--fill-color);\n",
              "    }\n",
              "    20% {\n",
              "      border-color: transparent;\n",
              "      border-left-color: var(--fill-color);\n",
              "      border-top-color: var(--fill-color);\n",
              "    }\n",
              "    30% {\n",
              "      border-color: transparent;\n",
              "      border-left-color: var(--fill-color);\n",
              "      border-top-color: var(--fill-color);\n",
              "      border-right-color: var(--fill-color);\n",
              "    }\n",
              "    40% {\n",
              "      border-color: transparent;\n",
              "      border-right-color: var(--fill-color);\n",
              "      border-top-color: var(--fill-color);\n",
              "    }\n",
              "    60% {\n",
              "      border-color: transparent;\n",
              "      border-right-color: var(--fill-color);\n",
              "    }\n",
              "    80% {\n",
              "      border-color: transparent;\n",
              "      border-right-color: var(--fill-color);\n",
              "      border-bottom-color: var(--fill-color);\n",
              "    }\n",
              "    90% {\n",
              "      border-color: transparent;\n",
              "      border-bottom-color: var(--fill-color);\n",
              "    }\n",
              "  }\n",
              "</style>\n",
              "\n",
              "  <script>\n",
              "    async function quickchart(key) {\n",
              "      const quickchartButtonEl =\n",
              "        document.querySelector('#' + key + ' button');\n",
              "      quickchartButtonEl.disabled = true;  // To prevent multiple clicks.\n",
              "      quickchartButtonEl.classList.add('colab-df-spinner');\n",
              "      try {\n",
              "        const charts = await google.colab.kernel.invokeFunction(\n",
              "            'suggestCharts', [key], {});\n",
              "      } catch (error) {\n",
              "        console.error('Error during call to suggestCharts:', error);\n",
              "      }\n",
              "      quickchartButtonEl.classList.remove('colab-df-spinner');\n",
              "      quickchartButtonEl.classList.add('colab-df-quickchart-complete');\n",
              "    }\n",
              "    (() => {\n",
              "      let quickchartButtonEl =\n",
              "        document.querySelector('#df-e7aef859-ef40-49d5-aa25-748ed86e6a9d button');\n",
              "      quickchartButtonEl.style.display =\n",
              "        google.colab.kernel.accessAllowed ? 'block' : 'none';\n",
              "    })();\n",
              "  </script>\n",
              "</div>\n",
              "    </div>\n",
              "  </div>\n"
            ]
          },
          "metadata": {},
          "execution_count": 36
        }
      ]
    },
    {
      "cell_type": "markdown",
      "source": [
        "### Algo 1: Alternating Least Squares"
      ],
      "metadata": {
        "id": "L6aorYIDfE6l"
      }
    },
    {
      "cell_type": "code",
      "source": [],
      "metadata": {
        "id": "UXxylTJCvUGZ"
      },
      "execution_count": 51,
      "outputs": []
    },
    {
      "cell_type": "code",
      "source": [
        "pip install implicit"
      ],
      "metadata": {
        "id": "4RV5sVqLrky2",
        "colab": {
          "base_uri": "https://localhost:8080/"
        },
        "outputId": "26e682b0-d375-4e31-8083-1135130b12e5"
      },
      "execution_count": 37,
      "outputs": [
        {
          "output_type": "stream",
          "name": "stdout",
          "text": [
            "Collecting implicit\n",
            "  Downloading implicit-0.7.2-cp310-cp310-manylinux2014_x86_64.whl (8.9 MB)\n",
            "\u001b[2K     \u001b[90m━━━━━━━━━━━━━━━━━━━━━━━━━━━━━━━━━━━━━━━━\u001b[0m \u001b[32m8.9/8.9 MB\u001b[0m \u001b[31m49.3 MB/s\u001b[0m eta \u001b[36m0:00:00\u001b[0m\n",
            "\u001b[?25hRequirement already satisfied: numpy>=1.17.0 in /usr/local/lib/python3.10/dist-packages (from implicit) (1.23.5)\n",
            "Requirement already satisfied: scipy>=0.16 in /usr/local/lib/python3.10/dist-packages (from implicit) (1.11.3)\n",
            "Requirement already satisfied: tqdm>=4.27 in /usr/local/lib/python3.10/dist-packages (from implicit) (4.66.1)\n",
            "Requirement already satisfied: threadpoolctl in /usr/local/lib/python3.10/dist-packages (from implicit) (3.2.0)\n",
            "Installing collected packages: implicit\n",
            "Successfully installed implicit-0.7.2\n"
          ]
        }
      ]
    },
    {
      "cell_type": "code",
      "source": [
        "import scipy.sparse as sparse\n",
        "from implicit.als import AlternatingLeastSquares\n",
        "\n",
        "sparse_interaction_matrix = sparse.csr_matrix(interaction_matrix.values)"
      ],
      "metadata": {
        "id": "JRCVgllOsRTv",
        "colab": {
          "base_uri": "https://localhost:8080/"
        },
        "outputId": "07fc2536-5db9-4bfe-cc81-121a9c0ff3e8"
      },
      "execution_count": 38,
      "outputs": [
        {
          "output_type": "stream",
          "name": "stderr",
          "text": [
            "/usr/local/lib/python3.10/dist-packages/implicit/gpu/__init__.py:13: UserWarning: CUDA extension is built, but disabling GPU support because of 'Cuda Error: CUDA driver version is insufficient for CUDA runtime version (/project/./implicit/gpu/utils.h:71)'\n",
            "  warnings.warn(\n"
          ]
        }
      ]
    },
    {
      "cell_type": "code",
      "source": [
        "\n",
        "model = AlternatingLeastSquares(factors=50, regularization=0.01,iterations=20)\n",
        "\n",
        "model.fit(sparse_interaction_matrix)"
      ],
      "metadata": {
        "colab": {
          "base_uri": "https://localhost:8080/",
          "height": 49,
          "referenced_widgets": [
            "956d4c13a771453ba3d8caca513e3a5f",
            "b3b0833943584c40a0bed1921604eb86",
            "95a57a9998854b96bfc4b568eb93b7bc",
            "d5c890f9e61e45fe8da7b3f64ec2f622",
            "08415129939e4a819af6cd8066ddb026",
            "ed07699e293b42d0a0328de46c06c81b",
            "e00f4a3f17af4489a5a9d9ef427b31fa",
            "64ec400a42e64de0868750884235a7c0",
            "9e2b1e4f3cde451c9fdad7c5d929b5fc",
            "4426be474bf3415cb08d2317e684c45f",
            "0c29167391e44dcaad3d6b703085612c"
          ]
        },
        "id": "1ZhIIrZRt4nJ",
        "outputId": "629c5d24-7499-4866-be99-1b69cfed87fe"
      },
      "execution_count": 40,
      "outputs": [
        {
          "output_type": "display_data",
          "data": {
            "text/plain": [
              "  0%|          | 0/20 [00:00<?, ?it/s]"
            ],
            "application/vnd.jupyter.widget-view+json": {
              "version_major": 2,
              "version_minor": 0,
              "model_id": "956d4c13a771453ba3d8caca513e3a5f"
            }
          },
          "metadata": {}
        }
      ]
    },
    {
      "cell_type": "code",
      "source": [
        "\n",
        "user_code = random.sample(list(interaction_matrix_normalized.index),1)[0]\n",
        "user_index = interaction_matrix.index.get_loc(user_code)\n",
        "user_code,user_index\n"
      ],
      "metadata": {
        "colab": {
          "base_uri": "https://localhost:8080/"
        },
        "id": "i6h0FpuwyM2A",
        "outputId": "b6d1240d-266d-4211-892b-eb60af68d547"
      },
      "execution_count": 98,
      "outputs": [
        {
          "output_type": "execute_result",
          "data": {
            "text/plain": [
              "('user_2100', 1054)"
            ]
          },
          "metadata": {},
          "execution_count": 98
        }
      ]
    },
    {
      "cell_type": "code",
      "source": [
        "### Checking the actual data available for this user, how many polls did they interact with and the type of interactions\n",
        "\n",
        "nonsess_data[(nonsess_data.user_code==user_code)]#.groupby('event').event.count()"
      ],
      "metadata": {
        "colab": {
          "base_uri": "https://localhost:8080/"
        },
        "id": "35u1ECgYga24",
        "outputId": "f0490666-4677-484a-e124-c1b0a40ac9d6"
      },
      "execution_count": 99,
      "outputs": [
        {
          "output_type": "execute_result",
          "data": {
            "text/plain": [
              "event\n",
              "Impression        40\n",
              "Polls Answered    34\n",
              "Name: event, dtype: int64"
            ]
          },
          "metadata": {},
          "execution_count": 99
        }
      ]
    },
    {
      "cell_type": "code",
      "source": [
        "# Get user recommendations\n",
        "user_recommendations = model.recommend(user_index, sparse_interaction_matrix, N=50, filter_already_liked_items=False)\n",
        "recommended_post_ids = [interaction_matrix.columns[i] for i in user_recommendations[0]]\n",
        "print(recommended_post_ids)"
      ],
      "metadata": {
        "colab": {
          "base_uri": "https://localhost:8080/"
        },
        "id": "mouJGvsEzHlx",
        "outputId": "42e4ccb3-124c-4128-b596-4031184474f2"
      },
      "execution_count": 100,
      "outputs": [
        {
          "output_type": "stream",
          "name": "stdout",
          "text": [
            "['poll_577', 'poll_561', 'poll_618', 'poll_526', 'poll_194', 'poll_636', 'poll_341', 'poll_91', 'poll_23', 'poll_568', 'poll_123', 'poll_2', 'poll_706', 'poll_273', 'poll_366', 'poll_529', 'poll_6', 'poll_105', 'poll_614', 'poll_241', 'poll_83', 'poll_296', 'poll_19', 'poll_478', 'poll_435', 'poll_223', 'poll_37', 'poll_249', 'poll_576', 'poll_580', 'poll_397', 'poll_602', 'poll_247', 'poll_682', 'poll_693', 'poll_665', 'poll_403', 'poll_325', 'poll_367', 'poll_283', 'poll_549', 'poll_289', 'poll_316', 'poll_667', 'poll_622', 'poll_543', 'poll_352', 'poll_361', 'poll_151', 'poll_644']\n"
          ]
        }
      ]
    },
    {
      "cell_type": "markdown",
      "source": [
        "#### Heuristic Evaluation\n",
        "\n",
        "\n",
        "1. From the top 50 recommendations, the percentage distribution of top 3 categories, should be similar to the distribution of the categories of user interacted post (Proxy for Recall)\n",
        "\n",
        "2. From the top 50 recommendations, what is the number of posts they have actually interacted with (preferably polls answered or shared type of interactions  (Proxy for Precision)"
      ],
      "metadata": {
        "id": "hhjy9_Pqgz4X"
      }
    },
    {
      "cell_type": "code",
      "source": [
        "polls_df[polls_df.poll_code.isin(recommended_post_ids)].categories.value_counts(normalize=True).head(5)*100"
      ],
      "metadata": {
        "colab": {
          "base_uri": "https://localhost:8080/"
        },
        "id": "griCW7mQ0qPb",
        "outputId": "ee391278-4460-4b0b-bf7a-8db3e2bede7c"
      },
      "execution_count": 101,
      "outputs": [
        {
          "output_type": "execute_result",
          "data": {
            "text/plain": [
              "Other                      42.0\n",
              "Lifestyle                  18.0\n",
              "Dating and Relationship    16.0\n",
              "Internet                    6.0\n",
              "Would You Rather            4.0\n",
              "Name: categories, dtype: float64"
            ]
          },
          "metadata": {},
          "execution_count": 101
        }
      ]
    },
    {
      "cell_type": "code",
      "source": [
        "interacted = list(nonsess_data[(nonsess_data.user_code==user_code) & (nonsess_data.event=='Polls Answered') ].poll_code.unique())\n",
        "polls_df[polls_df.poll_code.isin(interacted)].categories.value_counts(normalize=True).head(5)*100"
      ],
      "metadata": {
        "colab": {
          "base_uri": "https://localhost:8080/"
        },
        "id": "ZFW7VVBp2rv7",
        "outputId": "231d4a7b-57e1-47c6-da50-976679f00290"
      },
      "execution_count": 102,
      "outputs": [
        {
          "output_type": "execute_result",
          "data": {
            "text/plain": [
              "Other                      38.235294\n",
              "Lifestyle                  26.470588\n",
              "Dating and Relationship    11.764706\n",
              "Would You Rather            5.882353\n",
              "Hypothetical                5.882353\n",
              "Name: categories, dtype: float64"
            ]
          },
          "metadata": {},
          "execution_count": 102
        }
      ]
    },
    {
      "cell_type": "markdown",
      "source": [
        "### We can see that for both the sets, recommended polls & user interated polls, the top 3 categories are the same."
      ],
      "metadata": {
        "id": "oyt3XJ9OxDmw"
      }
    },
    {
      "cell_type": "code",
      "source": [
        "any_interactions_truth = list(nonsess_data[(nonsess_data.user_code==user_code)].poll_code.unique())\n",
        "if len(any_interactions_truth):\n",
        "  print(len(set(any_interactions_truth).intersection(set(recommended_post_ids[:len(any_interactions_truth)])))/len(any_interactions_truth))"
      ],
      "metadata": {
        "id": "s-cfE5gw3c3O",
        "colab": {
          "base_uri": "https://localhost:8080/"
        },
        "outputId": "828643e6-5e4e-427b-d179-d89f756dada1"
      },
      "execution_count": 103,
      "outputs": [
        {
          "output_type": "stream",
          "name": "stdout",
          "text": [
            "0.9487179487179487\n"
          ]
        }
      ]
    },
    {
      "cell_type": "code",
      "source": [
        "user_predPrecision_map = {}\n",
        "for user_code in list(interaction_matrix_normalized.index):\n",
        "  user_index = interaction_matrix.index.get_loc(user_code)\n",
        "  user_recommendations = model.recommend(user_index, sparse_interaction_matrix, N=50, filter_already_liked_items=False)\n",
        "  recommended_post_ids = [interaction_matrix.columns[i] for i in user_recommendations[0]]\n",
        "\n",
        "  any_interactions_truth = list(nonsess_data[(nonsess_data.user_code==user_code)].poll_code.unique())\n",
        "\n",
        "  if len(any_interactions_truth)>=10:\n",
        "    user_predPrecision_map[user_code] = round(len(set(any_interactions_truth).intersection(set(recommended_post_ids[:len(any_interactions_truth)])))/len(any_interactions_truth),2)\n"
      ],
      "metadata": {
        "id": "YyerX0mogS1f"
      },
      "execution_count": 104,
      "outputs": []
    },
    {
      "cell_type": "code",
      "source": [
        "pd.Series(user_predPrecision_map.values()).describe()"
      ],
      "metadata": {
        "colab": {
          "base_uri": "https://localhost:8080/"
        },
        "id": "Q8zN-SFWjyQa",
        "outputId": "c2b27855-ffe2-46d9-c0fd-b9f825dd1ba4"
      },
      "execution_count": 107,
      "outputs": [
        {
          "output_type": "execute_result",
          "data": {
            "text/plain": [
              "count    2473.000000\n",
              "mean        0.729450\n",
              "std         0.223478\n",
              "min         0.080000\n",
              "25%         0.600000\n",
              "50%         0.790000\n",
              "75%         0.910000\n",
              "max         1.000000\n",
              "dtype: float64"
            ]
          },
          "metadata": {},
          "execution_count": 107
        }
      ]
    },
    {
      "cell_type": "markdown",
      "source": [
        "### Median Value of Precision is 79 which is not bad at all.\n",
        "\n",
        "With some additional hyperparameter tuning this can be cranked up a bit"
      ],
      "metadata": {
        "id": "WTYB0JfXt2ZB"
      }
    },
    {
      "cell_type": "code",
      "source": [],
      "metadata": {
        "id": "4-5o8qGJj0HD"
      },
      "execution_count": 107,
      "outputs": []
    },
    {
      "cell_type": "markdown",
      "source": [
        "### Algo 2: Pure SVD"
      ],
      "metadata": {
        "id": "NpqY-nNBuTS8"
      }
    },
    {
      "cell_type": "code",
      "source": [
        "from scipy.sparse.linalg import svds"
      ],
      "metadata": {
        "id": "JDk-jqwhkAz4"
      },
      "execution_count": 108,
      "outputs": []
    },
    {
      "cell_type": "code",
      "source": [
        "user_poll_matrix_array = interaction_matrix.to_numpy()"
      ],
      "metadata": {
        "id": "xSaqdEXVnn79"
      },
      "execution_count": 109,
      "outputs": []
    },
    {
      "cell_type": "code",
      "source": [
        "U, sigma, Vt = svds(user_poll_matrix_array, k=35)"
      ],
      "metadata": {
        "id": "gJz6o7TaulLY"
      },
      "execution_count": 144,
      "outputs": []
    },
    {
      "cell_type": "code",
      "source": [
        "sigma_diag_matrix = np.diag(sigma)"
      ],
      "metadata": {
        "id": "u8Drto0wuxE9"
      },
      "execution_count": 145,
      "outputs": []
    },
    {
      "cell_type": "code",
      "source": [
        "predicted_ratings = np.dot(np.dot(U, sigma_diag_matrix), Vt)\n",
        "\n",
        "# Convert the result back to a pandas DataFrame\n",
        "predicted_ratings_df = pd.DataFrame(predicted_ratings, columns=interaction_matrix.columns)\n",
        "predicted_ratings_df.head()"
      ],
      "metadata": {
        "colab": {
          "base_uri": "https://localhost:8080/",
          "height": 236
        },
        "id": "RQiE9pyau6d4",
        "outputId": "5039d3a8-40f8-4f66-c997-39754adc9e05"
      },
      "execution_count": 146,
      "outputs": [
        {
          "output_type": "execute_result",
          "data": {
            "text/plain": [
              "poll_code    poll_1   poll_10  poll_100  poll_101  poll_102  poll_103  \\\n",
              "0         -0.077622  0.082700 -0.046004  0.183694 -0.058883  0.047341   \n",
              "1          0.165120  0.297597  0.233539  0.387938  0.140281  0.361607   \n",
              "2          0.157875  0.335320  0.018738  0.419164  0.250552  0.063446   \n",
              "3         -0.007460  0.251403  0.021829 -0.005573  0.006712 -0.037910   \n",
              "4          1.022434  0.361652  0.325544  0.028390  0.774176 -0.010834   \n",
              "\n",
              "poll_code  poll_104  poll_105  poll_106  poll_107  ...  poll_917  poll_918  \\\n",
              "0          0.001192  0.183818  0.088328  0.081816  ... -0.006907  0.000846   \n",
              "1          0.181241  0.313767  0.239342  0.468221  ...  0.005659 -0.002494   \n",
              "2          0.289638  0.084531  0.196898  0.386893  ...  0.009605  0.005424   \n",
              "3         -0.009368 -0.103688  0.005507 -0.032449  ... -0.001267  0.001226   \n",
              "4          0.947545  0.001231 -0.019317  0.006686  ...  0.004846  0.008123   \n",
              "\n",
              "poll_code   poll_92   poll_93   poll_94   poll_95   poll_96   poll_97  \\\n",
              "0          0.003774  0.052982  0.543043  0.128000  0.043040  0.153342   \n",
              "1          0.143339  0.232683  0.163384  0.054166  0.320989  0.472563   \n",
              "2          0.115515  0.220126  0.108005 -0.038333  0.120809  0.419336   \n",
              "3          0.001094 -0.011243  0.003955  0.030959 -0.032375 -0.023532   \n",
              "4          0.007253  0.017807 -0.001272  1.043646  0.052011  0.040772   \n",
              "\n",
              "poll_code   poll_98   poll_99  \n",
              "0         -0.042211  0.024446  \n",
              "1          0.155912  0.211858  \n",
              "2          0.064244  0.197608  \n",
              "3          0.049664  0.027781  \n",
              "4          0.637591  0.002929  \n",
              "\n",
              "[5 rows x 887 columns]"
            ],
            "text/html": [
              "\n",
              "  <div id=\"df-371e66c8-6e2c-4733-a553-c8125e8c0b4f\" class=\"colab-df-container\">\n",
              "    <div>\n",
              "<style scoped>\n",
              "    .dataframe tbody tr th:only-of-type {\n",
              "        vertical-align: middle;\n",
              "    }\n",
              "\n",
              "    .dataframe tbody tr th {\n",
              "        vertical-align: top;\n",
              "    }\n",
              "\n",
              "    .dataframe thead th {\n",
              "        text-align: right;\n",
              "    }\n",
              "</style>\n",
              "<table border=\"1\" class=\"dataframe\">\n",
              "  <thead>\n",
              "    <tr style=\"text-align: right;\">\n",
              "      <th>poll_code</th>\n",
              "      <th>poll_1</th>\n",
              "      <th>poll_10</th>\n",
              "      <th>poll_100</th>\n",
              "      <th>poll_101</th>\n",
              "      <th>poll_102</th>\n",
              "      <th>poll_103</th>\n",
              "      <th>poll_104</th>\n",
              "      <th>poll_105</th>\n",
              "      <th>poll_106</th>\n",
              "      <th>poll_107</th>\n",
              "      <th>...</th>\n",
              "      <th>poll_917</th>\n",
              "      <th>poll_918</th>\n",
              "      <th>poll_92</th>\n",
              "      <th>poll_93</th>\n",
              "      <th>poll_94</th>\n",
              "      <th>poll_95</th>\n",
              "      <th>poll_96</th>\n",
              "      <th>poll_97</th>\n",
              "      <th>poll_98</th>\n",
              "      <th>poll_99</th>\n",
              "    </tr>\n",
              "  </thead>\n",
              "  <tbody>\n",
              "    <tr>\n",
              "      <th>0</th>\n",
              "      <td>-0.077622</td>\n",
              "      <td>0.082700</td>\n",
              "      <td>-0.046004</td>\n",
              "      <td>0.183694</td>\n",
              "      <td>-0.058883</td>\n",
              "      <td>0.047341</td>\n",
              "      <td>0.001192</td>\n",
              "      <td>0.183818</td>\n",
              "      <td>0.088328</td>\n",
              "      <td>0.081816</td>\n",
              "      <td>...</td>\n",
              "      <td>-0.006907</td>\n",
              "      <td>0.000846</td>\n",
              "      <td>0.003774</td>\n",
              "      <td>0.052982</td>\n",
              "      <td>0.543043</td>\n",
              "      <td>0.128000</td>\n",
              "      <td>0.043040</td>\n",
              "      <td>0.153342</td>\n",
              "      <td>-0.042211</td>\n",
              "      <td>0.024446</td>\n",
              "    </tr>\n",
              "    <tr>\n",
              "      <th>1</th>\n",
              "      <td>0.165120</td>\n",
              "      <td>0.297597</td>\n",
              "      <td>0.233539</td>\n",
              "      <td>0.387938</td>\n",
              "      <td>0.140281</td>\n",
              "      <td>0.361607</td>\n",
              "      <td>0.181241</td>\n",
              "      <td>0.313767</td>\n",
              "      <td>0.239342</td>\n",
              "      <td>0.468221</td>\n",
              "      <td>...</td>\n",
              "      <td>0.005659</td>\n",
              "      <td>-0.002494</td>\n",
              "      <td>0.143339</td>\n",
              "      <td>0.232683</td>\n",
              "      <td>0.163384</td>\n",
              "      <td>0.054166</td>\n",
              "      <td>0.320989</td>\n",
              "      <td>0.472563</td>\n",
              "      <td>0.155912</td>\n",
              "      <td>0.211858</td>\n",
              "    </tr>\n",
              "    <tr>\n",
              "      <th>2</th>\n",
              "      <td>0.157875</td>\n",
              "      <td>0.335320</td>\n",
              "      <td>0.018738</td>\n",
              "      <td>0.419164</td>\n",
              "      <td>0.250552</td>\n",
              "      <td>0.063446</td>\n",
              "      <td>0.289638</td>\n",
              "      <td>0.084531</td>\n",
              "      <td>0.196898</td>\n",
              "      <td>0.386893</td>\n",
              "      <td>...</td>\n",
              "      <td>0.009605</td>\n",
              "      <td>0.005424</td>\n",
              "      <td>0.115515</td>\n",
              "      <td>0.220126</td>\n",
              "      <td>0.108005</td>\n",
              "      <td>-0.038333</td>\n",
              "      <td>0.120809</td>\n",
              "      <td>0.419336</td>\n",
              "      <td>0.064244</td>\n",
              "      <td>0.197608</td>\n",
              "    </tr>\n",
              "    <tr>\n",
              "      <th>3</th>\n",
              "      <td>-0.007460</td>\n",
              "      <td>0.251403</td>\n",
              "      <td>0.021829</td>\n",
              "      <td>-0.005573</td>\n",
              "      <td>0.006712</td>\n",
              "      <td>-0.037910</td>\n",
              "      <td>-0.009368</td>\n",
              "      <td>-0.103688</td>\n",
              "      <td>0.005507</td>\n",
              "      <td>-0.032449</td>\n",
              "      <td>...</td>\n",
              "      <td>-0.001267</td>\n",
              "      <td>0.001226</td>\n",
              "      <td>0.001094</td>\n",
              "      <td>-0.011243</td>\n",
              "      <td>0.003955</td>\n",
              "      <td>0.030959</td>\n",
              "      <td>-0.032375</td>\n",
              "      <td>-0.023532</td>\n",
              "      <td>0.049664</td>\n",
              "      <td>0.027781</td>\n",
              "    </tr>\n",
              "    <tr>\n",
              "      <th>4</th>\n",
              "      <td>1.022434</td>\n",
              "      <td>0.361652</td>\n",
              "      <td>0.325544</td>\n",
              "      <td>0.028390</td>\n",
              "      <td>0.774176</td>\n",
              "      <td>-0.010834</td>\n",
              "      <td>0.947545</td>\n",
              "      <td>0.001231</td>\n",
              "      <td>-0.019317</td>\n",
              "      <td>0.006686</td>\n",
              "      <td>...</td>\n",
              "      <td>0.004846</td>\n",
              "      <td>0.008123</td>\n",
              "      <td>0.007253</td>\n",
              "      <td>0.017807</td>\n",
              "      <td>-0.001272</td>\n",
              "      <td>1.043646</td>\n",
              "      <td>0.052011</td>\n",
              "      <td>0.040772</td>\n",
              "      <td>0.637591</td>\n",
              "      <td>0.002929</td>\n",
              "    </tr>\n",
              "  </tbody>\n",
              "</table>\n",
              "<p>5 rows × 887 columns</p>\n",
              "</div>\n",
              "    <div class=\"colab-df-buttons\">\n",
              "\n",
              "  <div class=\"colab-df-container\">\n",
              "    <button class=\"colab-df-convert\" onclick=\"convertToInteractive('df-371e66c8-6e2c-4733-a553-c8125e8c0b4f')\"\n",
              "            title=\"Convert this dataframe to an interactive table.\"\n",
              "            style=\"display:none;\">\n",
              "\n",
              "  <svg xmlns=\"http://www.w3.org/2000/svg\" height=\"24px\" viewBox=\"0 -960 960 960\">\n",
              "    <path d=\"M120-120v-720h720v720H120Zm60-500h600v-160H180v160Zm220 220h160v-160H400v160Zm0 220h160v-160H400v160ZM180-400h160v-160H180v160Zm440 0h160v-160H620v160ZM180-180h160v-160H180v160Zm440 0h160v-160H620v160Z\"/>\n",
              "  </svg>\n",
              "    </button>\n",
              "\n",
              "  <style>\n",
              "    .colab-df-container {\n",
              "      display:flex;\n",
              "      gap: 12px;\n",
              "    }\n",
              "\n",
              "    .colab-df-convert {\n",
              "      background-color: #E8F0FE;\n",
              "      border: none;\n",
              "      border-radius: 50%;\n",
              "      cursor: pointer;\n",
              "      display: none;\n",
              "      fill: #1967D2;\n",
              "      height: 32px;\n",
              "      padding: 0 0 0 0;\n",
              "      width: 32px;\n",
              "    }\n",
              "\n",
              "    .colab-df-convert:hover {\n",
              "      background-color: #E2EBFA;\n",
              "      box-shadow: 0px 1px 2px rgba(60, 64, 67, 0.3), 0px 1px 3px 1px rgba(60, 64, 67, 0.15);\n",
              "      fill: #174EA6;\n",
              "    }\n",
              "\n",
              "    .colab-df-buttons div {\n",
              "      margin-bottom: 4px;\n",
              "    }\n",
              "\n",
              "    [theme=dark] .colab-df-convert {\n",
              "      background-color: #3B4455;\n",
              "      fill: #D2E3FC;\n",
              "    }\n",
              "\n",
              "    [theme=dark] .colab-df-convert:hover {\n",
              "      background-color: #434B5C;\n",
              "      box-shadow: 0px 1px 3px 1px rgba(0, 0, 0, 0.15);\n",
              "      filter: drop-shadow(0px 1px 2px rgba(0, 0, 0, 0.3));\n",
              "      fill: #FFFFFF;\n",
              "    }\n",
              "  </style>\n",
              "\n",
              "    <script>\n",
              "      const buttonEl =\n",
              "        document.querySelector('#df-371e66c8-6e2c-4733-a553-c8125e8c0b4f button.colab-df-convert');\n",
              "      buttonEl.style.display =\n",
              "        google.colab.kernel.accessAllowed ? 'block' : 'none';\n",
              "\n",
              "      async function convertToInteractive(key) {\n",
              "        const element = document.querySelector('#df-371e66c8-6e2c-4733-a553-c8125e8c0b4f');\n",
              "        const dataTable =\n",
              "          await google.colab.kernel.invokeFunction('convertToInteractive',\n",
              "                                                    [key], {});\n",
              "        if (!dataTable) return;\n",
              "\n",
              "        const docLinkHtml = 'Like what you see? Visit the ' +\n",
              "          '<a target=\"_blank\" href=https://colab.research.google.com/notebooks/data_table.ipynb>data table notebook</a>'\n",
              "          + ' to learn more about interactive tables.';\n",
              "        element.innerHTML = '';\n",
              "        dataTable['output_type'] = 'display_data';\n",
              "        await google.colab.output.renderOutput(dataTable, element);\n",
              "        const docLink = document.createElement('div');\n",
              "        docLink.innerHTML = docLinkHtml;\n",
              "        element.appendChild(docLink);\n",
              "      }\n",
              "    </script>\n",
              "  </div>\n",
              "\n",
              "\n",
              "<div id=\"df-aaa1b453-e147-42fa-bbdd-4f88fe70e20b\">\n",
              "  <button class=\"colab-df-quickchart\" onclick=\"quickchart('df-aaa1b453-e147-42fa-bbdd-4f88fe70e20b')\"\n",
              "            title=\"Suggest charts.\"\n",
              "            style=\"display:none;\">\n",
              "\n",
              "<svg xmlns=\"http://www.w3.org/2000/svg\" height=\"24px\"viewBox=\"0 0 24 24\"\n",
              "     width=\"24px\">\n",
              "    <g>\n",
              "        <path d=\"M19 3H5c-1.1 0-2 .9-2 2v14c0 1.1.9 2 2 2h14c1.1 0 2-.9 2-2V5c0-1.1-.9-2-2-2zM9 17H7v-7h2v7zm4 0h-2V7h2v10zm4 0h-2v-4h2v4z\"/>\n",
              "    </g>\n",
              "</svg>\n",
              "  </button>\n",
              "\n",
              "<style>\n",
              "  .colab-df-quickchart {\n",
              "      --bg-color: #E8F0FE;\n",
              "      --fill-color: #1967D2;\n",
              "      --hover-bg-color: #E2EBFA;\n",
              "      --hover-fill-color: #174EA6;\n",
              "      --disabled-fill-color: #AAA;\n",
              "      --disabled-bg-color: #DDD;\n",
              "  }\n",
              "\n",
              "  [theme=dark] .colab-df-quickchart {\n",
              "      --bg-color: #3B4455;\n",
              "      --fill-color: #D2E3FC;\n",
              "      --hover-bg-color: #434B5C;\n",
              "      --hover-fill-color: #FFFFFF;\n",
              "      --disabled-bg-color: #3B4455;\n",
              "      --disabled-fill-color: #666;\n",
              "  }\n",
              "\n",
              "  .colab-df-quickchart {\n",
              "    background-color: var(--bg-color);\n",
              "    border: none;\n",
              "    border-radius: 50%;\n",
              "    cursor: pointer;\n",
              "    display: none;\n",
              "    fill: var(--fill-color);\n",
              "    height: 32px;\n",
              "    padding: 0;\n",
              "    width: 32px;\n",
              "  }\n",
              "\n",
              "  .colab-df-quickchart:hover {\n",
              "    background-color: var(--hover-bg-color);\n",
              "    box-shadow: 0 1px 2px rgba(60, 64, 67, 0.3), 0 1px 3px 1px rgba(60, 64, 67, 0.15);\n",
              "    fill: var(--button-hover-fill-color);\n",
              "  }\n",
              "\n",
              "  .colab-df-quickchart-complete:disabled,\n",
              "  .colab-df-quickchart-complete:disabled:hover {\n",
              "    background-color: var(--disabled-bg-color);\n",
              "    fill: var(--disabled-fill-color);\n",
              "    box-shadow: none;\n",
              "  }\n",
              "\n",
              "  .colab-df-spinner {\n",
              "    border: 2px solid var(--fill-color);\n",
              "    border-color: transparent;\n",
              "    border-bottom-color: var(--fill-color);\n",
              "    animation:\n",
              "      spin 1s steps(1) infinite;\n",
              "  }\n",
              "\n",
              "  @keyframes spin {\n",
              "    0% {\n",
              "      border-color: transparent;\n",
              "      border-bottom-color: var(--fill-color);\n",
              "      border-left-color: var(--fill-color);\n",
              "    }\n",
              "    20% {\n",
              "      border-color: transparent;\n",
              "      border-left-color: var(--fill-color);\n",
              "      border-top-color: var(--fill-color);\n",
              "    }\n",
              "    30% {\n",
              "      border-color: transparent;\n",
              "      border-left-color: var(--fill-color);\n",
              "      border-top-color: var(--fill-color);\n",
              "      border-right-color: var(--fill-color);\n",
              "    }\n",
              "    40% {\n",
              "      border-color: transparent;\n",
              "      border-right-color: var(--fill-color);\n",
              "      border-top-color: var(--fill-color);\n",
              "    }\n",
              "    60% {\n",
              "      border-color: transparent;\n",
              "      border-right-color: var(--fill-color);\n",
              "    }\n",
              "    80% {\n",
              "      border-color: transparent;\n",
              "      border-right-color: var(--fill-color);\n",
              "      border-bottom-color: var(--fill-color);\n",
              "    }\n",
              "    90% {\n",
              "      border-color: transparent;\n",
              "      border-bottom-color: var(--fill-color);\n",
              "    }\n",
              "  }\n",
              "</style>\n",
              "\n",
              "  <script>\n",
              "    async function quickchart(key) {\n",
              "      const quickchartButtonEl =\n",
              "        document.querySelector('#' + key + ' button');\n",
              "      quickchartButtonEl.disabled = true;  // To prevent multiple clicks.\n",
              "      quickchartButtonEl.classList.add('colab-df-spinner');\n",
              "      try {\n",
              "        const charts = await google.colab.kernel.invokeFunction(\n",
              "            'suggestCharts', [key], {});\n",
              "      } catch (error) {\n",
              "        console.error('Error during call to suggestCharts:', error);\n",
              "      }\n",
              "      quickchartButtonEl.classList.remove('colab-df-spinner');\n",
              "      quickchartButtonEl.classList.add('colab-df-quickchart-complete');\n",
              "    }\n",
              "    (() => {\n",
              "      let quickchartButtonEl =\n",
              "        document.querySelector('#df-aaa1b453-e147-42fa-bbdd-4f88fe70e20b button');\n",
              "      quickchartButtonEl.style.display =\n",
              "        google.colab.kernel.accessAllowed ? 'block' : 'none';\n",
              "    })();\n",
              "  </script>\n",
              "</div>\n",
              "    </div>\n",
              "  </div>\n"
            ]
          },
          "metadata": {},
          "execution_count": 146
        }
      ]
    },
    {
      "cell_type": "code",
      "source": [],
      "metadata": {
        "id": "vKt4BgTuvZf8"
      },
      "execution_count": 118,
      "outputs": []
    },
    {
      "cell_type": "code",
      "source": [
        "def get_top_N_recommendations(user, N=50):\n",
        "    user_ratings = predicted_ratings_df.loc[user]\n",
        "    sorted_user_ratings = user_ratings.sort_values(ascending=False)\n",
        "    top_N_recommendations = list(sorted_user_ratings.index[:N])\n",
        "    return top_N_recommendations"
      ],
      "metadata": {
        "id": "g3piHXTQvDug"
      },
      "execution_count": 126,
      "outputs": []
    },
    {
      "cell_type": "code",
      "source": [],
      "metadata": {
        "id": "0qOgywpF0ZR2"
      },
      "execution_count": null,
      "outputs": []
    },
    {
      "cell_type": "code",
      "source": [
        "user_code_index_map  = dict(zip(list(interaction_matrix_normalized.index),range(0,len(interaction_matrix_normalized.index))))\n",
        "top_recommendations_for_users = {}\n",
        "for user,idx in user_code_index_map.items():\n",
        "    top_recommendations_for_users[user] = get_top_N_recommendations(idx, N=50)\n"
      ],
      "metadata": {
        "id": "PpMdhdo4vJAl"
      },
      "execution_count": 147,
      "outputs": []
    },
    {
      "cell_type": "code",
      "source": [
        "user_predPrecision_map2 = {}\n",
        "for user_code,recoLst in list(top_recommendations_for_users.items())[:]:\n",
        "\n",
        "  any_interactions_truth = list(nonsess_data[(nonsess_data.user_code==user_code)].poll_code.unique())\n",
        "\n",
        "  if len(any_interactions_truth)>=10:\n",
        "    user_predPrecision_map2[user_code] = round(len(set(any_interactions_truth).intersection(set(recoLst[:len(any_interactions_truth)])))/len(any_interactions_truth),2)\n"
      ],
      "metadata": {
        "id": "z12QuA0WvSeJ"
      },
      "execution_count": 150,
      "outputs": []
    },
    {
      "cell_type": "code",
      "source": [
        "### Trying again with k=15,20,30\n",
        "pd.Series(user_predPrecision_map2.values()).describe()"
      ],
      "metadata": {
        "colab": {
          "base_uri": "https://localhost:8080/"
        },
        "id": "90Z8sqXuwDdw",
        "outputId": "5f2389ae-69fb-444b-a1b2-d4292013a447"
      },
      "execution_count": 151,
      "outputs": [
        {
          "output_type": "execute_result",
          "data": {
            "text/plain": [
              "count    2473.000000\n",
              "mean        0.693368\n",
              "std         0.229900\n",
              "min         0.070000\n",
              "25%         0.550000\n",
              "50%         0.750000\n",
              "75%         0.880000\n",
              "max         1.000000\n",
              "dtype: float64"
            ]
          },
          "metadata": {},
          "execution_count": 151
        }
      ]
    },
    {
      "cell_type": "markdown",
      "source": [
        "Here the precision seemed to be on the lower side. After trying k=15,20,30,35, we could get a decent performance at k=35 which is median precision of 75%"
      ],
      "metadata": {
        "id": "RcOIu5vWxZQM"
      }
    },
    {
      "cell_type": "markdown",
      "source": [
        "### Algo 3: LightFM"
      ],
      "metadata": {
        "id": "plnjvAOoynsv"
      }
    },
    {
      "cell_type": "code",
      "source": [
        "# pip install lightfm\n",
        "from lightfm import LightFM\n",
        "from lightfm.data import Dataset"
      ],
      "metadata": {
        "id": "u09X-uROxArS"
      },
      "execution_count": 153,
      "outputs": []
    },
    {
      "cell_type": "code",
      "source": [
        "nonsess_data[['user_code','poll_code','strength']]"
      ],
      "metadata": {
        "id": "h43vlWJozFOG"
      },
      "execution_count": null,
      "outputs": []
    },
    {
      "cell_type": "code",
      "source": [
        "nonsess_data[['user_code','poll_code','strength']].head()"
      ],
      "metadata": {
        "colab": {
          "base_uri": "https://localhost:8080/",
          "height": 206
        },
        "id": "fyVw_fnt2WUS",
        "outputId": "bc4fc5c2-2f5c-4606-e874-4846b063582b"
      },
      "execution_count": 179,
      "outputs": [
        {
          "output_type": "execute_result",
          "data": {
            "text/plain": [
              "   user_code poll_code  strength\n",
              "0  user_2847   poll_27       0.2\n",
              "1  user_2847  poll_220       0.2\n",
              "2  user_2847  poll_190       0.2\n",
              "3  user_2847  poll_153       0.2\n",
              "4  user_2847   poll_42       0.2"
            ],
            "text/html": [
              "\n",
              "  <div id=\"df-59f48eba-f94b-495c-b2aa-228bbc2a6de8\" class=\"colab-df-container\">\n",
              "    <div>\n",
              "<style scoped>\n",
              "    .dataframe tbody tr th:only-of-type {\n",
              "        vertical-align: middle;\n",
              "    }\n",
              "\n",
              "    .dataframe tbody tr th {\n",
              "        vertical-align: top;\n",
              "    }\n",
              "\n",
              "    .dataframe thead th {\n",
              "        text-align: right;\n",
              "    }\n",
              "</style>\n",
              "<table border=\"1\" class=\"dataframe\">\n",
              "  <thead>\n",
              "    <tr style=\"text-align: right;\">\n",
              "      <th></th>\n",
              "      <th>user_code</th>\n",
              "      <th>poll_code</th>\n",
              "      <th>strength</th>\n",
              "    </tr>\n",
              "  </thead>\n",
              "  <tbody>\n",
              "    <tr>\n",
              "      <th>0</th>\n",
              "      <td>user_2847</td>\n",
              "      <td>poll_27</td>\n",
              "      <td>0.2</td>\n",
              "    </tr>\n",
              "    <tr>\n",
              "      <th>1</th>\n",
              "      <td>user_2847</td>\n",
              "      <td>poll_220</td>\n",
              "      <td>0.2</td>\n",
              "    </tr>\n",
              "    <tr>\n",
              "      <th>2</th>\n",
              "      <td>user_2847</td>\n",
              "      <td>poll_190</td>\n",
              "      <td>0.2</td>\n",
              "    </tr>\n",
              "    <tr>\n",
              "      <th>3</th>\n",
              "      <td>user_2847</td>\n",
              "      <td>poll_153</td>\n",
              "      <td>0.2</td>\n",
              "    </tr>\n",
              "    <tr>\n",
              "      <th>4</th>\n",
              "      <td>user_2847</td>\n",
              "      <td>poll_42</td>\n",
              "      <td>0.2</td>\n",
              "    </tr>\n",
              "  </tbody>\n",
              "</table>\n",
              "</div>\n",
              "    <div class=\"colab-df-buttons\">\n",
              "\n",
              "  <div class=\"colab-df-container\">\n",
              "    <button class=\"colab-df-convert\" onclick=\"convertToInteractive('df-59f48eba-f94b-495c-b2aa-228bbc2a6de8')\"\n",
              "            title=\"Convert this dataframe to an interactive table.\"\n",
              "            style=\"display:none;\">\n",
              "\n",
              "  <svg xmlns=\"http://www.w3.org/2000/svg\" height=\"24px\" viewBox=\"0 -960 960 960\">\n",
              "    <path d=\"M120-120v-720h720v720H120Zm60-500h600v-160H180v160Zm220 220h160v-160H400v160Zm0 220h160v-160H400v160ZM180-400h160v-160H180v160Zm440 0h160v-160H620v160ZM180-180h160v-160H180v160Zm440 0h160v-160H620v160Z\"/>\n",
              "  </svg>\n",
              "    </button>\n",
              "\n",
              "  <style>\n",
              "    .colab-df-container {\n",
              "      display:flex;\n",
              "      gap: 12px;\n",
              "    }\n",
              "\n",
              "    .colab-df-convert {\n",
              "      background-color: #E8F0FE;\n",
              "      border: none;\n",
              "      border-radius: 50%;\n",
              "      cursor: pointer;\n",
              "      display: none;\n",
              "      fill: #1967D2;\n",
              "      height: 32px;\n",
              "      padding: 0 0 0 0;\n",
              "      width: 32px;\n",
              "    }\n",
              "\n",
              "    .colab-df-convert:hover {\n",
              "      background-color: #E2EBFA;\n",
              "      box-shadow: 0px 1px 2px rgba(60, 64, 67, 0.3), 0px 1px 3px 1px rgba(60, 64, 67, 0.15);\n",
              "      fill: #174EA6;\n",
              "    }\n",
              "\n",
              "    .colab-df-buttons div {\n",
              "      margin-bottom: 4px;\n",
              "    }\n",
              "\n",
              "    [theme=dark] .colab-df-convert {\n",
              "      background-color: #3B4455;\n",
              "      fill: #D2E3FC;\n",
              "    }\n",
              "\n",
              "    [theme=dark] .colab-df-convert:hover {\n",
              "      background-color: #434B5C;\n",
              "      box-shadow: 0px 1px 3px 1px rgba(0, 0, 0, 0.15);\n",
              "      filter: drop-shadow(0px 1px 2px rgba(0, 0, 0, 0.3));\n",
              "      fill: #FFFFFF;\n",
              "    }\n",
              "  </style>\n",
              "\n",
              "    <script>\n",
              "      const buttonEl =\n",
              "        document.querySelector('#df-59f48eba-f94b-495c-b2aa-228bbc2a6de8 button.colab-df-convert');\n",
              "      buttonEl.style.display =\n",
              "        google.colab.kernel.accessAllowed ? 'block' : 'none';\n",
              "\n",
              "      async function convertToInteractive(key) {\n",
              "        const element = document.querySelector('#df-59f48eba-f94b-495c-b2aa-228bbc2a6de8');\n",
              "        const dataTable =\n",
              "          await google.colab.kernel.invokeFunction('convertToInteractive',\n",
              "                                                    [key], {});\n",
              "        if (!dataTable) return;\n",
              "\n",
              "        const docLinkHtml = 'Like what you see? Visit the ' +\n",
              "          '<a target=\"_blank\" href=https://colab.research.google.com/notebooks/data_table.ipynb>data table notebook</a>'\n",
              "          + ' to learn more about interactive tables.';\n",
              "        element.innerHTML = '';\n",
              "        dataTable['output_type'] = 'display_data';\n",
              "        await google.colab.output.renderOutput(dataTable, element);\n",
              "        const docLink = document.createElement('div');\n",
              "        docLink.innerHTML = docLinkHtml;\n",
              "        element.appendChild(docLink);\n",
              "      }\n",
              "    </script>\n",
              "  </div>\n",
              "\n",
              "\n",
              "<div id=\"df-f80fa13b-0db5-4abf-bae3-d8be1a2e71cd\">\n",
              "  <button class=\"colab-df-quickchart\" onclick=\"quickchart('df-f80fa13b-0db5-4abf-bae3-d8be1a2e71cd')\"\n",
              "            title=\"Suggest charts.\"\n",
              "            style=\"display:none;\">\n",
              "\n",
              "<svg xmlns=\"http://www.w3.org/2000/svg\" height=\"24px\"viewBox=\"0 0 24 24\"\n",
              "     width=\"24px\">\n",
              "    <g>\n",
              "        <path d=\"M19 3H5c-1.1 0-2 .9-2 2v14c0 1.1.9 2 2 2h14c1.1 0 2-.9 2-2V5c0-1.1-.9-2-2-2zM9 17H7v-7h2v7zm4 0h-2V7h2v10zm4 0h-2v-4h2v4z\"/>\n",
              "    </g>\n",
              "</svg>\n",
              "  </button>\n",
              "\n",
              "<style>\n",
              "  .colab-df-quickchart {\n",
              "      --bg-color: #E8F0FE;\n",
              "      --fill-color: #1967D2;\n",
              "      --hover-bg-color: #E2EBFA;\n",
              "      --hover-fill-color: #174EA6;\n",
              "      --disabled-fill-color: #AAA;\n",
              "      --disabled-bg-color: #DDD;\n",
              "  }\n",
              "\n",
              "  [theme=dark] .colab-df-quickchart {\n",
              "      --bg-color: #3B4455;\n",
              "      --fill-color: #D2E3FC;\n",
              "      --hover-bg-color: #434B5C;\n",
              "      --hover-fill-color: #FFFFFF;\n",
              "      --disabled-bg-color: #3B4455;\n",
              "      --disabled-fill-color: #666;\n",
              "  }\n",
              "\n",
              "  .colab-df-quickchart {\n",
              "    background-color: var(--bg-color);\n",
              "    border: none;\n",
              "    border-radius: 50%;\n",
              "    cursor: pointer;\n",
              "    display: none;\n",
              "    fill: var(--fill-color);\n",
              "    height: 32px;\n",
              "    padding: 0;\n",
              "    width: 32px;\n",
              "  }\n",
              "\n",
              "  .colab-df-quickchart:hover {\n",
              "    background-color: var(--hover-bg-color);\n",
              "    box-shadow: 0 1px 2px rgba(60, 64, 67, 0.3), 0 1px 3px 1px rgba(60, 64, 67, 0.15);\n",
              "    fill: var(--button-hover-fill-color);\n",
              "  }\n",
              "\n",
              "  .colab-df-quickchart-complete:disabled,\n",
              "  .colab-df-quickchart-complete:disabled:hover {\n",
              "    background-color: var(--disabled-bg-color);\n",
              "    fill: var(--disabled-fill-color);\n",
              "    box-shadow: none;\n",
              "  }\n",
              "\n",
              "  .colab-df-spinner {\n",
              "    border: 2px solid var(--fill-color);\n",
              "    border-color: transparent;\n",
              "    border-bottom-color: var(--fill-color);\n",
              "    animation:\n",
              "      spin 1s steps(1) infinite;\n",
              "  }\n",
              "\n",
              "  @keyframes spin {\n",
              "    0% {\n",
              "      border-color: transparent;\n",
              "      border-bottom-color: var(--fill-color);\n",
              "      border-left-color: var(--fill-color);\n",
              "    }\n",
              "    20% {\n",
              "      border-color: transparent;\n",
              "      border-left-color: var(--fill-color);\n",
              "      border-top-color: var(--fill-color);\n",
              "    }\n",
              "    30% {\n",
              "      border-color: transparent;\n",
              "      border-left-color: var(--fill-color);\n",
              "      border-top-color: var(--fill-color);\n",
              "      border-right-color: var(--fill-color);\n",
              "    }\n",
              "    40% {\n",
              "      border-color: transparent;\n",
              "      border-right-color: var(--fill-color);\n",
              "      border-top-color: var(--fill-color);\n",
              "    }\n",
              "    60% {\n",
              "      border-color: transparent;\n",
              "      border-right-color: var(--fill-color);\n",
              "    }\n",
              "    80% {\n",
              "      border-color: transparent;\n",
              "      border-right-color: var(--fill-color);\n",
              "      border-bottom-color: var(--fill-color);\n",
              "    }\n",
              "    90% {\n",
              "      border-color: transparent;\n",
              "      border-bottom-color: var(--fill-color);\n",
              "    }\n",
              "  }\n",
              "</style>\n",
              "\n",
              "  <script>\n",
              "    async function quickchart(key) {\n",
              "      const quickchartButtonEl =\n",
              "        document.querySelector('#' + key + ' button');\n",
              "      quickchartButtonEl.disabled = true;  // To prevent multiple clicks.\n",
              "      quickchartButtonEl.classList.add('colab-df-spinner');\n",
              "      try {\n",
              "        const charts = await google.colab.kernel.invokeFunction(\n",
              "            'suggestCharts', [key], {});\n",
              "      } catch (error) {\n",
              "        console.error('Error during call to suggestCharts:', error);\n",
              "      }\n",
              "      quickchartButtonEl.classList.remove('colab-df-spinner');\n",
              "      quickchartButtonEl.classList.add('colab-df-quickchart-complete');\n",
              "    }\n",
              "    (() => {\n",
              "      let quickchartButtonEl =\n",
              "        document.querySelector('#df-f80fa13b-0db5-4abf-bae3-d8be1a2e71cd button');\n",
              "      quickchartButtonEl.style.display =\n",
              "        google.colab.kernel.accessAllowed ? 'block' : 'none';\n",
              "    })();\n",
              "  </script>\n",
              "</div>\n",
              "    </div>\n",
              "  </div>\n"
            ]
          },
          "metadata": {},
          "execution_count": 179
        }
      ]
    },
    {
      "cell_type": "code",
      "source": [],
      "metadata": {
        "id": "AeioOQ032hYf"
      },
      "execution_count": 195,
      "outputs": []
    },
    {
      "cell_type": "code",
      "source": [
        "dataset = Dataset()\n",
        "dataset.fit(users=nonsess_data['user_code'], items=nonsess_data['poll_code'])"
      ],
      "metadata": {
        "id": "HIsOoxbgwoKj"
      },
      "execution_count": 206,
      "outputs": []
    },
    {
      "cell_type": "code",
      "source": [
        "(interactions, weights) = dataset.build_interactions((user, poll, strength) for user, poll, strength in zip(nonsess_data['user_code'], nonsess_data['poll_code'], nonsess_data['strength']))"
      ],
      "metadata": {
        "id": "UxKn3UduzKFS"
      },
      "execution_count": 207,
      "outputs": []
    },
    {
      "cell_type": "code",
      "source": [],
      "metadata": {
        "id": "86VX4ighJMdd"
      },
      "execution_count": 252,
      "outputs": []
    },
    {
      "cell_type": "code",
      "source": [
        "model = LightFM(no_components=50,learning_rate=0.05,loss='warp')\n",
        "model.fit(interactions, epochs=10, num_threads=4)"
      ],
      "metadata": {
        "colab": {
          "base_uri": "https://localhost:8080/"
        },
        "id": "KTQFLCqZzXPo",
        "outputId": "1a92945c-b761-4c5d-e7c1-9457da0fd191"
      },
      "execution_count": 257,
      "outputs": [
        {
          "output_type": "execute_result",
          "data": {
            "text/plain": [
              "<lightfm.lightfm.LightFM at 0x7cc643f58190>"
            ]
          },
          "metadata": {},
          "execution_count": 257
        }
      ]
    },
    {
      "cell_type": "code",
      "source": [],
      "metadata": {
        "id": "Yuvf9ObLJLNQ"
      },
      "execution_count": null,
      "outputs": []
    },
    {
      "cell_type": "code",
      "source": [
        "users = nonsess_data['user_code'].unique()\n",
        "unique_polls = nonsess_data['poll_code'].unique()\n",
        "top_recommendations_for_users = {}\n",
        "\n",
        "for user in users:\n",
        "\n",
        "  user_id = dataset.mapping()[0][user]\n",
        "  scores = model.predict(user_id, np.arange(interactions.shape[1]))\n",
        "\n",
        "  top_N_items = np.argsort(-scores)[:N]\n",
        "\n",
        "  top_poll_recs = [unique_polls[item] for item in top_N_items]\n",
        "  top_recommendations_for_users[user] = top_poll_recs\n",
        "\n",
        ""
      ],
      "metadata": {
        "id": "xBn224c50B3E"
      },
      "execution_count": 258,
      "outputs": []
    },
    {
      "cell_type": "code",
      "source": [
        "user_predPrecision_map3 = {}\n",
        "for user_code,recoLst in list(top_recommendations_for_users.items())[:]:\n",
        "\n",
        "  any_interactions_truth = list(nonsess_data[(nonsess_data.user_code==user_code)].poll_code.unique())\n",
        "\n",
        "  if len(any_interactions_truth)>=10:\n",
        "    user_predPrecision_map3[user_code] = round(len(set(any_interactions_truth).intersection(set(recoLst[:len(any_interactions_truth)])))/len(any_interactions_truth),2)\n"
      ],
      "metadata": {
        "id": "QQszdpOlEqUz"
      },
      "execution_count": 259,
      "outputs": []
    },
    {
      "cell_type": "code",
      "source": [
        "# no_components=50 #epochs 10\n",
        "pd.Series(user_predPrecision_map3.values()).describe()\n"
      ],
      "metadata": {
        "colab": {
          "base_uri": "https://localhost:8080/"
        },
        "id": "e4m3StkrL4vM",
        "outputId": "603962fd-dc5d-4868-e9f4-69e1589abcd5"
      },
      "execution_count": 260,
      "outputs": [
        {
          "output_type": "execute_result",
          "data": {
            "text/plain": [
              "count    2473.000000\n",
              "mean        0.730728\n",
              "std         0.232294\n",
              "min         0.080000\n",
              "25%         0.610000\n",
              "50%         0.800000\n",
              "75%         0.910000\n",
              "max         1.000000\n",
              "dtype: float64"
            ]
          },
          "metadata": {},
          "execution_count": 260
        }
      ]
    },
    {
      "cell_type": "code",
      "source": [
        "# no_components=150 #epochs 50\n",
        "\n",
        "pd.Series(user_predPrecision_map3.values()).describe()\n"
      ],
      "metadata": {
        "colab": {
          "base_uri": "https://localhost:8080/"
        },
        "id": "D38M6Odv0Nvt",
        "outputId": "2e0a3dd5-8aad-47c2-e5f3-3014116d811f"
      },
      "execution_count": 250,
      "outputs": [
        {
          "output_type": "execute_result",
          "data": {
            "text/plain": [
              "count    2473.000000\n",
              "mean        0.861844\n",
              "std         0.234520\n",
              "min         0.080000\n",
              "25%         0.810000\n",
              "50%         1.000000\n",
              "75%         1.000000\n",
              "max         1.000000\n",
              "dtype: float64"
            ]
          },
          "metadata": {},
          "execution_count": 250
        }
      ]
    },
    {
      "cell_type": "markdown",
      "source": [
        "Performance is much higher for LightFM with about Mean Precision being around 73% and median precision at 80%. It further improves by taking epochs=50, n_components =150 to a staggering 86%\n",
        "\n",
        "#### Lets try Testing a little more rigidly by choosing the find only strong positive interactions within reco set of a user ('Polls Answered','Shares')"
      ],
      "metadata": {
        "id": "s_DFPwJ9G9Bd"
      }
    },
    {
      "cell_type": "code",
      "source": [
        "user_predPrecision_map3 = {}\n",
        "for user_code,recoLst in list(top_recommendations_for_users.items())[:]:\n",
        "\n",
        "  any_interactions_truth = list(nonsess_data[(nonsess_data.user_code==user_code)&(nonsess_data.event.isin(['Polls Answered','Shares']))].poll_code.unique())\n",
        "\n",
        "  if len(any_interactions_truth)>=10:\n",
        "    denominator = len(any_interactions_truth) if len(any_interactions_truth)<=50 else 50\n",
        "    user_predPrecision_map3[user_code] = round(len(set(any_interactions_truth).intersection(set(recoLst[:len(any_interactions_truth)])))/denominator,2)"
      ],
      "metadata": {
        "id": "xS2njabcRANi"
      },
      "execution_count": 280,
      "outputs": []
    },
    {
      "cell_type": "code",
      "source": [
        "pd.Series(user_predPrecision_map3.values()).describe()\n"
      ],
      "metadata": {
        "colab": {
          "base_uri": "https://localhost:8080/"
        },
        "id": "bGzK-C9USpxM",
        "outputId": "f9f6dec6-0399-4447-befe-e355b0f5ad9c"
      },
      "execution_count": 281,
      "outputs": [
        {
          "output_type": "execute_result",
          "data": {
            "text/plain": [
              "count    2473.000000\n",
              "mean        0.803579\n",
              "std         0.180207\n",
              "min         0.100000\n",
              "25%         0.710000\n",
              "50%         0.850000\n",
              "75%         0.940000\n",
              "max         1.000000\n",
              "dtype: float64"
            ]
          },
          "metadata": {},
          "execution_count": 281
        }
      ]
    },
    {
      "cell_type": "markdown",
      "source": [
        "### Based on users having >=10 strong positive interaction polls, on an average, recommendations contain 80% of those very same polls.    "
      ],
      "metadata": {
        "id": "nNFGknB4S_qt"
      }
    },
    {
      "cell_type": "code",
      "source": [],
      "metadata": {
        "id": "cG89fOrES7fl"
      },
      "execution_count": null,
      "outputs": []
    },
    {
      "cell_type": "markdown",
      "source": [
        "### Trying the classic ROC for evaluating"
      ],
      "metadata": {
        "id": "1lLG_pZ9TmrV"
      }
    },
    {
      "cell_type": "code",
      "source": [
        "from lightfm.evaluation import auc_score\n"
      ],
      "metadata": {
        "id": "RnV6M2D5KA-0"
      },
      "execution_count": 253,
      "outputs": []
    },
    {
      "cell_type": "code",
      "source": [
        "# no_components=50 #epochs 10\n",
        "\n",
        "top_N_items = [top_recommendations_for_users[user] for user in users]\n",
        "auc_score(model, interactions, user_features=None, item_features=None, num_threads=4).mean()"
      ],
      "metadata": {
        "colab": {
          "base_uri": "https://localhost:8080/"
        },
        "id": "3Dre-7veMNtz",
        "outputId": "f1d08893-5a2f-45f3-b4b0-5fde05fc41c5"
      },
      "execution_count": 261,
      "outputs": [
        {
          "output_type": "execute_result",
          "data": {
            "text/plain": [
              "0.9889588"
            ]
          },
          "metadata": {},
          "execution_count": 261
        }
      ]
    },
    {
      "cell_type": "code",
      "source": [
        "# no_components=150 #epochs 50\n",
        "\n",
        "top_N_items = [top_recommendations_for_users[user] for user in users]\n",
        "auc_score(model, interactions, user_features=None, item_features=None, num_threads=4).mean()"
      ],
      "metadata": {
        "colab": {
          "base_uri": "https://localhost:8080/"
        },
        "id": "Y9lUPEC20krl",
        "outputId": "1e08012e-2def-47f9-84f9-3a3458a9e6d8"
      },
      "execution_count": 255,
      "outputs": [
        {
          "output_type": "execute_result",
          "data": {
            "text/plain": [
              "0.9999814"
            ]
          },
          "metadata": {},
          "execution_count": 255
        }
      ]
    },
    {
      "cell_type": "code",
      "source": [
        "users_satisfying_criterion = 0\n",
        "eligible_to_be_evaluated = 0\n",
        "for user_code,recoLst in list(top_recommendations_for_users.items())[:]:\n",
        "\n",
        "  any_interactions_truth = list(nonsess_data[(nonsess_data.user_code==user_code)&(nonsess_data.event.isin(['Polls Answered','Shares']))].poll_code.unique())\n",
        "\n",
        "  if len(any_interactions_truth)>=5:\n",
        "      eligible_to_be_evaluated +=1\n",
        "\n",
        "      has_positive_ranking = any(item in any_interactions_truth for item in recoLst[:5])\n",
        "      if has_positive_ranking:\n",
        "          users_satisfying_criterion += 1\n",
        "\n",
        "\n",
        "percentage_satisfying_criterion = (users_satisfying_criterion / eligible_to_be_evaluated) * 100\n",
        "\n",
        "print(f\"Percentage of users with at least one STRONGLY 'POSITIVELY' INTERACTED item ranked higher than non-interacted items in top 5: {percentage_satisfying_criterion}%\")"
      ],
      "metadata": {
        "colab": {
          "base_uri": "https://localhost:8080/"
        },
        "id": "onuUDcwx0zze",
        "outputId": "4a2d6efa-982c-4797-a456-eaa6dd97a993"
      },
      "execution_count": 270,
      "outputs": [
        {
          "output_type": "stream",
          "name": "stdout",
          "text": [
            "Percentage of users with at least one STRONGLY 'POSITIVELY' INTERACTED item ranked higher than non-interacted items in top 5: 99.26497611172364%\n"
          ]
        }
      ]
    },
    {
      "cell_type": "code",
      "source": [
        "user_code = 'user_712'\n",
        "top_recommendations_for_users[user_code][:5]"
      ],
      "metadata": {
        "colab": {
          "base_uri": "https://localhost:8080/"
        },
        "id": "_FXYEGtD0uwR",
        "outputId": "05714127-883f-4421-877a-05f208ec5590"
      },
      "execution_count": 277,
      "outputs": [
        {
          "output_type": "execute_result",
          "data": {
            "text/plain": [
              "['poll_228', 'poll_14', 'poll_95', 'poll_544', 'poll_141']"
            ]
          },
          "metadata": {},
          "execution_count": 277
        }
      ]
    },
    {
      "cell_type": "code",
      "source": [
        "nonsess_data[(nonsess_data.user_code==user_code)&(nonsess_data.event.isin(['Polls Answered','Shares']))].poll_code.unique()"
      ],
      "metadata": {
        "colab": {
          "base_uri": "https://localhost:8080/"
        },
        "id": "hrZJDMlJ2HFm",
        "outputId": "24cc642e-1d67-4e84-accc-ac260943782e"
      },
      "execution_count": 279,
      "outputs": [
        {
          "output_type": "execute_result",
          "data": {
            "text/plain": [
              "array(['poll_98', 'poll_688', 'poll_647', 'poll_54', 'poll_228'],\n",
              "      dtype=object)"
            ]
          },
          "metadata": {},
          "execution_count": 279
        }
      ]
    },
    {
      "cell_type": "code",
      "source": [],
      "metadata": {
        "id": "FRrBrmP0NQyk"
      },
      "execution_count": null,
      "outputs": []
    },
    {
      "cell_type": "markdown",
      "source": [
        "## What else could be done?\n",
        "\n",
        "\n",
        "\n",
        "1.  Co-Occurence and Clustering Algorithms - using the categories, we can create a user vector that has co-occurrence values of users against different categories based on which poll they have interacted. Using the those vectors, we can group similar users// or simply cluster the users.\n",
        "\n",
        "For each user, we can use the cluster or N similar users to create their top poll recommendation\n",
        "\n",
        "2.   Can do some bit hybrid generation using content similarity---- polls can be grouped on the basis of categories (which i so painfully imputed) and users  can be grouped on the basis of their location,gender, college (NaNs need to be cleaned) and then user-poll similarity can be found out if both can be encoded using some kind of encoders to create embeddings. A simple siamese would then train the embeddings to resemble eachother.  [Data preparation for this will take some time as we would need to draw easy, medium and hard positives and negatives out of the interactions]\n",
        "\n"
      ],
      "metadata": {
        "id": "6Pn91_hMTwU-"
      }
    },
    {
      "cell_type": "code",
      "source": [],
      "metadata": {
        "id": "9mG0zGZEVEip"
      },
      "execution_count": null,
      "outputs": []
    }
  ]
}